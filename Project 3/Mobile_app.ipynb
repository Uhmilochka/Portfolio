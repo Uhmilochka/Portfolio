{
 "cells": [
  {
   "cell_type": "markdown",
   "metadata": {},
   "source": [
    "### Обзор данных"
   ]
  },
  {
   "cell_type": "code",
   "execution_count": 5,
   "metadata": {},
   "outputs": [
    {
     "name": "stdout",
     "output_type": "stream",
     "text": [
      "Requirement already satisfied: kaleido in /opt/conda/lib/python3.9/site-packages (0.2.1)\r\n"
     ]
    }
   ],
   "source": [
    "# импортируем необходимые библиотеки\n",
    "import pandas as pd\n",
    "import scipy.stats as stats\n",
    "import datetime as dt\n",
    "import numpy as np\n",
    "import matplotlib.pyplot as plt\n",
    "import seaborn as sns\n",
    "from pandas.plotting import register_matplotlib_converters\n",
    "import warnings\n",
    "from plotly import graph_objects as go\n",
    "import plotly.express as px\n",
    "import math as mth\n",
    "!pip install -U kaleido\n",
    "\n",
    "# задаем ширину столбцов датасета\n",
    "pd.set_option('max_colwidth', 120)\n",
    "pd.set_option('display.width', 500)"
   ]
  },
  {
   "cell_type": "code",
   "execution_count": 7,
   "metadata": {},
   "outputs": [
    {
     "name": "stdout",
     "output_type": "stream",
     "text": [
      "<class 'pandas.core.frame.DataFrame'>\n",
      "RangeIndex: 244126 entries, 0 to 244125\n",
      "Data columns (total 4 columns):\n",
      " #   Column          Non-Null Count   Dtype \n",
      "---  ------          --------------   ----- \n",
      " 0   EventName       244126 non-null  object\n",
      " 1   DeviceIDHash    244126 non-null  int64 \n",
      " 2   EventTimestamp  244126 non-null  int64 \n",
      " 3   ExpId           244126 non-null  int64 \n",
      "dtypes: int64(3), object(1)\n",
      "memory usage: 7.5+ MB\n"
     ]
    }
   ],
   "source": [
    "# просмотр общей информации о датасете\n",
    "logs.info()"
   ]
  },
  {
   "cell_type": "code",
   "execution_count": 8,
   "metadata": {},
   "outputs": [
    {
     "data": {
      "text/html": [
       "<div>\n",
       "<style scoped>\n",
       "    .dataframe tbody tr th:only-of-type {\n",
       "        vertical-align: middle;\n",
       "    }\n",
       "\n",
       "    .dataframe tbody tr th {\n",
       "        vertical-align: top;\n",
       "    }\n",
       "\n",
       "    .dataframe thead th {\n",
       "        text-align: right;\n",
       "    }\n",
       "</style>\n",
       "<table border=\"1\" class=\"dataframe\">\n",
       "  <thead>\n",
       "    <tr style=\"text-align: right;\">\n",
       "      <th></th>\n",
       "      <th>EventName</th>\n",
       "      <th>DeviceIDHash</th>\n",
       "      <th>EventTimestamp</th>\n",
       "      <th>ExpId</th>\n",
       "    </tr>\n",
       "  </thead>\n",
       "  <tbody>\n",
       "    <tr>\n",
       "      <th>0</th>\n",
       "      <td>MainScreenAppear</td>\n",
       "      <td>4575588528974610257</td>\n",
       "      <td>1564029816</td>\n",
       "      <td>246</td>\n",
       "    </tr>\n",
       "    <tr>\n",
       "      <th>1</th>\n",
       "      <td>MainScreenAppear</td>\n",
       "      <td>7416695313311560658</td>\n",
       "      <td>1564053102</td>\n",
       "      <td>246</td>\n",
       "    </tr>\n",
       "    <tr>\n",
       "      <th>2</th>\n",
       "      <td>PaymentScreenSuccessful</td>\n",
       "      <td>3518123091307005509</td>\n",
       "      <td>1564054127</td>\n",
       "      <td>248</td>\n",
       "    </tr>\n",
       "    <tr>\n",
       "      <th>3</th>\n",
       "      <td>CartScreenAppear</td>\n",
       "      <td>3518123091307005509</td>\n",
       "      <td>1564054127</td>\n",
       "      <td>248</td>\n",
       "    </tr>\n",
       "    <tr>\n",
       "      <th>4</th>\n",
       "      <td>PaymentScreenSuccessful</td>\n",
       "      <td>6217807653094995999</td>\n",
       "      <td>1564055322</td>\n",
       "      <td>248</td>\n",
       "    </tr>\n",
       "  </tbody>\n",
       "</table>\n",
       "</div>"
      ],
      "text/plain": [
       "                 EventName         DeviceIDHash  EventTimestamp  ExpId\n",
       "0         MainScreenAppear  4575588528974610257      1564029816    246\n",
       "1         MainScreenAppear  7416695313311560658      1564053102    246\n",
       "2  PaymentScreenSuccessful  3518123091307005509      1564054127    248\n",
       "3         CartScreenAppear  3518123091307005509      1564054127    248\n",
       "4  PaymentScreenSuccessful  6217807653094995999      1564055322    248"
      ]
     },
     "execution_count": 8,
     "metadata": {},
     "output_type": "execute_result"
    }
   ],
   "source": [
    "# выводим первые 5 строк датасета \n",
    "logs.head()"
   ]
  },
  {
   "cell_type": "markdown",
   "metadata": {},
   "source": [
    "#### Вывод\n",
    "Исходный датафрейм состоит из 244126 строк, 4 столбцов. Тип данных - int64(3), object(1). Столбец EventTimestamp имеет ошибочный тип данных int64, не соответствующий дате и времени события. Наименование столбцов оформлено не в соответствии со стилем написания Snake case (змеиный регистр), поэтому требует переименования."
   ]
  },
  {
   "cell_type": "markdown",
   "metadata": {},
   "source": [
    "### Предобработка данных"
   ]
  },
  {
   "cell_type": "code",
   "execution_count": 9,
   "metadata": {},
   "outputs": [],
   "source": [
    "# переименование столбцов\n",
    "logs.rename(columns = {'EventName':'event_name', 'DeviceIDHash':'user_id', 'EventTimestamp':'event_time', 'ExpId':'group'}\\\n",
    "                , inplace = True )"
   ]
  },
  {
   "cell_type": "code",
   "execution_count": 10,
   "metadata": {},
   "outputs": [],
   "source": [
    "# меняем тип данных в столбце logs['event_time']\n",
    "logs['event_time'] = pd.to_datetime(logs['event_time'], unit='s')"
   ]
  },
  {
   "cell_type": "code",
   "execution_count": 11,
   "metadata": {},
   "outputs": [],
   "source": [
    "# создаем столбец даты событий\n",
    "logs['event_date'] = pd.to_datetime(logs['event_time']).dt.date"
   ]
  },
  {
   "cell_type": "code",
   "execution_count": 12,
   "metadata": {},
   "outputs": [],
   "source": [
    "# вводим переменную для исходного датасета\n",
    "first_log = logs.copy()"
   ]
  },
  {
   "cell_type": "code",
   "execution_count": 13,
   "metadata": {},
   "outputs": [
    {
     "data": {
      "text/plain": [
       "413"
      ]
     },
     "execution_count": 13,
     "metadata": {},
     "output_type": "execute_result"
    }
   ],
   "source": [
    "# анализируем количество дубликатов по сумме ключевых параметров\n",
    "logs.duplicated(subset=['event_name', 'user_id', 'event_time', 'group', 'event_date']).sum()"
   ]
  },
  {
   "cell_type": "code",
   "execution_count": 14,
   "metadata": {},
   "outputs": [],
   "source": [
    "# удаляем дубликаты по подмножеству\n",
    "logs = logs.drop_duplicates(subset=['event_name', 'user_id', 'event_time', 'group', 'event_date'], keep='first')"
   ]
  },
  {
   "cell_type": "code",
   "execution_count": 15,
   "metadata": {},
   "outputs": [
    {
     "data": {
      "text/plain": [
       "event_name    0\n",
       "user_id       0\n",
       "event_time    0\n",
       "group         0\n",
       "event_date    0\n",
       "dtype: int64"
      ]
     },
     "execution_count": 15,
     "metadata": {},
     "output_type": "execute_result"
    }
   ],
   "source": [
    "# проверяем наличие пропущенных значений в датасете\n",
    "logs.isna().sum()"
   ]
  },
  {
   "cell_type": "code",
   "execution_count": 16,
   "metadata": {},
   "outputs": [
    {
     "name": "stdout",
     "output_type": "stream",
     "text": [
      "<class 'pandas.core.frame.DataFrame'>\n",
      "Int64Index: 243713 entries, 0 to 244125\n",
      "Data columns (total 5 columns):\n",
      " #   Column      Non-Null Count   Dtype         \n",
      "---  ------      --------------   -----         \n",
      " 0   event_name  243713 non-null  object        \n",
      " 1   user_id     243713 non-null  int64         \n",
      " 2   event_time  243713 non-null  datetime64[ns]\n",
      " 3   group       243713 non-null  int64         \n",
      " 4   event_date  243713 non-null  object        \n",
      "dtypes: datetime64[ns](1), int64(2), object(2)\n",
      "memory usage: 11.2+ MB\n"
     ]
    }
   ],
   "source": [
    "# проверяем общую информацию после обработки данных\n",
    "logs.info()"
   ]
  },
  {
   "cell_type": "code",
   "execution_count": 17,
   "metadata": {},
   "outputs": [
    {
     "data": {
      "text/html": [
       "<div>\n",
       "<style scoped>\n",
       "    .dataframe tbody tr th:only-of-type {\n",
       "        vertical-align: middle;\n",
       "    }\n",
       "\n",
       "    .dataframe tbody tr th {\n",
       "        vertical-align: top;\n",
       "    }\n",
       "\n",
       "    .dataframe thead th {\n",
       "        text-align: right;\n",
       "    }\n",
       "</style>\n",
       "<table border=\"1\" class=\"dataframe\">\n",
       "  <thead>\n",
       "    <tr style=\"text-align: right;\">\n",
       "      <th></th>\n",
       "      <th>event_name</th>\n",
       "      <th>user_id</th>\n",
       "      <th>event_time</th>\n",
       "      <th>group</th>\n",
       "      <th>event_date</th>\n",
       "    </tr>\n",
       "  </thead>\n",
       "  <tbody>\n",
       "    <tr>\n",
       "      <th>0</th>\n",
       "      <td>MainScreenAppear</td>\n",
       "      <td>4575588528974610257</td>\n",
       "      <td>2019-07-25 04:43:36</td>\n",
       "      <td>246</td>\n",
       "      <td>2019-07-25</td>\n",
       "    </tr>\n",
       "    <tr>\n",
       "      <th>1</th>\n",
       "      <td>MainScreenAppear</td>\n",
       "      <td>7416695313311560658</td>\n",
       "      <td>2019-07-25 11:11:42</td>\n",
       "      <td>246</td>\n",
       "      <td>2019-07-25</td>\n",
       "    </tr>\n",
       "    <tr>\n",
       "      <th>2</th>\n",
       "      <td>PaymentScreenSuccessful</td>\n",
       "      <td>3518123091307005509</td>\n",
       "      <td>2019-07-25 11:28:47</td>\n",
       "      <td>248</td>\n",
       "      <td>2019-07-25</td>\n",
       "    </tr>\n",
       "    <tr>\n",
       "      <th>3</th>\n",
       "      <td>CartScreenAppear</td>\n",
       "      <td>3518123091307005509</td>\n",
       "      <td>2019-07-25 11:28:47</td>\n",
       "      <td>248</td>\n",
       "      <td>2019-07-25</td>\n",
       "    </tr>\n",
       "    <tr>\n",
       "      <th>4</th>\n",
       "      <td>PaymentScreenSuccessful</td>\n",
       "      <td>6217807653094995999</td>\n",
       "      <td>2019-07-25 11:48:42</td>\n",
       "      <td>248</td>\n",
       "      <td>2019-07-25</td>\n",
       "    </tr>\n",
       "  </tbody>\n",
       "</table>\n",
       "</div>"
      ],
      "text/plain": [
       "                event_name              user_id          event_time  group  event_date\n",
       "0         MainScreenAppear  4575588528974610257 2019-07-25 04:43:36    246  2019-07-25\n",
       "1         MainScreenAppear  7416695313311560658 2019-07-25 11:11:42    246  2019-07-25\n",
       "2  PaymentScreenSuccessful  3518123091307005509 2019-07-25 11:28:47    248  2019-07-25\n",
       "3         CartScreenAppear  3518123091307005509 2019-07-25 11:28:47    248  2019-07-25\n",
       "4  PaymentScreenSuccessful  6217807653094995999 2019-07-25 11:48:42    248  2019-07-25"
      ]
     },
     "execution_count": 17,
     "metadata": {},
     "output_type": "execute_result"
    }
   ],
   "source": [
    "# проверяем первые 5 строк датасета после обработки данных\n",
    "logs.head()"
   ]
  },
  {
   "cell_type": "markdown",
   "metadata": {},
   "source": [
    "#### Вывод\n",
    "\n",
    "В процессе предобработки данных сделано:\n",
    "\n",
    "1. Написание столбцов переименовано и приведено в соответствие со стилем Snake case;\n",
    "2. Исправлен тип данных в столбце logs['event_time'] на datetime64;\n",
    "3. Добавлен столбец event_date с датой события;\n",
    "4. Найдены и удалены 413 дубликатов;\n",
    "5. Датасет не имеет пропущенных значений.\n",
    "\n",
    "Таким образом, в анализируемом датасете 243713 строк, 5 столбцов. Тип данных - datetime64(1), int64(2), object(2)."
   ]
  },
  {
   "cell_type": "markdown",
   "metadata": {},
   "source": [
    "### Изучение данных"
   ]
  },
  {
   "cell_type": "code",
   "execution_count": 18,
   "metadata": {},
   "outputs": [
    {
     "name": "stdout",
     "output_type": "stream",
     "text": [
      "Всего количество событий в датасете составляет 243713\n"
     ]
    }
   ],
   "source": [
    "# определяем количество событий в логе\n",
    "print('Всего количество событий в датасете составляет', logs['event_name'].count())"
   ]
  },
  {
   "cell_type": "code",
   "execution_count": 19,
   "metadata": {},
   "outputs": [
    {
     "name": "stdout",
     "output_type": "stream",
     "text": [
      "Количество уникальных событий в датасете составляет 5\n"
     ]
    }
   ],
   "source": [
    "# определяем количество уникальных событий в логе\n",
    "print('Количество уникальных событий в датасете составляет', logs['event_name'].nunique())"
   ]
  },
  {
   "cell_type": "code",
   "execution_count": 20,
   "metadata": {},
   "outputs": [
    {
     "name": "stdout",
     "output_type": "stream",
     "text": [
      "Количество уникальных пользователей в датасете составляет 7551\n"
     ]
    }
   ],
   "source": [
    "# считаем количество уникальных пользователей\n",
    "print('Количество уникальных пользователей в датасете составляет', logs['user_id'].nunique())"
   ]
  },
  {
   "cell_type": "code",
   "execution_count": 21,
   "metadata": {},
   "outputs": [],
   "source": [
    "# группируем количество событий на 1 пользователя\n",
    "avg = logs.groupby('user_id')['event_name'].count()"
   ]
  },
  {
   "cell_type": "code",
   "execution_count": 22,
   "metadata": {},
   "outputs": [
    {
     "data": {
      "image/png": "[encoded data removed]",
      "text/plain": [
       "<Figure size 720x360 with 1 Axes>"
      ]
     },
     "metadata": {
      "needs_background": "light"
     },
     "output_type": "display_data"
    }
   ],
   "source": [
    "# строим график количества событий на 1 пользователя\n",
    "avg.hist(bins=5*10, figsize=(10, 5))\n",
    "plt.title('Гистограмма количества событий на 1 пользователя', fontsize=14)\n",
    "plt.ylabel('Количество пользователей', fontsize=10)\n",
    "plt.xlabel('Количество событий', fontsize=10)\n",
    "plt.show()"
   ]
  },
  {
   "cell_type": "code",
   "execution_count": 23,
   "metadata": {},
   "outputs": [
    {
     "data": {
      "text/plain": [
       "count    7551.0\n",
       "mean       32.3\n",
       "std        65.2\n",
       "min         1.0\n",
       "25%         9.0\n",
       "50%        20.0\n",
       "75%        37.0\n",
       "max      2307.0\n",
       "Name: event_name, dtype: float64"
      ]
     },
     "execution_count": 23,
     "metadata": {},
     "output_type": "execute_result"
    }
   ],
   "source": [
    "# отобразим статистическую сводку по количеству событий на 1 пользователя\n",
    "avg.describe().round(1)"
   ]
  },
  {
   "cell_type": "code",
   "execution_count": 24,
   "metadata": {},
   "outputs": [
    {
     "name": "stdout",
     "output_type": "stream",
     "text": [
      "90, 95 и 99 перцентили количества событий на одного пользователя соответственно: [ 64.   89.  200.5]\n"
     ]
    }
   ],
   "source": [
    "print('90, 95 и 99 перцентили количества событий на одного пользователя соответственно:', \n",
    "      np.percentile(avg, [90, 95, 99]))"
   ]
  },
  {
   "cell_type": "markdown",
   "metadata": {},
   "source": [
    "#### Вывод\n",
    "1. В результате предобработки данных в датасете содержатся 243713 событий, в т.ч. 5 уникальных, и 7551 уникальный пользователь мобильного приложения.\n",
    "2. Исходя из статистической сводки среднее количество событий, приходящееся на 1 пользователя, составляет 20 единиц, в связи с наличием в данных аномальных значений (максимальное значение - 2307 событий на 1 пользователя, 1% пользователей совершает более 200 действий) предлагается средним принять медианное количество событий на 1 посетителя, равное 32 единицам. Учитывая техническое задание на дальнейшее исследование, не включающее расчет метрик, зависящих от количества событий на 1 пользователя, предлагается аномальные значения оставить в датасете."
   ]
  },
  {
   "cell_type": "code",
   "execution_count": 25,
   "metadata": {},
   "outputs": [
    {
     "name": "stdout",
     "output_type": "stream",
     "text": [
      "Минимальная дата событий - 2019-07-25 04:43:36\n",
      "Максимальная дата событий - 2019-08-07 21:15:17\n"
     ]
    }
   ],
   "source": [
    "# определяем минимальную и максимальную даты событий\n",
    "print('Минимальная дата событий -', logs['event_time'].min())\n",
    "print('Максимальная дата событий -', logs['event_time'].max())"
   ]
  },
  {
   "cell_type": "code",
   "execution_count": 26,
   "metadata": {},
   "outputs": [
    {
     "data": {
      "image/png": "[encoded data removed]",
      "text/plain": [
       "<Figure size 1080x360 with 1 Axes>"
      ]
     },
     "metadata": {
      "needs_background": "light"
     },
     "output_type": "display_data"
    }
   ],
   "source": [
    "# строим график событий по дате и времени\n",
    "logs['event_time'].hist(bins=14*24, figsize=(15, 5))\n",
    "plt.title('Гистограмма событий по дате и времени', fontsize=14)\n",
    "plt.ylabel('Частота', fontsize=12)\n",
    "plt.tick_params(labelsize=10)\n",
    "plt.xlabel('Дата', fontsize=12)\n",
    "plt.xticks(rotation=45)\n",
    "plt.show()"
   ]
  },
  {
   "cell_type": "code",
   "execution_count": 27,
   "metadata": {},
   "outputs": [
    {
     "data": {
      "image/png": "[encoded data removed]",
      "text/plain": [
       "<Figure size 1080x3600 with 1 Axes>"
      ]
     },
     "metadata": {
      "needs_background": "light"
     },
     "output_type": "display_data"
    }
   ],
   "source": [
    "# строим детализированный по времени график в разрезе событий\n",
    "plt.figure(figsize=(15, 50))\n",
    "ax = sns.countplot(y=logs['event_time'].dt.strftime('%Y-%m-%d %H'), hue='event_name', data=logs, dodge=False)\n",
    "ax.set_title('График событий по дате и времени')\n",
    "plt.xlabel('Количество действий пользователей')\n",
    "plt.ylabel('Дата и время')\n",
    "plt.show()"
   ]
  },
  {
   "cell_type": "code",
   "execution_count": 28,
   "metadata": {},
   "outputs": [],
   "source": [
    "# обновляем датасет с учетом исключения данных за период до 31 июля 2019 года 21.00\n",
    "logs = logs['2019-07-31 21:00' < logs['event_time']]"
   ]
  },
  {
   "cell_type": "code",
   "execution_count": 29,
   "metadata": {},
   "outputs": [],
   "source": [
    "# вводим переменную откорректированного датасета\n",
    "filter_log = logs.copy()"
   ]
  },
  {
   "cell_type": "code",
   "execution_count": 30,
   "metadata": {},
   "outputs": [
    {
     "name": "stdout",
     "output_type": "stream",
     "text": [
      "Минимальная дата событий после корректировки - 2019-07-31 21:00:57\n",
      "Максимальная дата событий после корректировки - 2019-08-07 21:15:17\n"
     ]
    }
   ],
   "source": [
    "# определяем минимальную и максимальную даты событий после корректировки \n",
    "print('Минимальная дата событий после корректировки -', logs['event_time'].min())\n",
    "print('Максимальная дата событий после корректировки -', logs['event_time'].max())"
   ]
  },
  {
   "cell_type": "code",
   "execution_count": 31,
   "metadata": {},
   "outputs": [
    {
     "name": "stdout",
     "output_type": "stream",
     "text": [
      "Количество событий после корректировки - 241724\n"
     ]
    }
   ],
   "source": [
    "# определяем количество событий после корректировки \n",
    "print('Количество событий после корректировки -', logs['event_name'].count())"
   ]
  },
  {
   "cell_type": "code",
   "execution_count": 32,
   "metadata": {},
   "outputs": [
    {
     "name": "stdout",
     "output_type": "stream",
     "text": [
      "Количество пользователей после корректировки - 7538\n"
     ]
    }
   ],
   "source": [
    "# определяем количество пользователей после корректировки \n",
    "print('Количество пользователей после корректировки -',logs['user_id'].nunique())"
   ]
  },
  {
   "cell_type": "code",
   "execution_count": 33,
   "metadata": {},
   "outputs": [
    {
     "name": "stdout",
     "output_type": "stream",
     "text": [
      "Потери в количестве событий в результате корректировки - 2402\n",
      "Доля потерянных событий в результате корректировки - 0.98%\n",
      "Потери в количестве уникальных пользователей в результате корректировки - 13\n",
      "Доля потерянных пользователей в результате корректировки - 0.17%\n"
     ]
    }
   ],
   "source": [
    "# проверяем процент потерянных событий и пользователей после корректировки, включая удаление дубликатов\n",
    "print('Потери в количестве событий в результате корректировки -', len(first_log) - len(filter_log))\n",
    "print(f'Доля потерянных событий в результате корректировки -', '{0:.2%}'.format((len(first_log) - len(filter_log))\\\n",
    "/len(first_log)))\n",
    "print('Потери в количестве уникальных пользователей в результате корректировки -', first_log['user_id']\\\n",
    ".nunique() - filter_log['user_id'].nunique())\n",
    "print(f'Доля потерянных пользователей в результате корректировки -', '{0:.2%}'.format((first_log['user_id']\\\n",
    ".nunique() - filter_log['user_id'].nunique())/first_log['user_id'].nunique()))"
   ]
  },
  {
   "cell_type": "code",
   "execution_count": 34,
   "metadata": {},
   "outputs": [],
   "source": [
    "# присваеваем буквенные обозначения группам эксперимента\n",
    "def type_group(row):\n",
    "    if row['group'] == 246:\n",
    "        return 'A1'\n",
    "    if row['group'] == 247:\n",
    "        return 'A2'\n",
    "    if row['group'] == 248:\n",
    "        return 'B'\n",
    "    else:\n",
    "        return 'other groups'\n",
    "\n",
    "logs['type_group'] = logs.apply(type_group, axis=1)"
   ]
  },
  {
   "cell_type": "code",
   "execution_count": 35,
   "metadata": {},
   "outputs": [
    {
     "data": {
      "text/html": [
       "<div>\n",
       "<style scoped>\n",
       "    .dataframe tbody tr th:only-of-type {\n",
       "        vertical-align: middle;\n",
       "    }\n",
       "\n",
       "    .dataframe tbody tr th {\n",
       "        vertical-align: top;\n",
       "    }\n",
       "\n",
       "    .dataframe thead th {\n",
       "        text-align: right;\n",
       "    }\n",
       "</style>\n",
       "<table border=\"1\" class=\"dataframe\">\n",
       "  <thead>\n",
       "    <tr style=\"text-align: right;\">\n",
       "      <th></th>\n",
       "      <th>nunique</th>\n",
       "    </tr>\n",
       "    <tr>\n",
       "      <th>type_group</th>\n",
       "      <th></th>\n",
       "    </tr>\n",
       "  </thead>\n",
       "  <tbody>\n",
       "    <tr>\n",
       "      <th>B</th>\n",
       "      <td>2537</td>\n",
       "    </tr>\n",
       "    <tr>\n",
       "      <th>A2</th>\n",
       "      <td>2517</td>\n",
       "    </tr>\n",
       "    <tr>\n",
       "      <th>A1</th>\n",
       "      <td>2484</td>\n",
       "    </tr>\n",
       "  </tbody>\n",
       "</table>\n",
       "</div>"
      ],
      "text/plain": [
       "            nunique\n",
       "type_group         \n",
       "B              2537\n",
       "A2             2517\n",
       "A1             2484"
      ]
     },
     "execution_count": 35,
     "metadata": {},
     "output_type": "execute_result"
    }
   ],
   "source": [
    "# считаем количество уникальных пользователей по группам эксперимента\n",
    "logs.groupby('type_group')['user_id'].agg(['nunique']).sort_values(by='nunique', ascending=False)"
   ]
  },
  {
   "cell_type": "code",
   "execution_count": 36,
   "metadata": {},
   "outputs": [
    {
     "data": {
      "text/plain": [
       "set()"
      ]
     },
     "execution_count": 36,
     "metadata": {},
     "output_type": "execute_result"
    }
   ],
   "source": [
    "# создаем множетства пользователей для групп А1, A2 и В\n",
    "user_idA1 = set(logs[(logs['type_group'] == 'A1')]['user_id'])\n",
    "user_idA2 = set(logs[(logs['type_group'] == 'A2')]['user_id'])\n",
    "user_idB = set(logs[(logs['type_group'] == 'B')]['user_id'])\n",
    "\n",
    "# проверяем пересечение элементов во множествах пользователей групп А1, A2 и В\n",
    "intersect_users = set.intersection(user_idA1, user_idA2, user_idB)\n",
    "intersect_users"
   ]
  },
  {
   "cell_type": "markdown",
   "metadata": {},
   "source": [
    "#### Вывод\n",
    "\n",
    "1. Исходный датасет имеет временной интервал с 25 июля 2019 года 04:43:36 по 07 августа 2019 года 21:15:17. Графики, построенные на основе данных о дате, времени и количестве событий, демонстрируют неполные и незначительные данные до 31 июля 2019 года 21:00, поэтому проведена корректировка датасета, в результате данные в период с 25 июля 2019 года до 31 июля 2019 года 20:00 включительно удалены.\n",
    "2. Откорректированный датасет состоит из 241724 событий и 7538 уникальных пользователей мобильного приложения.\n",
    "3. В результате корректировки временного периода, а также удаления дубликатов на этапе предобработки, потери в данных составили:\n",
    " - потери в количестве событий в результате корректировки - 2402 единицы;\n",
    " - доля потерянных событий в результате корректировки - 0.98%;\n",
    " - потери в количестве уникальных пользователей в результате корректировки - 13 человек;\n",
    " - доля потерянных пользователей в результате корректировки - 0.17%.\n",
    "4. Создан столбец type_group, в котором группам эксперимента присвоены следующие буквенные обозначения: А1 - 246 контрольная группа, А2 - 247 контрольная группа, В - 248 экспериментальная группа.\n",
    "5. В результате подсчета уникальных пользователей в каждой группе эксперимента выявлено, что сегменты сопоставимы по размеру, распределены в порядке убывания В(2537), А1(2517), А2(2484 человека). Пересечение пользователей в группах не выявлено."
   ]
  },
  {
   "cell_type": "markdown",
   "metadata": {},
   "source": [
    "### Анализ воронки событий"
   ]
  },
  {
   "cell_type": "code",
   "execution_count": 37,
   "metadata": {},
   "outputs": [
    {
     "data": {
      "text/html": [
       "<div>\n",
       "<style scoped>\n",
       "    .dataframe tbody tr th:only-of-type {\n",
       "        vertical-align: middle;\n",
       "    }\n",
       "\n",
       "    .dataframe tbody tr th {\n",
       "        vertical-align: top;\n",
       "    }\n",
       "\n",
       "    .dataframe thead th {\n",
       "        text-align: right;\n",
       "    }\n",
       "</style>\n",
       "<table border=\"1\" class=\"dataframe\">\n",
       "  <thead>\n",
       "    <tr style=\"text-align: right;\">\n",
       "      <th></th>\n",
       "      <th>count</th>\n",
       "      <th>nunique</th>\n",
       "    </tr>\n",
       "    <tr>\n",
       "      <th>event_name</th>\n",
       "      <th></th>\n",
       "      <th></th>\n",
       "    </tr>\n",
       "  </thead>\n",
       "  <tbody>\n",
       "    <tr>\n",
       "      <th>MainScreenAppear</th>\n",
       "      <td>117889</td>\n",
       "      <td>7423</td>\n",
       "    </tr>\n",
       "    <tr>\n",
       "      <th>OffersScreenAppear</th>\n",
       "      <td>46531</td>\n",
       "      <td>4597</td>\n",
       "    </tr>\n",
       "    <tr>\n",
       "      <th>CartScreenAppear</th>\n",
       "      <td>42343</td>\n",
       "      <td>3736</td>\n",
       "    </tr>\n",
       "    <tr>\n",
       "      <th>PaymentScreenSuccessful</th>\n",
       "      <td>33951</td>\n",
       "      <td>3540</td>\n",
       "    </tr>\n",
       "    <tr>\n",
       "      <th>Tutorial</th>\n",
       "      <td>1010</td>\n",
       "      <td>843</td>\n",
       "    </tr>\n",
       "  </tbody>\n",
       "</table>\n",
       "</div>"
      ],
      "text/plain": [
       "                          count  nunique\n",
       "event_name                              \n",
       "MainScreenAppear         117889     7423\n",
       "OffersScreenAppear        46531     4597\n",
       "CartScreenAppear          42343     3736\n",
       "PaymentScreenSuccessful   33951     3540\n",
       "Tutorial                   1010      843"
      ]
     },
     "execution_count": 37,
     "metadata": {},
     "output_type": "execute_result"
    }
   ],
   "source": [
    "# формируем таблицу в разрезе событий с подсчетом количества событий и пользователей\n",
    "logs.groupby('event_name')['user_id'].agg(['count', 'nunique']).sort_values(by='count', ascending=False)"
   ]
  },
  {
   "cell_type": "code",
   "execution_count": 38,
   "metadata": {},
   "outputs": [
    {
     "data": {
      "text/html": [
       "<div>\n",
       "<style scoped>\n",
       "    .dataframe tbody tr th:only-of-type {\n",
       "        vertical-align: middle;\n",
       "    }\n",
       "\n",
       "    .dataframe tbody tr th {\n",
       "        vertical-align: top;\n",
       "    }\n",
       "\n",
       "    .dataframe thead th {\n",
       "        text-align: right;\n",
       "    }\n",
       "</style>\n",
       "<table border=\"1\" class=\"dataframe\">\n",
       "  <thead>\n",
       "    <tr style=\"text-align: right;\">\n",
       "      <th></th>\n",
       "      <th>event_name</th>\n",
       "      <th>users_count</th>\n",
       "      <th>users_percentage</th>\n",
       "    </tr>\n",
       "  </thead>\n",
       "  <tbody>\n",
       "    <tr>\n",
       "      <th>1</th>\n",
       "      <td>MainScreenAppear</td>\n",
       "      <td>7423</td>\n",
       "      <td>98.5</td>\n",
       "    </tr>\n",
       "    <tr>\n",
       "      <th>2</th>\n",
       "      <td>OffersScreenAppear</td>\n",
       "      <td>4597</td>\n",
       "      <td>61.0</td>\n",
       "    </tr>\n",
       "    <tr>\n",
       "      <th>0</th>\n",
       "      <td>CartScreenAppear</td>\n",
       "      <td>3736</td>\n",
       "      <td>49.6</td>\n",
       "    </tr>\n",
       "    <tr>\n",
       "      <th>3</th>\n",
       "      <td>PaymentScreenSuccessful</td>\n",
       "      <td>3540</td>\n",
       "      <td>47.0</td>\n",
       "    </tr>\n",
       "    <tr>\n",
       "      <th>4</th>\n",
       "      <td>Tutorial</td>\n",
       "      <td>843</td>\n",
       "      <td>11.2</td>\n",
       "    </tr>\n",
       "  </tbody>\n",
       "</table>\n",
       "</div>"
      ],
      "text/plain": [
       "                event_name  users_count  users_percentage\n",
       "1         MainScreenAppear         7423              98.5\n",
       "2       OffersScreenAppear         4597              61.0\n",
       "0         CartScreenAppear         3736              49.6\n",
       "3  PaymentScreenSuccessful         3540              47.0\n",
       "4                 Tutorial          843              11.2"
      ]
     },
     "execution_count": 38,
     "metadata": {},
     "output_type": "execute_result"
    }
   ],
   "source": [
    "#подсчет числа пользователей, совершивших каждое событие\n",
    "users_count = logs.groupby('event_name')['user_id'].nunique().reset_index()\n",
    "users_count.columns = ['event_name', 'users_count']\n",
    "\n",
    "#сортировка событий по числу пользователей\n",
    "sorted_events = users_count.sort_values('users_count', ascending=False)\n",
    "\n",
    "#подсчет доли пользователей, совершивших каждое событие, от общего количества пользователей\n",
    "users_percentage = round((sorted_events['users_count'] / logs['user_id'].nunique()) * 100, 1)\n",
    "sorted_events['users_percentage'] = users_percentage\n",
    "\n",
    "sorted_events"
   ]
  },
  {
   "cell_type": "markdown",
   "metadata": {},
   "source": [
    "Последовательность событий в процессе использования мобильного приложения выглядит следующим образом:\n",
    "1.\tMainScreenAppear - Переход на главный экран\n",
    "2.\tOffersScreenAppear - Переход на страницу товара\n",
    "3.\tCartScreenAppear - Переход в корзину\n",
    "4.\tPaymentScreenSuccessful - Успешная оплата.\n",
    "\n",
    "В датасете содержится еще один вид события Tutorial - обучающая инструкция, которой воспользовались 11% посетителей, предполагается, что данный этап является необязательным, прохождение на усмотрение пользователей."
   ]
  },
  {
   "cell_type": "code",
   "execution_count": 39,
   "metadata": {},
   "outputs": [
    {
     "data": {
      "image/png": "[encoded data removed]"
     },
     "metadata": {},
     "output_type": "display_data"
    }
   ],
   "source": [
    "# отобразим воронку событий\n",
    "fig = go.Figure(go.Funnel(\n",
    "    y = sorted_events[sorted_events['event_name'] != 'Tutorial']['event_name'],\n",
    "    x = sorted_events['users_count'],\n",
    "    textposition = \"inside\",\n",
    "    textinfo = \"value+percent initial+percent previous\"))\n",
    "fig.update_layout(title = 'Воронка событий использования мобильного приложения', yaxis_title = 'Наименование события')\n",
    "\n",
    "fig.show('png')"
   ]
  },
  {
   "cell_type": "code",
   "execution_count": 40,
   "metadata": {},
   "outputs": [
    {
     "data": {
      "text/html": [
       "<div>\n",
       "<style scoped>\n",
       "    .dataframe tbody tr th:only-of-type {\n",
       "        vertical-align: middle;\n",
       "    }\n",
       "\n",
       "    .dataframe tbody tr th {\n",
       "        vertical-align: top;\n",
       "    }\n",
       "\n",
       "    .dataframe thead th {\n",
       "        text-align: right;\n",
       "    }\n",
       "</style>\n",
       "<table border=\"1\" class=\"dataframe\">\n",
       "  <thead>\n",
       "    <tr style=\"text-align: right;\">\n",
       "      <th></th>\n",
       "      <th>nunique</th>\n",
       "    </tr>\n",
       "    <tr>\n",
       "      <th>event_name</th>\n",
       "      <th></th>\n",
       "    </tr>\n",
       "  </thead>\n",
       "  <tbody>\n",
       "    <tr>\n",
       "      <th>MainScreenAppear</th>\n",
       "      <td>NaN</td>\n",
       "    </tr>\n",
       "    <tr>\n",
       "      <th>OffersScreenAppear</th>\n",
       "      <td>61.9</td>\n",
       "    </tr>\n",
       "    <tr>\n",
       "      <th>CartScreenAppear</th>\n",
       "      <td>81.3</td>\n",
       "    </tr>\n",
       "    <tr>\n",
       "      <th>PaymentScreenSuccessful</th>\n",
       "      <td>94.8</td>\n",
       "    </tr>\n",
       "  </tbody>\n",
       "</table>\n",
       "</div>"
      ],
      "text/plain": [
       "                         nunique\n",
       "event_name                      \n",
       "MainScreenAppear             NaN\n",
       "OffersScreenAppear          61.9\n",
       "CartScreenAppear            81.3\n",
       "PaymentScreenSuccessful     94.8"
      ]
     },
     "execution_count": 40,
     "metadata": {},
     "output_type": "execute_result"
    }
   ],
   "source": [
    "# подсчет доли пользователей, переходящих на следующий этап воронки событий\n",
    "users_count = logs[logs['event_name'] != 'Tutorial'].groupby('event_name')['user_id']\\\n",
    ".agg(['nunique']).sort_values(by='nunique', ascending=False)\n",
    "shift = users_count.shift(periods=1, axis=0)\n",
    "sh = round(users_count/shift*100, 1)\n",
    "sh"
   ]
  },
  {
   "cell_type": "code",
   "execution_count": 41,
   "metadata": {},
   "outputs": [
    {
     "name": "stdout",
     "output_type": "stream",
     "text": [
      "Процент пользователей, завершивших покупку - 47.7\n"
     ]
    }
   ],
   "source": [
    "# подсчет доли пользователей, дошедших до оплаты\n",
    "first_event = logs[logs['event_name'] == 'MainScreenAppear']['user_id'].nunique()\n",
    "last_event = logs[logs['event_name'] == 'PaymentScreenSuccessful']['user_id'].nunique()\n",
    "share_paying = round(last_event/first_event*100, 1)\n",
    "print('Процент пользователей, завершивших покупку -', share_paying)"
   ]
  },
  {
   "cell_type": "code",
   "execution_count": 42,
   "metadata": {},
   "outputs": [
    {
     "data": {
      "text/html": [
       "<div>\n",
       "<style scoped>\n",
       "    .dataframe tbody tr th:only-of-type {\n",
       "        vertical-align: middle;\n",
       "    }\n",
       "\n",
       "    .dataframe tbody tr th {\n",
       "        vertical-align: top;\n",
       "    }\n",
       "\n",
       "    .dataframe thead th {\n",
       "        text-align: right;\n",
       "    }\n",
       "</style>\n",
       "<table border=\"1\" class=\"dataframe\">\n",
       "  <thead>\n",
       "    <tr style=\"text-align: right;\">\n",
       "      <th></th>\n",
       "      <th>event_name</th>\n",
       "      <th>amount</th>\n",
       "      <th>step</th>\n",
       "    </tr>\n",
       "  </thead>\n",
       "  <tbody>\n",
       "    <tr>\n",
       "      <th>0</th>\n",
       "      <td>MainScreenAppear</td>\n",
       "      <td>2450</td>\n",
       "      <td>100.0</td>\n",
       "    </tr>\n",
       "    <tr>\n",
       "      <th>1</th>\n",
       "      <td>OffersScreenAppear</td>\n",
       "      <td>1542</td>\n",
       "      <td>62.9</td>\n",
       "    </tr>\n",
       "    <tr>\n",
       "      <th>2</th>\n",
       "      <td>CartScreenAppear</td>\n",
       "      <td>1266</td>\n",
       "      <td>51.7</td>\n",
       "    </tr>\n",
       "    <tr>\n",
       "      <th>3</th>\n",
       "      <td>PaymentScreenSuccessful</td>\n",
       "      <td>1200</td>\n",
       "      <td>49.0</td>\n",
       "    </tr>\n",
       "  </tbody>\n",
       "</table>\n",
       "</div>"
      ],
      "text/plain": [
       "                event_name  amount   step\n",
       "0         MainScreenAppear    2450  100.0\n",
       "1       OffersScreenAppear    1542   62.9\n",
       "2         CartScreenAppear    1266   51.7\n",
       "3  PaymentScreenSuccessful    1200   49.0"
      ]
     },
     "execution_count": 42,
     "metadata": {},
     "output_type": "execute_result"
    }
   ],
   "source": [
    "#подсчет доли пользователей, совершивших каждое событие в группе A1\n",
    "group_logs = logs[logs['event_name'] != 'Tutorial']\n",
    "A1 = group_logs[group_logs['type_group'] == 'A1'].groupby('event_name').agg({'user_id':'nunique'})\\\n",
    ".rename(columns=({'user_id':'amount'})).sort_values(by='amount', ascending=False)\n",
    "A1['step'] = round(A1['amount']/2450*100,1)\n",
    "A1 = A1.reset_index()\n",
    "A1"
   ]
  },
  {
   "cell_type": "code",
   "execution_count": 43,
   "metadata": {},
   "outputs": [
    {
     "data": {
      "text/html": [
       "<div>\n",
       "<style scoped>\n",
       "    .dataframe tbody tr th:only-of-type {\n",
       "        vertical-align: middle;\n",
       "    }\n",
       "\n",
       "    .dataframe tbody tr th {\n",
       "        vertical-align: top;\n",
       "    }\n",
       "\n",
       "    .dataframe thead th {\n",
       "        text-align: right;\n",
       "    }\n",
       "</style>\n",
       "<table border=\"1\" class=\"dataframe\">\n",
       "  <thead>\n",
       "    <tr style=\"text-align: right;\">\n",
       "      <th></th>\n",
       "      <th>event_name</th>\n",
       "      <th>amount</th>\n",
       "      <th>step</th>\n",
       "    </tr>\n",
       "  </thead>\n",
       "  <tbody>\n",
       "    <tr>\n",
       "      <th>0</th>\n",
       "      <td>MainScreenAppear</td>\n",
       "      <td>2479</td>\n",
       "      <td>100.00</td>\n",
       "    </tr>\n",
       "    <tr>\n",
       "      <th>1</th>\n",
       "      <td>OffersScreenAppear</td>\n",
       "      <td>1524</td>\n",
       "      <td>61.48</td>\n",
       "    </tr>\n",
       "    <tr>\n",
       "      <th>2</th>\n",
       "      <td>CartScreenAppear</td>\n",
       "      <td>1239</td>\n",
       "      <td>49.98</td>\n",
       "    </tr>\n",
       "    <tr>\n",
       "      <th>3</th>\n",
       "      <td>PaymentScreenSuccessful</td>\n",
       "      <td>1158</td>\n",
       "      <td>46.71</td>\n",
       "    </tr>\n",
       "  </tbody>\n",
       "</table>\n",
       "</div>"
      ],
      "text/plain": [
       "                event_name  amount    step\n",
       "0         MainScreenAppear    2479  100.00\n",
       "1       OffersScreenAppear    1524   61.48\n",
       "2         CartScreenAppear    1239   49.98\n",
       "3  PaymentScreenSuccessful    1158   46.71"
      ]
     },
     "execution_count": 43,
     "metadata": {},
     "output_type": "execute_result"
    }
   ],
   "source": [
    "#подсчет доли пользователей, совершивших каждое событие в группе A2\n",
    "A2 = group_logs[group_logs['type_group'] == 'A2'].groupby('event_name').agg({'user_id':'nunique'})\\\n",
    ".rename(columns=({'user_id':'amount'})).sort_values(by='amount', ascending=False)\n",
    "A2['step'] = round(A2['amount']/2479*100,2)\n",
    "A2 = A2.reset_index()\n",
    "A2"
   ]
  },
  {
   "cell_type": "code",
   "execution_count": 44,
   "metadata": {},
   "outputs": [
    {
     "data": {
      "text/html": [
       "<div>\n",
       "<style scoped>\n",
       "    .dataframe tbody tr th:only-of-type {\n",
       "        vertical-align: middle;\n",
       "    }\n",
       "\n",
       "    .dataframe tbody tr th {\n",
       "        vertical-align: top;\n",
       "    }\n",
       "\n",
       "    .dataframe thead th {\n",
       "        text-align: right;\n",
       "    }\n",
       "</style>\n",
       "<table border=\"1\" class=\"dataframe\">\n",
       "  <thead>\n",
       "    <tr style=\"text-align: right;\">\n",
       "      <th></th>\n",
       "      <th>event_name</th>\n",
       "      <th>amount</th>\n",
       "      <th>step</th>\n",
       "    </tr>\n",
       "  </thead>\n",
       "  <tbody>\n",
       "    <tr>\n",
       "      <th>0</th>\n",
       "      <td>MainScreenAppear</td>\n",
       "      <td>2494</td>\n",
       "      <td>100.00</td>\n",
       "    </tr>\n",
       "    <tr>\n",
       "      <th>1</th>\n",
       "      <td>OffersScreenAppear</td>\n",
       "      <td>1531</td>\n",
       "      <td>61.39</td>\n",
       "    </tr>\n",
       "    <tr>\n",
       "      <th>2</th>\n",
       "      <td>CartScreenAppear</td>\n",
       "      <td>1231</td>\n",
       "      <td>49.36</td>\n",
       "    </tr>\n",
       "    <tr>\n",
       "      <th>3</th>\n",
       "      <td>PaymentScreenSuccessful</td>\n",
       "      <td>1182</td>\n",
       "      <td>47.39</td>\n",
       "    </tr>\n",
       "  </tbody>\n",
       "</table>\n",
       "</div>"
      ],
      "text/plain": [
       "                event_name  amount    step\n",
       "0         MainScreenAppear    2494  100.00\n",
       "1       OffersScreenAppear    1531   61.39\n",
       "2         CartScreenAppear    1231   49.36\n",
       "3  PaymentScreenSuccessful    1182   47.39"
      ]
     },
     "execution_count": 44,
     "metadata": {},
     "output_type": "execute_result"
    }
   ],
   "source": [
    "#подсчет доли пользователей, совершивших каждое событие в группе B\n",
    "B = group_logs[group_logs['type_group'] == 'B'].groupby('event_name').agg({'user_id':'nunique'})\\\n",
    ".rename(columns=({'user_id':'amount'})).sort_values(by='amount', ascending=False)\n",
    "B['step'] = round(B['amount']/2494*100,2)\n",
    "B = B.reset_index()\n",
    "B"
   ]
  },
  {
   "cell_type": "code",
   "execution_count": 45,
   "metadata": {},
   "outputs": [
    {
     "data": {
      "image/png": "[encoded data removed]"
     },
     "metadata": {},
     "output_type": "display_data"
    }
   ],
   "source": [
    "# построим воронку событий для каждой группы\n",
    "fig = go.Figure()\n",
    "fig.update_layout(title = 'Воронка событий использования мобильного приложения в разрезе групп эксперимента',\\\n",
    "                  yaxis_title = 'Наименование события')\n",
    "\n",
    "fig.add_trace(go.Funnel(\n",
    "    name = 'A1',\n",
    "    y = A1['event_name'],\n",
    "    x = A1['amount'],\n",
    "    textposition = \"inside\",\n",
    "    textinfo = \"value+percent initial+percent previous\"))\n",
    "\n",
    "fig.add_trace(go.Funnel(\n",
    "    name = 'A2',\n",
    "    orientation = \"h\",\n",
    "    y = A2['event_name'],\n",
    "    x = A2['amount'],\n",
    "    textposition = \"inside\",\n",
    "    textinfo = \"value+percent initial+percent previous\"))\n",
    "\n",
    "fig.add_trace(go.Funnel(\n",
    "    name = 'B',\n",
    "    orientation = \"h\",\n",
    "    y = B['event_name'],\n",
    "    x = B['amount'],\n",
    "    textposition = \"inside\",\n",
    "    textinfo = \"value+percent initial+percent previous\"))\n",
    "\n",
    "fig.show('png')"
   ]
  },
  {
   "cell_type": "markdown",
   "metadata": {},
   "source": [
    "#### Вывод\n",
    "По результатам оценки воронки событий:\n",
    "1. Распространенность событий выглядит следующим образом в порядке убывания:\n",
    "- переход на главный экран совершили 7423 человек (98,5% от общего количества пользователей), всего событий 117889 единиц;\n",
    "- переход на страницу товара совершили 4597 человек (61% от общего количества пользователей), всего событий 46531\tединиц;\n",
    "- переход в корзину совершили 3736 человек (49,6% от общего количества пользователей), всего событий 42343\tединиц;\t\n",
    "- успешную оплату совершили 3540 человек (47% от общего количества пользователей), всего событий 33951 единиц;\t\n",
    "- с обучающей инструкцией ознакомились 843 человека (11,2% от общего количества пользователей), всего событий 1010 единиц.\n",
    "2. Логичекая последовательность воронки событий: переход на главный экран - переход на страницу товара - переход в корзину - успешная оплата. Этап по ознакомлению с обучающей инструкцией рекомендательным.\n",
    "3. Пошаговая доля пользователей: переход на главный экран (100%) - переход на страницу товара (61,9%) - переход в корзину (81,3%) - успешная оплата (94,8%). Наибольшее количество пользователей теряется на этапе перехода с главного экрана на страницу товара (38,1%).\n",
    "4. Доля пользователей, завершивших покупку (от главного экрана до успешной оплаты) - 47,7%.\n",
    "5. График воронки в разрезе экспериментальных групп демонстрирует идентичное распределение пользователей по этапам событий:\n",
    "- переход на главный экран (100%);\n",
    "- переход на страницу товара (~60% от пользователей, совершивших переход на главный экран);\n",
    "- переход в корзину (~50% от пользователей, совершивших переход на главный экран, и ~81% от пользователей, совершивших переход на страницу товара);\n",
    "- успешная оплата (~48% от пользователей, совершивших переход на главный экран, и ~95% от пользователей, совершивших переход в корзину)."
   ]
  },
  {
   "cell_type": "markdown",
   "metadata": {},
   "source": [
    "### А/А/В-тест"
   ]
  },
  {
   "cell_type": "code",
   "execution_count": 46,
   "metadata": {},
   "outputs": [
    {
     "data": {
      "text/plain": [
       "type_group\n",
       "A1       2484\n",
       "A2       2517\n",
       "B        2537\n",
       "A1+A2    5001\n",
       "Name: user_id, dtype: int64"
      ]
     },
     "execution_count": 46,
     "metadata": {},
     "output_type": "execute_result"
    }
   ],
   "source": [
    "# посчитаем количество пользователей в каждой экспериментальной группе\n",
    "users_bygroup = logs.groupby('type_group')['user_id'].nunique()\n",
    "#создадим столбец с суммой пользователей групп А1 и А2\n",
    "users_bygroup['A1+A2'] = users_bygroup['A1'] + users_bygroup['A2']\n",
    "users_bygroup"
   ]
  },
  {
   "cell_type": "code",
   "execution_count": 47,
   "metadata": {},
   "outputs": [
    {
     "data": {
      "text/html": [
       "<div>\n",
       "<style scoped>\n",
       "    .dataframe tbody tr th:only-of-type {\n",
       "        vertical-align: middle;\n",
       "    }\n",
       "\n",
       "    .dataframe tbody tr th {\n",
       "        vertical-align: top;\n",
       "    }\n",
       "\n",
       "    .dataframe thead th {\n",
       "        text-align: right;\n",
       "    }\n",
       "</style>\n",
       "<table border=\"1\" class=\"dataframe\">\n",
       "  <thead>\n",
       "    <tr style=\"text-align: right;\">\n",
       "      <th>type_group</th>\n",
       "      <th>event_name</th>\n",
       "      <th>A1</th>\n",
       "      <th>A2</th>\n",
       "      <th>B</th>\n",
       "      <th>A1+A2</th>\n",
       "      <th>all</th>\n",
       "      <th>part_A1</th>\n",
       "      <th>part_A2</th>\n",
       "      <th>part_B</th>\n",
       "      <th>part_A1+A2</th>\n",
       "    </tr>\n",
       "  </thead>\n",
       "  <tbody>\n",
       "    <tr>\n",
       "      <th>0</th>\n",
       "      <td>MainScreenAppear</td>\n",
       "      <td>2450</td>\n",
       "      <td>2479</td>\n",
       "      <td>2494</td>\n",
       "      <td>4929</td>\n",
       "      <td>7423</td>\n",
       "      <td>98.6</td>\n",
       "      <td>98.5</td>\n",
       "      <td>98.3</td>\n",
       "      <td>98.6</td>\n",
       "    </tr>\n",
       "    <tr>\n",
       "      <th>1</th>\n",
       "      <td>OffersScreenAppear</td>\n",
       "      <td>1542</td>\n",
       "      <td>1524</td>\n",
       "      <td>1531</td>\n",
       "      <td>3066</td>\n",
       "      <td>4597</td>\n",
       "      <td>62.1</td>\n",
       "      <td>60.5</td>\n",
       "      <td>60.3</td>\n",
       "      <td>61.3</td>\n",
       "    </tr>\n",
       "    <tr>\n",
       "      <th>2</th>\n",
       "      <td>CartScreenAppear</td>\n",
       "      <td>1266</td>\n",
       "      <td>1239</td>\n",
       "      <td>1231</td>\n",
       "      <td>2505</td>\n",
       "      <td>3736</td>\n",
       "      <td>51.0</td>\n",
       "      <td>49.2</td>\n",
       "      <td>48.5</td>\n",
       "      <td>50.1</td>\n",
       "    </tr>\n",
       "    <tr>\n",
       "      <th>3</th>\n",
       "      <td>PaymentScreenSuccessful</td>\n",
       "      <td>1200</td>\n",
       "      <td>1158</td>\n",
       "      <td>1182</td>\n",
       "      <td>2358</td>\n",
       "      <td>3540</td>\n",
       "      <td>48.3</td>\n",
       "      <td>46.0</td>\n",
       "      <td>46.6</td>\n",
       "      <td>47.2</td>\n",
       "    </tr>\n",
       "    <tr>\n",
       "      <th>4</th>\n",
       "      <td>Tutorial</td>\n",
       "      <td>278</td>\n",
       "      <td>284</td>\n",
       "      <td>281</td>\n",
       "      <td>562</td>\n",
       "      <td>843</td>\n",
       "      <td>11.2</td>\n",
       "      <td>11.3</td>\n",
       "      <td>11.1</td>\n",
       "      <td>11.2</td>\n",
       "    </tr>\n",
       "  </tbody>\n",
       "</table>\n",
       "</div>"
      ],
      "text/plain": [
       "type_group               event_name    A1    A2     B  A1+A2   all  part_A1  part_A2  part_B  part_A1+A2\n",
       "0                  MainScreenAppear  2450  2479  2494   4929  7423     98.6     98.5    98.3        98.6\n",
       "1                OffersScreenAppear  1542  1524  1531   3066  4597     62.1     60.5    60.3        61.3\n",
       "2                  CartScreenAppear  1266  1239  1231   2505  3736     51.0     49.2    48.5        50.1\n",
       "3           PaymentScreenSuccessful  1200  1158  1182   2358  3540     48.3     46.0    46.6        47.2\n",
       "4                          Tutorial   278   284   281    562   843     11.2     11.3    11.1        11.2"
      ]
     },
     "execution_count": 47,
     "metadata": {},
     "output_type": "execute_result"
    }
   ],
   "source": [
    "# посчитаем количество пользователей, совершившие действие, по группам\n",
    "event_group_test = logs.pivot_table(\n",
    "    index='event_name', \n",
    "    columns='type_group', \n",
    "    values='user_id',\n",
    "    aggfunc='nunique').sort_values(by='A1', ascending=False)\n",
    "\n",
    "event_group_test = event_group_test.reset_index()\n",
    "event_group_test['A1+A2'] = event_group_test['A1'] + event_group_test['A2']\n",
    "event_group_test['all'] = event_group_test['A1+A2'] + event_group_test['B']\n",
    "\n",
    "# посчитаем долю, совершивших действие, от общего количества пользователей по группам\n",
    "event_group_test['part_A1'] = (event_group_test['A1'] / users_bygroup['A1'] * 100).round(1)\n",
    "event_group_test['part_A2'] = (event_group_test['A2'] / users_bygroup['A2'] * 100).round(1)\n",
    "event_group_test['part_B'] = (event_group_test['B'] / users_bygroup['B'] * 100).round(1)\n",
    "event_group_test['part_A1+A2'] = ((event_group_test['A1'] + event_group_test['A2']) / \\\n",
    "(users_bygroup['A1'] + users_bygroup['A2']) * 100).round(1)\n",
    "event_group_test\n"
   ]
  },
  {
   "cell_type": "code",
   "execution_count": 48,
   "metadata": {},
   "outputs": [],
   "source": [
    "# создадим функцию, для проведения z-теста\n",
    "def z_test(group1, group2, alpha):\n",
    "    for i in event_group_test.index:\n",
    "        p1 = event_group_test[group1][i] / users_bygroup[group1]\n",
    "        # пропорция успехов во второй группе:\n",
    "        p2 = event_group_test[group2][i] / users_bygroup[group2]\n",
    "        # пропорция успехов в комбинированном датасете:\n",
    "        p_combined = ((event_group_test[group1][i] + event_group_test[group2][i]) / \n",
    "                      (users_bygroup[group1] + users_bygroup[group2]))\n",
    "        # разница пропорций в датасетах\n",
    "        difference = p1 - p2\n",
    "        # считаем статистику в ст.отклонениях стандартного нормального распределения\n",
    "        z_value = difference / mth.sqrt(p_combined * (1 - p_combined) * \n",
    "                                        (1/users_bygroup[group1] + 1/users_bygroup[group2]))\n",
    "        # задаем стандартное нормальное распределение (среднее 0, ст.отклонение 1)\n",
    "        distr = stats.norm(0, 1) \n",
    "        p_value = (1 - distr.cdf(abs(z_value))) * 2\n",
    "        print('{} p-значение: {}'.format(event_group_test['event_name'][i], p_value))\n",
    "        if (p_value < alpha):\n",
    "            print(\"Отвергаем нулевую гипотезу: между долями есть значимая разница\")\n",
    "        else:\n",
    "            print(\"Не получилось отвергнуть нулевую гипотезу, нет оснований считать доли разными\")\n",
    "        print('')"
   ]
  },
  {
   "cell_type": "markdown",
   "metadata": {},
   "source": [
    "В целях проведения А/А/В-тестирования сформулированы гипотезы:\n",
    "- Н0 - между долями пользователей значимой разницы нет;\n",
    "- Н1 - между долями пользователей есть значимая разница.\n",
    "\n",
    "Выбран уровень статистической значимости - 0,05."
   ]
  },
  {
   "cell_type": "code",
   "execution_count": 49,
   "metadata": {},
   "outputs": [
    {
     "name": "stdout",
     "output_type": "stream",
     "text": [
      "MainScreenAppear p-значение: 0.6756217702005545\n",
      "Не получилось отвергнуть нулевую гипотезу, нет оснований считать доли разными\n",
      "\n",
      "OffersScreenAppear p-значение: 0.26698769175859516\n",
      "Не получилось отвергнуть нулевую гипотезу, нет оснований считать доли разными\n",
      "\n",
      "CartScreenAppear p-значение: 0.2182812140633792\n",
      "Не получилось отвергнуть нулевую гипотезу, нет оснований считать доли разными\n",
      "\n",
      "PaymentScreenSuccessful p-значение: 0.10298394982948822\n",
      "Не получилось отвергнуть нулевую гипотезу, нет оснований считать доли разными\n",
      "\n",
      "Tutorial p-значение: 0.9182790262812368\n",
      "Не получилось отвергнуть нулевую гипотезу, нет оснований считать доли разными\n",
      "\n"
     ]
    }
   ],
   "source": [
    "# проверяем контрольные группы\n",
    "z_test(\"A1\", \"A2\", 0.05)"
   ]
  },
  {
   "cell_type": "code",
   "execution_count": 50,
   "metadata": {},
   "outputs": [
    {
     "name": "stdout",
     "output_type": "stream",
     "text": [
      "MainScreenAppear p-значение: 0.34705881021236484\n",
      "Не получилось отвергнуть нулевую гипотезу, нет оснований считать доли разными\n",
      "\n",
      "OffersScreenAppear p-значение: 0.20836205402738917\n",
      "Не получилось отвергнуть нулевую гипотезу, нет оснований считать доли разными\n",
      "\n",
      "CartScreenAppear p-значение: 0.08328412977507749\n",
      "Не получилось отвергнуть нулевую гипотезу, нет оснований считать доли разными\n",
      "\n",
      "PaymentScreenSuccessful p-значение: 0.22269358994682742\n",
      "Не получилось отвергнуть нулевую гипотезу, нет оснований считать доли разными\n",
      "\n",
      "Tutorial p-значение: 0.8964489622133207\n",
      "Не получилось отвергнуть нулевую гипотезу, нет оснований считать доли разными\n",
      "\n"
     ]
    }
   ],
   "source": [
    "# проверяем контрольную группу А1 и экспериментальную группу В\n",
    "z_test(\"A1\", \"B\", 0.05)"
   ]
  },
  {
   "cell_type": "code",
   "execution_count": 51,
   "metadata": {},
   "outputs": [
    {
     "name": "stdout",
     "output_type": "stream",
     "text": [
      "MainScreenAppear p-значение: 0.6001661582453706\n",
      "Не получилось отвергнуть нулевую гипотезу, нет оснований считать доли разными\n",
      "\n",
      "OffersScreenAppear p-значение: 0.8835956656016957\n",
      "Не получилось отвергнуть нулевую гипотезу, нет оснований считать доли разными\n",
      "\n",
      "CartScreenAppear p-значение: 0.6169517476996997\n",
      "Не получилось отвергнуть нулевую гипотезу, нет оснований считать доли разными\n",
      "\n",
      "PaymentScreenSuccessful p-значение: 0.6775413642906454\n",
      "Не получилось отвергнуть нулевую гипотезу, нет оснований считать доли разными\n",
      "\n",
      "Tutorial p-значение: 0.8151967015119994\n",
      "Не получилось отвергнуть нулевую гипотезу, нет оснований считать доли разными\n",
      "\n"
     ]
    }
   ],
   "source": [
    "# проверяем контрольную группу А2 и экспериментальную группу В\n",
    "z_test(\"A2\", \"B\", 0.05)"
   ]
  },
  {
   "cell_type": "code",
   "execution_count": 52,
   "metadata": {},
   "outputs": [
    {
     "name": "stdout",
     "output_type": "stream",
     "text": [
      "MainScreenAppear p-значение: 0.39298914928006035\n",
      "Не получилось отвергнуть нулевую гипотезу, нет оснований считать доли разными\n",
      "\n",
      "OffersScreenAppear p-значение: 0.418998284007599\n",
      "Не получилось отвергнуть нулевую гипотезу, нет оснований считать доли разными\n",
      "\n",
      "CartScreenAppear p-значение: 0.19819340844527744\n",
      "Не получилось отвергнуть нулевую гипотезу, нет оснований считать доли разными\n",
      "\n",
      "PaymentScreenSuccessful p-значение: 0.6452057673098244\n",
      "Не получилось отвергнуть нулевую гипотезу, нет оснований считать доли разными\n",
      "\n",
      "Tutorial p-значение: 0.8333049080125807\n",
      "Не получилось отвергнуть нулевую гипотезу, нет оснований считать доли разными\n",
      "\n"
     ]
    }
   ],
   "source": [
    "# проверяем сумму контрольных групп А1+А2 и экспериментальную группу В\n",
    "z_test(\"A1+A2\", \"B\", 0.05)"
   ]
  },
  {
   "cell_type": "code",
   "execution_count": 53,
   "metadata": {},
   "outputs": [
    {
     "name": "stdout",
     "output_type": "stream",
     "text": [
      "Было сделано проверок статистических гипотез: 20\n"
     ]
    }
   ],
   "source": [
    "# считаем количество проверок статистических гипотез \n",
    "count_stat_hypo = len(users_bygroup) * len(logs['event_name'].unique())\n",
    "print('Было сделано проверок статистических гипотез:', count_stat_hypo)"
   ]
  },
  {
   "cell_type": "markdown",
   "metadata": {},
   "source": [
    "Поскольку аудитория исследования разбита более чем на две подгруппы, вероятность получить ошибку первого рода при эксперименте нарастает экспоненциально. С целью контроля групповой вероятности ошибки рассчитаем скорректированный уровень статистической значимости методом Шидака и проведем повторные тесты с учетом скорректированного уровеня статистической значимости."
   ]
  },
  {
   "cell_type": "code",
   "execution_count": 54,
   "metadata": {},
   "outputs": [
    {
     "name": "stdout",
     "output_type": "stream",
     "text": [
      "Скорректированный уровень статистической значимости: 0.0025613787765302876\n"
     ]
    }
   ],
   "source": [
    "# рассчитаем скорректированный уровень статистической значимости методом Шидака\n",
    "shidak_alpha = 1 - (1 - 0.05)**(1 / count_stat_hypo)\n",
    "print('Скорректированный уровень статистической значимости:', shidak_alpha)"
   ]
  },
  {
   "cell_type": "code",
   "execution_count": 55,
   "metadata": {},
   "outputs": [
    {
     "name": "stdout",
     "output_type": "stream",
     "text": [
      "MainScreenAppear p-значение: 0.6756217702005545\n",
      "Не получилось отвергнуть нулевую гипотезу, нет оснований считать доли разными\n",
      "\n",
      "OffersScreenAppear p-значение: 0.26698769175859516\n",
      "Не получилось отвергнуть нулевую гипотезу, нет оснований считать доли разными\n",
      "\n",
      "CartScreenAppear p-значение: 0.2182812140633792\n",
      "Не получилось отвергнуть нулевую гипотезу, нет оснований считать доли разными\n",
      "\n",
      "PaymentScreenSuccessful p-значение: 0.10298394982948822\n",
      "Не получилось отвергнуть нулевую гипотезу, нет оснований считать доли разными\n",
      "\n",
      "Tutorial p-значение: 0.9182790262812368\n",
      "Не получилось отвергнуть нулевую гипотезу, нет оснований считать доли разными\n",
      "\n"
     ]
    }
   ],
   "source": [
    "z_test(\"A1\", \"A2\", shidak_alpha)"
   ]
  },
  {
   "cell_type": "code",
   "execution_count": 56,
   "metadata": {},
   "outputs": [
    {
     "name": "stdout",
     "output_type": "stream",
     "text": [
      "MainScreenAppear p-значение: 0.34705881021236484\n",
      "Не получилось отвергнуть нулевую гипотезу, нет оснований считать доли разными\n",
      "\n",
      "OffersScreenAppear p-значение: 0.20836205402738917\n",
      "Не получилось отвергнуть нулевую гипотезу, нет оснований считать доли разными\n",
      "\n",
      "CartScreenAppear p-значение: 0.08328412977507749\n",
      "Не получилось отвергнуть нулевую гипотезу, нет оснований считать доли разными\n",
      "\n",
      "PaymentScreenSuccessful p-значение: 0.22269358994682742\n",
      "Не получилось отвергнуть нулевую гипотезу, нет оснований считать доли разными\n",
      "\n",
      "Tutorial p-значение: 0.8964489622133207\n",
      "Не получилось отвергнуть нулевую гипотезу, нет оснований считать доли разными\n",
      "\n"
     ]
    }
   ],
   "source": [
    "z_test(\"A1\", \"B\", shidak_alpha)"
   ]
  },
  {
   "cell_type": "code",
   "execution_count": 57,
   "metadata": {},
   "outputs": [
    {
     "name": "stdout",
     "output_type": "stream",
     "text": [
      "MainScreenAppear p-значение: 0.6001661582453706\n",
      "Не получилось отвергнуть нулевую гипотезу, нет оснований считать доли разными\n",
      "\n",
      "OffersScreenAppear p-значение: 0.8835956656016957\n",
      "Не получилось отвергнуть нулевую гипотезу, нет оснований считать доли разными\n",
      "\n",
      "CartScreenAppear p-значение: 0.6169517476996997\n",
      "Не получилось отвергнуть нулевую гипотезу, нет оснований считать доли разными\n",
      "\n",
      "PaymentScreenSuccessful p-значение: 0.6775413642906454\n",
      "Не получилось отвергнуть нулевую гипотезу, нет оснований считать доли разными\n",
      "\n",
      "Tutorial p-значение: 0.8151967015119994\n",
      "Не получилось отвергнуть нулевую гипотезу, нет оснований считать доли разными\n",
      "\n"
     ]
    }
   ],
   "source": [
    "z_test(\"A2\", \"B\", shidak_alpha)"
   ]
  },
  {
   "cell_type": "code",
   "execution_count": 58,
   "metadata": {},
   "outputs": [
    {
     "name": "stdout",
     "output_type": "stream",
     "text": [
      "MainScreenAppear p-значение: 0.39298914928006035\n",
      "Не получилось отвергнуть нулевую гипотезу, нет оснований считать доли разными\n",
      "\n",
      "OffersScreenAppear p-значение: 0.418998284007599\n",
      "Не получилось отвергнуть нулевую гипотезу, нет оснований считать доли разными\n",
      "\n",
      "CartScreenAppear p-значение: 0.19819340844527744\n",
      "Не получилось отвергнуть нулевую гипотезу, нет оснований считать доли разными\n",
      "\n",
      "PaymentScreenSuccessful p-значение: 0.6452057673098244\n",
      "Не получилось отвергнуть нулевую гипотезу, нет оснований считать доли разными\n",
      "\n",
      "Tutorial p-значение: 0.8333049080125807\n",
      "Не получилось отвергнуть нулевую гипотезу, нет оснований считать доли разными\n",
      "\n"
     ]
    }
   ],
   "source": [
    "z_test(\"A1+A2\", \"B\", shidak_alpha)"
   ]
  },
  {
   "cell_type": "markdown",
   "metadata": {},
   "source": [
    "#### Вывод\n",
    "1. Количество пользователей по экспериментальным группам:\n",
    "- A1 - 2484 челловек;\n",
    "- A2 - 2517 человек;\n",
    "- B - 2537 человек;\n",
    "- A1+A2 - 5001 человек.\n",
    "2. Наиболее популярное событие в датасете - переход на главную страницу (MainScreenAppear), в каждой экспериментальной группе его совершили более 98% от общего числа пользователей по группам:\n",
    "- A1 - 2450 челловек;\n",
    "- A2 - 2479 человек;\n",
    "- B - 2494 человека;\n",
    "- A1+A2 - 4929 человек.\n",
    "3. По всем остальным событиям процентное соотношение совершивших действие к общему количеству пользователей по группам тождественно.\n",
    "4. В ходе А/А/В-теста были сформулированы гипотезы:\n",
    "- Н0 - между долями пользователей значимой разницы нет;\n",
    "- Н1 - между долями пользователей есть значимая разница.\n",
    "5. При проверке статистических гипотез был выбран уровень статистической значимости 0,05.\n",
    "6. В ходе 20 проверок статистических гипотез по 4 группам (А1, А2, В, А1+А2) в разрезе 5 событий был получен результат 'Не получилось отвергнуть нулевую гипотезу, нет оснований считать доли разными'.\n",
    "6. В целях исключения вероятности ошибки первого рода при проведении множественного теста рассчитан скорректированный уровень статистической значимости методом Шидака.\n",
    "7. В результате проведенных тестов с использованием скорректированного уровеня статистической значимости подтвердилась Н0 - между долями пользователей значимой разницы нет."
   ]
  },
  {
   "cell_type": "markdown",
   "metadata": {},
   "source": [
    "### Общий вывод\n",
    "1. В анализируемом датасете содержится информация о 241724 событиях и 7538 уникальных пользователях мобильного приложения по продаже продуктов питания.\n",
    "2. Наблюдаемый период времени - с 31 июля 2019 года 21:00 по 07 августа 2019 года 21:15:17.\n",
    "3. Воронка событий состоит из 4 этапов:\n",
    "- MainScreenAppear - переход на главный экран;\n",
    "- OffersScreenAppear - переход на страницу товара;\n",
    "- CartScreenAppear - переход в корзину;\n",
    "- PaymentScreenSuccessful - успешная оплата.\n",
    "- Дополнительно в датасет включено события Tutorial - обучающая инструкция.\n",
    "4. На главный экран переходят более 98% от общего количества пользователей приложения.\n",
    "5. До покупки товара доходят порядка 48% пользователей, зашедших на главный экран.\n",
    "6. Наибольшие потери пользователей наблюдаются при переходе с главного экрана на страницу товара - около 40%.\n",
    "7. В среднем около 95% пользователей, перешедших в корзину, осуществляют оплату.\n",
    "8. Тесты проведены по 4 группам -  (А1, А2, А1+А2 - контрольные группы, В - экспериментальная группа с измененным шрифтом).\n",
    "9. В ходе проверок с уровенем статистической значимости 0,05 и скорректированным уровнем статистической значимости методом Шидака выявлено, что значимой разницы между долями пользователей во всех комбинациях групп (А/А/В-тест) нет.\n",
    "10. Изменение шрифта во всем приложении нецелесообразно.\n",
    "11. В связи с соотношением количества посетителей главной страницы приложения к общему количеству пользователей в размере 98,5% рекомендуется обращение к техническим специалистам для анализа возможных функциональных проблем (сбой, ошибки авторизации и т.д.)."
   ]
  }
 ],
 "metadata": {
  "ExecuteTimeLog": [
   {
    "duration": 1272,
    "start_time": "2023-08-06T15:52:30.645Z"
   },
   {
    "duration": 67,
    "start_time": "2023-08-06T15:58:53.504Z"
   },
   {
    "duration": 10,
    "start_time": "2023-08-06T15:59:51.271Z"
   },
   {
    "duration": 580,
    "start_time": "2023-08-06T16:00:55.255Z"
   },
   {
    "duration": 16,
    "start_time": "2023-08-06T16:00:56.899Z"
   },
   {
    "duration": 11,
    "start_time": "2023-08-06T16:02:07.315Z"
   },
   {
    "duration": 138,
    "start_time": "2023-08-06T16:03:20.599Z"
   },
   {
    "duration": 25,
    "start_time": "2023-08-06T16:03:22.819Z"
   },
   {
    "duration": 8,
    "start_time": "2023-08-06T16:03:29.166Z"
   },
   {
    "duration": 7,
    "start_time": "2023-08-06T16:03:38.658Z"
   },
   {
    "duration": 4,
    "start_time": "2023-08-06T16:19:25.097Z"
   },
   {
    "duration": 11,
    "start_time": "2023-08-06T16:19:45.149Z"
   },
   {
    "duration": 7,
    "start_time": "2023-08-06T16:19:56.397Z"
   },
   {
    "duration": 6,
    "start_time": "2023-08-06T16:20:08.955Z"
   },
   {
    "duration": 19,
    "start_time": "2023-08-06T16:20:09.542Z"
   },
   {
    "duration": 127,
    "start_time": "2023-08-06T16:35:04.618Z"
   },
   {
    "duration": 4,
    "start_time": "2023-08-06T16:35:12.966Z"
   },
   {
    "duration": 172,
    "start_time": "2023-08-06T16:35:12.972Z"
   },
   {
    "duration": 26,
    "start_time": "2023-08-06T16:35:13.145Z"
   },
   {
    "duration": 26,
    "start_time": "2023-08-06T16:35:13.173Z"
   },
   {
    "duration": 32,
    "start_time": "2023-08-06T16:35:13.201Z"
   },
   {
    "duration": 24,
    "start_time": "2023-08-06T16:35:13.235Z"
   },
   {
    "duration": 45,
    "start_time": "2023-08-06T16:35:13.261Z"
   },
   {
    "duration": 23,
    "start_time": "2023-08-06T16:42:18.937Z"
   },
   {
    "duration": 8,
    "start_time": "2023-08-06T16:45:31.060Z"
   },
   {
    "duration": 62,
    "start_time": "2023-08-06T16:50:30.283Z"
   },
   {
    "duration": 25,
    "start_time": "2023-08-06T16:50:33.499Z"
   },
   {
    "duration": 7,
    "start_time": "2023-08-06T16:50:39.771Z"
   },
   {
    "duration": 70,
    "start_time": "2023-08-06T17:28:22.630Z"
   },
   {
    "duration": 90,
    "start_time": "2023-08-06T17:36:28.558Z"
   },
   {
    "duration": 80,
    "start_time": "2023-08-06T17:36:46.222Z"
   },
   {
    "duration": 3,
    "start_time": "2023-08-06T17:38:53.030Z"
   },
   {
    "duration": 195,
    "start_time": "2023-08-06T17:38:53.035Z"
   },
   {
    "duration": 19,
    "start_time": "2023-08-06T17:38:53.231Z"
   },
   {
    "duration": 11,
    "start_time": "2023-08-06T17:38:53.251Z"
   },
   {
    "duration": 5,
    "start_time": "2023-08-06T17:38:53.264Z"
   },
   {
    "duration": 10,
    "start_time": "2023-08-06T17:38:53.271Z"
   },
   {
    "duration": 76,
    "start_time": "2023-08-06T17:38:53.283Z"
   },
   {
    "duration": 57,
    "start_time": "2023-08-06T17:38:53.362Z"
   },
   {
    "duration": 76,
    "start_time": "2023-08-06T17:38:53.421Z"
   },
   {
    "duration": 98,
    "start_time": "2023-08-06T17:38:53.499Z"
   },
   {
    "duration": 23,
    "start_time": "2023-08-06T17:38:53.598Z"
   },
   {
    "duration": 21,
    "start_time": "2023-08-06T17:38:53.622Z"
   },
   {
    "duration": 9,
    "start_time": "2023-08-06T17:43:15.818Z"
   },
   {
    "duration": 7,
    "start_time": "2023-08-06T17:43:49.293Z"
   },
   {
    "duration": 21,
    "start_time": "2023-08-06T17:47:09.062Z"
   },
   {
    "duration": 7,
    "start_time": "2023-08-06T17:47:33.154Z"
   },
   {
    "duration": 75,
    "start_time": "2023-08-06T17:50:14.520Z"
   },
   {
    "duration": 4,
    "start_time": "2023-08-06T17:53:29.711Z"
   },
   {
    "duration": 188,
    "start_time": "2023-08-06T17:53:29.717Z"
   },
   {
    "duration": 17,
    "start_time": "2023-08-06T17:53:29.906Z"
   },
   {
    "duration": 20,
    "start_time": "2023-08-06T17:53:29.925Z"
   },
   {
    "duration": 7,
    "start_time": "2023-08-06T17:53:29.949Z"
   },
   {
    "duration": 13,
    "start_time": "2023-08-06T17:53:29.958Z"
   },
   {
    "duration": 33,
    "start_time": "2023-08-06T17:53:29.973Z"
   },
   {
    "duration": 151,
    "start_time": "2023-08-06T17:53:30.008Z"
   },
   {
    "duration": 80,
    "start_time": "2023-08-06T17:53:30.162Z"
   },
   {
    "duration": 95,
    "start_time": "2023-08-06T17:53:30.244Z"
   },
   {
    "duration": 31,
    "start_time": "2023-08-06T17:53:30.341Z"
   },
   {
    "duration": 35,
    "start_time": "2023-08-06T17:53:30.373Z"
   },
   {
    "duration": 24,
    "start_time": "2023-08-06T17:59:01.655Z"
   },
   {
    "duration": 6,
    "start_time": "2023-08-06T17:59:44.610Z"
   },
   {
    "duration": 19,
    "start_time": "2023-08-06T18:01:54.542Z"
   },
   {
    "duration": 70,
    "start_time": "2023-08-06T18:01:56.138Z"
   },
   {
    "duration": 7,
    "start_time": "2023-08-06T18:01:57.362Z"
   },
   {
    "duration": 954,
    "start_time": "2023-08-06T18:04:09.437Z"
   },
   {
    "duration": 27,
    "start_time": "2023-08-06T18:04:21.709Z"
   },
   {
    "duration": 1034,
    "start_time": "2023-08-06T18:06:00.462Z"
   },
   {
    "duration": 163,
    "start_time": "2023-08-06T18:06:01.497Z"
   },
   {
    "duration": 20,
    "start_time": "2023-08-06T18:06:01.661Z"
   },
   {
    "duration": 42,
    "start_time": "2023-08-06T18:06:01.683Z"
   },
   {
    "duration": 64,
    "start_time": "2023-08-06T18:06:01.727Z"
   },
   {
    "duration": 67,
    "start_time": "2023-08-06T18:06:01.792Z"
   },
   {
    "duration": 95,
    "start_time": "2023-08-06T18:06:01.860Z"
   },
   {
    "duration": 96,
    "start_time": "2023-08-06T18:06:01.957Z"
   },
   {
    "duration": 1017,
    "start_time": "2023-08-06T18:06:02.058Z"
   },
   {
    "duration": 28,
    "start_time": "2023-08-06T18:06:03.077Z"
   },
   {
    "duration": 99,
    "start_time": "2023-08-06T18:06:03.107Z"
   },
   {
    "duration": 106,
    "start_time": "2023-08-06T18:06:03.208Z"
   },
   {
    "duration": 30,
    "start_time": "2023-08-06T18:06:03.316Z"
   },
   {
    "duration": 14,
    "start_time": "2023-08-06T18:06:03.348Z"
   },
   {
    "duration": 4,
    "start_time": "2023-08-06T18:06:43.885Z"
   },
   {
    "duration": 208,
    "start_time": "2023-08-06T18:06:43.891Z"
   },
   {
    "duration": 19,
    "start_time": "2023-08-06T18:06:44.101Z"
   },
   {
    "duration": 33,
    "start_time": "2023-08-06T18:06:44.123Z"
   },
   {
    "duration": 16,
    "start_time": "2023-08-06T18:06:44.161Z"
   },
   {
    "duration": 29,
    "start_time": "2023-08-06T18:06:44.179Z"
   },
   {
    "duration": 21,
    "start_time": "2023-08-06T18:06:44.209Z"
   },
   {
    "duration": 96,
    "start_time": "2023-08-06T18:06:44.231Z"
   },
   {
    "duration": 2,
    "start_time": "2023-08-06T18:06:44.329Z"
   },
   {
    "duration": 75,
    "start_time": "2023-08-06T18:06:44.332Z"
   },
   {
    "duration": 97,
    "start_time": "2023-08-06T18:06:44.408Z"
   },
   {
    "duration": 122,
    "start_time": "2023-08-06T18:06:44.507Z"
   },
   {
    "duration": 36,
    "start_time": "2023-08-06T18:06:44.632Z"
   },
   {
    "duration": 29,
    "start_time": "2023-08-06T18:06:44.669Z"
   },
   {
    "duration": 5,
    "start_time": "2023-08-06T18:10:32.377Z"
   },
   {
    "duration": 20,
    "start_time": "2023-08-06T18:12:33.433Z"
   },
   {
    "duration": 8,
    "start_time": "2023-08-06T18:13:35.808Z"
   },
   {
    "duration": 43,
    "start_time": "2023-08-06T18:14:09.162Z"
   },
   {
    "duration": 29,
    "start_time": "2023-08-06T18:15:29.539Z"
   },
   {
    "duration": 108,
    "start_time": "2023-08-06T18:15:48.280Z"
   },
   {
    "duration": 49,
    "start_time": "2023-08-06T18:16:49.617Z"
   },
   {
    "duration": 16,
    "start_time": "2023-08-06T18:17:03.066Z"
   },
   {
    "duration": 19,
    "start_time": "2023-08-06T18:17:23.165Z"
   },
   {
    "duration": 17,
    "start_time": "2023-08-06T18:18:34.108Z"
   },
   {
    "duration": 24,
    "start_time": "2023-08-06T18:19:54.657Z"
   },
   {
    "duration": 127,
    "start_time": "2023-08-06T18:20:10.812Z"
   },
   {
    "duration": 125,
    "start_time": "2023-08-06T18:21:06.385Z"
   },
   {
    "duration": 7,
    "start_time": "2023-08-06T18:21:38.412Z"
   },
   {
    "duration": 11,
    "start_time": "2023-08-06T18:26:13.495Z"
   },
   {
    "duration": 66,
    "start_time": "2023-08-06T18:28:05.011Z"
   },
   {
    "duration": 913,
    "start_time": "2023-08-06T18:28:10.062Z"
   },
   {
    "duration": 693,
    "start_time": "2023-08-06T18:28:52.667Z"
   },
   {
    "duration": 792,
    "start_time": "2023-08-06T18:29:51.811Z"
   },
   {
    "duration": 689,
    "start_time": "2023-08-06T18:30:29.590Z"
   },
   {
    "duration": 1049,
    "start_time": "2023-08-06T18:32:31.307Z"
   },
   {
    "duration": 163,
    "start_time": "2023-08-06T18:32:32.358Z"
   },
   {
    "duration": 21,
    "start_time": "2023-08-06T18:32:32.522Z"
   },
   {
    "duration": 15,
    "start_time": "2023-08-06T18:32:32.554Z"
   },
   {
    "duration": 50,
    "start_time": "2023-08-06T18:32:32.571Z"
   },
   {
    "duration": 9,
    "start_time": "2023-08-06T18:32:32.622Z"
   },
   {
    "duration": 14,
    "start_time": "2023-08-06T18:32:32.633Z"
   },
   {
    "duration": 81,
    "start_time": "2023-08-06T18:32:32.648Z"
   },
   {
    "duration": 5,
    "start_time": "2023-08-06T18:32:32.731Z"
   },
   {
    "duration": 121,
    "start_time": "2023-08-06T18:32:32.739Z"
   },
   {
    "duration": 103,
    "start_time": "2023-08-06T18:32:32.862Z"
   },
   {
    "duration": 24,
    "start_time": "2023-08-06T18:32:32.966Z"
   },
   {
    "duration": 7,
    "start_time": "2023-08-06T18:32:32.991Z"
   },
   {
    "duration": 13,
    "start_time": "2023-08-06T18:32:32.999Z"
   },
   {
    "duration": 46,
    "start_time": "2023-08-06T18:32:33.013Z"
   },
   {
    "duration": 10,
    "start_time": "2023-08-06T18:32:33.060Z"
   },
   {
    "duration": 15,
    "start_time": "2023-08-06T18:32:33.072Z"
   },
   {
    "duration": 16,
    "start_time": "2023-08-06T18:32:33.089Z"
   },
   {
    "duration": 13,
    "start_time": "2023-08-06T18:32:33.106Z"
   },
   {
    "duration": 154,
    "start_time": "2023-08-06T18:32:33.122Z"
   },
   {
    "duration": 7,
    "start_time": "2023-08-06T18:32:33.278Z"
   },
   {
    "duration": 1076,
    "start_time": "2023-08-06T19:09:10.476Z"
   },
   {
    "duration": 548,
    "start_time": "2023-08-06T19:09:11.554Z"
   },
   {
    "duration": 19,
    "start_time": "2023-08-06T19:09:12.104Z"
   },
   {
    "duration": 11,
    "start_time": "2023-08-06T19:09:12.125Z"
   },
   {
    "duration": 20,
    "start_time": "2023-08-06T19:09:12.137Z"
   },
   {
    "duration": 18,
    "start_time": "2023-08-06T19:09:12.159Z"
   },
   {
    "duration": 15,
    "start_time": "2023-08-06T19:09:12.178Z"
   },
   {
    "duration": 85,
    "start_time": "2023-08-06T19:09:12.194Z"
   },
   {
    "duration": 5,
    "start_time": "2023-08-06T19:09:12.280Z"
   },
   {
    "duration": 97,
    "start_time": "2023-08-06T19:09:12.287Z"
   },
   {
    "duration": 106,
    "start_time": "2023-08-06T19:09:12.386Z"
   },
   {
    "duration": 22,
    "start_time": "2023-08-06T19:09:12.493Z"
   },
   {
    "duration": 33,
    "start_time": "2023-08-06T19:09:12.517Z"
   },
   {
    "duration": 14,
    "start_time": "2023-08-06T19:09:12.552Z"
   },
   {
    "duration": 38,
    "start_time": "2023-08-06T19:09:12.568Z"
   },
   {
    "duration": 9,
    "start_time": "2023-08-06T19:09:12.610Z"
   },
   {
    "duration": 36,
    "start_time": "2023-08-06T19:09:12.621Z"
   },
   {
    "duration": 20,
    "start_time": "2023-08-06T19:09:12.660Z"
   },
   {
    "duration": 15,
    "start_time": "2023-08-06T19:09:12.682Z"
   },
   {
    "duration": 150,
    "start_time": "2023-08-06T19:09:12.698Z"
   },
   {
    "duration": 11,
    "start_time": "2023-08-06T19:09:12.849Z"
   },
   {
    "duration": 13,
    "start_time": "2023-08-06T19:09:12.862Z"
   },
   {
    "duration": 113,
    "start_time": "2023-08-06T19:09:12.877Z"
   },
   {
    "duration": 15,
    "start_time": "2023-08-06T19:10:30.764Z"
   },
   {
    "duration": 17,
    "start_time": "2023-08-06T19:10:58.308Z"
   },
   {
    "duration": 25,
    "start_time": "2023-08-06T19:12:12.849Z"
   },
   {
    "duration": 861,
    "start_time": "2023-08-06T19:12:51.355Z"
   },
   {
    "duration": 1134,
    "start_time": "2023-08-06T19:15:46.032Z"
   },
   {
    "duration": 166,
    "start_time": "2023-08-06T19:15:47.169Z"
   },
   {
    "duration": 27,
    "start_time": "2023-08-06T19:15:47.337Z"
   },
   {
    "duration": 19,
    "start_time": "2023-08-06T19:15:47.366Z"
   },
   {
    "duration": 4,
    "start_time": "2023-08-06T19:15:47.386Z"
   },
   {
    "duration": 7,
    "start_time": "2023-08-06T19:15:47.391Z"
   },
   {
    "duration": 13,
    "start_time": "2023-08-06T19:15:47.400Z"
   },
   {
    "duration": 99,
    "start_time": "2023-08-06T19:15:47.415Z"
   },
   {
    "duration": 6,
    "start_time": "2023-08-06T19:15:47.516Z"
   },
   {
    "duration": 103,
    "start_time": "2023-08-06T19:15:47.524Z"
   },
   {
    "duration": 143,
    "start_time": "2023-08-06T19:15:47.628Z"
   },
   {
    "duration": 29,
    "start_time": "2023-08-06T19:15:47.772Z"
   },
   {
    "duration": 8,
    "start_time": "2023-08-06T19:15:47.802Z"
   },
   {
    "duration": 15,
    "start_time": "2023-08-06T19:15:47.811Z"
   },
   {
    "duration": 49,
    "start_time": "2023-08-06T19:15:47.837Z"
   },
   {
    "duration": 8,
    "start_time": "2023-08-06T19:15:47.888Z"
   },
   {
    "duration": 23,
    "start_time": "2023-08-06T19:15:47.898Z"
   },
   {
    "duration": 59,
    "start_time": "2023-08-06T19:15:47.923Z"
   },
   {
    "duration": 17,
    "start_time": "2023-08-06T19:15:47.983Z"
   },
   {
    "duration": 124,
    "start_time": "2023-08-06T19:15:48.002Z"
   },
   {
    "duration": 11,
    "start_time": "2023-08-06T19:15:48.128Z"
   },
   {
    "duration": 35,
    "start_time": "2023-08-06T19:15:48.140Z"
   },
   {
    "duration": 39061,
    "start_time": "2023-08-06T19:20:49.364Z"
   },
   {
    "duration": 0,
    "start_time": "2023-08-06T19:21:28.569Z"
   },
   {
    "duration": 28,
    "start_time": "2023-08-06T19:21:36.472Z"
   },
   {
    "duration": 41608,
    "start_time": "2023-08-06T19:27:18.470Z"
   },
   {
    "duration": 302261,
    "start_time": "2023-08-06T19:28:00.080Z"
   },
   {
    "duration": 34380,
    "start_time": "2023-08-06T19:34:52.956Z"
   },
   {
    "duration": 9,
    "start_time": "2023-08-06T19:38:00.839Z"
   },
   {
    "duration": 10,
    "start_time": "2023-08-06T19:44:02.818Z"
   },
   {
    "duration": 309932,
    "start_time": "2023-08-06T19:46:05.860Z"
   },
   {
    "duration": 5,
    "start_time": "2023-08-06T19:51:15.793Z"
   },
   {
    "duration": 17,
    "start_time": "2023-08-06T19:51:15.799Z"
   },
   {
    "duration": 348303,
    "start_time": "2023-08-06T19:52:11.761Z"
   },
   {
    "duration": 17,
    "start_time": "2023-08-06T19:58:00.066Z"
   },
   {
    "duration": 1335,
    "start_time": "2023-08-07T09:36:51.805Z"
   },
   {
    "duration": 486,
    "start_time": "2023-08-07T09:36:53.142Z"
   },
   {
    "duration": 20,
    "start_time": "2023-08-07T09:36:53.630Z"
   },
   {
    "duration": 11,
    "start_time": "2023-08-07T09:36:53.652Z"
   },
   {
    "duration": 5,
    "start_time": "2023-08-07T09:36:53.665Z"
   },
   {
    "duration": 14,
    "start_time": "2023-08-07T09:36:53.672Z"
   },
   {
    "duration": 38,
    "start_time": "2023-08-07T09:36:53.688Z"
   },
   {
    "duration": 80,
    "start_time": "2023-08-07T09:36:53.728Z"
   },
   {
    "duration": 6,
    "start_time": "2023-08-07T09:36:53.810Z"
   },
   {
    "duration": 94,
    "start_time": "2023-08-07T09:36:53.818Z"
   },
   {
    "duration": 114,
    "start_time": "2023-08-07T09:36:53.914Z"
   },
   {
    "duration": 24,
    "start_time": "2023-08-07T09:36:54.030Z"
   },
   {
    "duration": 8,
    "start_time": "2023-08-07T09:36:54.056Z"
   },
   {
    "duration": 27,
    "start_time": "2023-08-07T09:36:54.066Z"
   },
   {
    "duration": 38,
    "start_time": "2023-08-07T09:36:54.094Z"
   },
   {
    "duration": 7,
    "start_time": "2023-08-07T09:36:54.134Z"
   },
   {
    "duration": 21,
    "start_time": "2023-08-07T09:36:54.142Z"
   },
   {
    "duration": 18,
    "start_time": "2023-08-07T09:36:54.165Z"
   },
   {
    "duration": 34,
    "start_time": "2023-08-07T09:36:54.184Z"
   },
   {
    "duration": 145,
    "start_time": "2023-08-07T09:36:54.220Z"
   },
   {
    "duration": 8,
    "start_time": "2023-08-07T09:36:54.367Z"
   },
   {
    "duration": 8545,
    "start_time": "2023-08-07T09:36:54.377Z"
   },
   {
    "duration": 371763,
    "start_time": "2023-08-07T09:37:02.924Z"
   },
   {
    "duration": 24,
    "start_time": "2023-08-07T09:43:14.689Z"
   },
   {
    "duration": 14,
    "start_time": "2023-08-07T09:43:14.715Z"
   },
   {
    "duration": 37,
    "start_time": "2023-08-07T09:43:14.731Z"
   },
   {
    "duration": 22,
    "start_time": "2023-08-07T09:43:14.770Z"
   },
   {
    "duration": 3533,
    "start_time": "2023-08-07T11:14:58.516Z"
   },
   {
    "duration": 10,
    "start_time": "2023-08-07T11:15:02.051Z"
   },
   {
    "duration": 2764,
    "start_time": "2023-08-07T11:16:27.237Z"
   },
   {
    "duration": 10,
    "start_time": "2023-08-07T11:16:33.721Z"
   },
   {
    "duration": 12,
    "start_time": "2023-08-07T11:17:18.385Z"
   },
   {
    "duration": 11,
    "start_time": "2023-08-07T11:17:27.305Z"
   },
   {
    "duration": 33,
    "start_time": "2023-08-07T11:18:04.173Z"
   },
   {
    "duration": 63,
    "start_time": "2023-08-07T11:29:41.371Z"
   },
   {
    "duration": 57,
    "start_time": "2023-08-07T11:30:56.379Z"
   },
   {
    "duration": 56,
    "start_time": "2023-08-07T11:33:11.891Z"
   },
   {
    "duration": 112,
    "start_time": "2023-08-07T12:09:46.335Z"
   },
   {
    "duration": 24,
    "start_time": "2023-08-07T12:10:11.662Z"
   },
   {
    "duration": 53,
    "start_time": "2023-08-07T12:12:49.937Z"
   },
   {
    "duration": 58,
    "start_time": "2023-08-07T12:14:09.480Z"
   },
   {
    "duration": 45,
    "start_time": "2023-08-07T12:14:21.262Z"
   },
   {
    "duration": 91,
    "start_time": "2023-08-07T12:26:14.678Z"
   },
   {
    "duration": 15,
    "start_time": "2023-08-07T12:32:29.919Z"
   },
   {
    "duration": 6,
    "start_time": "2023-08-07T12:32:33.563Z"
   },
   {
    "duration": 156,
    "start_time": "2023-08-07T12:32:33.572Z"
   },
   {
    "duration": 18,
    "start_time": "2023-08-07T12:32:33.730Z"
   },
   {
    "duration": 10,
    "start_time": "2023-08-07T12:32:33.750Z"
   },
   {
    "duration": 13,
    "start_time": "2023-08-07T12:32:33.762Z"
   },
   {
    "duration": 14,
    "start_time": "2023-08-07T12:32:33.776Z"
   },
   {
    "duration": 50,
    "start_time": "2023-08-07T12:32:33.791Z"
   },
   {
    "duration": 89,
    "start_time": "2023-08-07T12:32:33.842Z"
   },
   {
    "duration": 6,
    "start_time": "2023-08-07T12:32:33.933Z"
   },
   {
    "duration": 103,
    "start_time": "2023-08-07T12:32:33.941Z"
   },
   {
    "duration": 86,
    "start_time": "2023-08-07T12:32:34.046Z"
   },
   {
    "duration": 28,
    "start_time": "2023-08-07T12:32:34.133Z"
   },
   {
    "duration": 30,
    "start_time": "2023-08-07T12:32:34.163Z"
   },
   {
    "duration": 49,
    "start_time": "2023-08-07T12:32:34.196Z"
   },
   {
    "duration": 50,
    "start_time": "2023-08-07T12:32:34.247Z"
   },
   {
    "duration": 20,
    "start_time": "2023-08-07T12:32:34.298Z"
   },
   {
    "duration": 33,
    "start_time": "2023-08-07T12:32:34.320Z"
   },
   {
    "duration": 124,
    "start_time": "2023-08-07T12:32:34.354Z"
   },
   {
    "duration": 94,
    "start_time": "2023-08-07T12:32:34.480Z"
   },
   {
    "duration": 148,
    "start_time": "2023-08-07T12:32:34.576Z"
   },
   {
    "duration": 9,
    "start_time": "2023-08-07T12:32:34.726Z"
   },
   {
    "duration": 1908,
    "start_time": "2023-08-07T12:32:34.736Z"
   },
   {
    "duration": 6,
    "start_time": "2023-08-07T12:32:36.645Z"
   },
   {
    "duration": 32,
    "start_time": "2023-08-07T12:32:36.652Z"
   },
   {
    "duration": 33,
    "start_time": "2023-08-07T12:32:36.685Z"
   },
   {
    "duration": 39,
    "start_time": "2023-08-07T12:32:36.720Z"
   },
   {
    "duration": 1214,
    "start_time": "2023-08-07T12:32:36.763Z"
   },
   {
    "duration": 0,
    "start_time": "2023-08-07T12:32:37.979Z"
   },
   {
    "duration": 0,
    "start_time": "2023-08-07T12:32:37.980Z"
   },
   {
    "duration": 0,
    "start_time": "2023-08-07T12:32:37.982Z"
   },
   {
    "duration": 0,
    "start_time": "2023-08-07T12:32:37.983Z"
   },
   {
    "duration": 0,
    "start_time": "2023-08-07T12:32:37.985Z"
   },
   {
    "duration": 1224,
    "start_time": "2023-08-07T12:43:30.670Z"
   },
   {
    "duration": 159,
    "start_time": "2023-08-07T12:43:31.896Z"
   },
   {
    "duration": 22,
    "start_time": "2023-08-07T12:43:32.056Z"
   },
   {
    "duration": 26,
    "start_time": "2023-08-07T12:43:32.081Z"
   },
   {
    "duration": 33,
    "start_time": "2023-08-07T12:43:32.109Z"
   },
   {
    "duration": 32,
    "start_time": "2023-08-07T12:43:32.144Z"
   },
   {
    "duration": 50,
    "start_time": "2023-08-07T12:43:32.177Z"
   },
   {
    "duration": 81,
    "start_time": "2023-08-07T12:43:32.229Z"
   },
   {
    "duration": 6,
    "start_time": "2023-08-07T12:43:32.311Z"
   },
   {
    "duration": 107,
    "start_time": "2023-08-07T12:43:32.320Z"
   },
   {
    "duration": 129,
    "start_time": "2023-08-07T12:43:32.430Z"
   },
   {
    "duration": 31,
    "start_time": "2023-08-07T12:43:32.561Z"
   },
   {
    "duration": 9,
    "start_time": "2023-08-07T12:43:32.610Z"
   },
   {
    "duration": 29,
    "start_time": "2023-08-07T12:43:32.621Z"
   },
   {
    "duration": 75,
    "start_time": "2023-08-07T12:43:32.652Z"
   },
   {
    "duration": 12,
    "start_time": "2023-08-07T12:43:32.728Z"
   },
   {
    "duration": 29,
    "start_time": "2023-08-07T12:43:32.741Z"
   },
   {
    "duration": 20,
    "start_time": "2023-08-07T12:43:32.772Z"
   },
   {
    "duration": 28,
    "start_time": "2023-08-07T12:43:32.794Z"
   },
   {
    "duration": 153,
    "start_time": "2023-08-07T12:43:32.824Z"
   },
   {
    "duration": 8,
    "start_time": "2023-08-07T12:43:32.979Z"
   },
   {
    "duration": 1701,
    "start_time": "2023-08-07T12:43:32.989Z"
   },
   {
    "duration": 5,
    "start_time": "2023-08-07T12:43:34.692Z"
   },
   {
    "duration": 4,
    "start_time": "2023-08-07T12:43:34.708Z"
   },
   {
    "duration": 15,
    "start_time": "2023-08-07T12:43:34.714Z"
   },
   {
    "duration": 11,
    "start_time": "2023-08-07T12:43:34.731Z"
   },
   {
    "duration": 1427,
    "start_time": "2023-08-07T12:43:34.743Z"
   },
   {
    "duration": 0,
    "start_time": "2023-08-07T12:43:36.172Z"
   },
   {
    "duration": 0,
    "start_time": "2023-08-07T12:43:36.173Z"
   },
   {
    "duration": 0,
    "start_time": "2023-08-07T12:43:36.174Z"
   },
   {
    "duration": 0,
    "start_time": "2023-08-07T12:43:36.175Z"
   },
   {
    "duration": 0,
    "start_time": "2023-08-07T12:43:36.176Z"
   },
   {
    "duration": 4,
    "start_time": "2023-08-07T12:45:44.400Z"
   },
   {
    "duration": 4,
    "start_time": "2023-08-07T12:45:48.879Z"
   },
   {
    "duration": 157,
    "start_time": "2023-08-07T12:45:48.885Z"
   },
   {
    "duration": 18,
    "start_time": "2023-08-07T12:45:49.044Z"
   },
   {
    "duration": 7,
    "start_time": "2023-08-07T12:45:49.064Z"
   },
   {
    "duration": 6,
    "start_time": "2023-08-07T12:45:49.074Z"
   },
   {
    "duration": 12,
    "start_time": "2023-08-07T12:45:49.081Z"
   },
   {
    "duration": 9,
    "start_time": "2023-08-07T12:45:49.109Z"
   },
   {
    "duration": 76,
    "start_time": "2023-08-07T12:45:49.119Z"
   },
   {
    "duration": 15,
    "start_time": "2023-08-07T12:45:49.197Z"
   },
   {
    "duration": 82,
    "start_time": "2023-08-07T12:45:49.214Z"
   },
   {
    "duration": 85,
    "start_time": "2023-08-07T12:45:49.309Z"
   },
   {
    "duration": 42,
    "start_time": "2023-08-07T12:45:49.396Z"
   },
   {
    "duration": 11,
    "start_time": "2023-08-07T12:45:49.441Z"
   },
   {
    "duration": 23,
    "start_time": "2023-08-07T12:45:49.456Z"
   },
   {
    "duration": 47,
    "start_time": "2023-08-07T12:45:49.481Z"
   },
   {
    "duration": 9,
    "start_time": "2023-08-07T12:45:49.530Z"
   },
   {
    "duration": 19,
    "start_time": "2023-08-07T12:45:49.541Z"
   },
   {
    "duration": 19,
    "start_time": "2023-08-07T12:45:49.562Z"
   },
   {
    "duration": 18,
    "start_time": "2023-08-07T12:45:49.609Z"
   },
   {
    "duration": 145,
    "start_time": "2023-08-07T12:45:49.629Z"
   },
   {
    "duration": 9,
    "start_time": "2023-08-07T12:45:49.776Z"
   },
   {
    "duration": 8628,
    "start_time": "2023-08-07T12:45:49.787Z"
   },
   {
    "duration": 13,
    "start_time": "2023-08-07T12:45:58.417Z"
   },
   {
    "duration": 6,
    "start_time": "2023-08-07T12:45:58.432Z"
   },
   {
    "duration": 14,
    "start_time": "2023-08-07T12:45:58.440Z"
   },
   {
    "duration": 13,
    "start_time": "2023-08-07T12:45:58.456Z"
   },
   {
    "duration": 2978,
    "start_time": "2023-08-07T12:45:58.471Z"
   },
   {
    "duration": 63,
    "start_time": "2023-08-07T12:46:01.450Z"
   },
   {
    "duration": 97,
    "start_time": "2023-08-07T12:46:01.514Z"
   },
   {
    "duration": 56,
    "start_time": "2023-08-07T12:46:01.612Z"
   },
   {
    "duration": 10,
    "start_time": "2023-08-07T12:46:01.669Z"
   },
   {
    "duration": 117,
    "start_time": "2023-08-07T12:46:01.681Z"
   },
   {
    "duration": 61,
    "start_time": "2023-08-07T13:24:09.244Z"
   },
   {
    "duration": 58,
    "start_time": "2023-08-07T13:24:56.360Z"
   },
   {
    "duration": 31,
    "start_time": "2023-08-07T13:26:00.387Z"
   },
   {
    "duration": 28,
    "start_time": "2023-08-07T13:26:33.286Z"
   },
   {
    "duration": 11,
    "start_time": "2023-08-07T13:52:41.537Z"
   },
   {
    "duration": 65,
    "start_time": "2023-08-07T13:52:53.861Z"
   },
   {
    "duration": 67,
    "start_time": "2023-08-07T13:53:49.937Z"
   },
   {
    "duration": 61,
    "start_time": "2023-08-07T13:54:19.041Z"
   },
   {
    "duration": 69,
    "start_time": "2023-08-07T13:54:48.433Z"
   },
   {
    "duration": 57,
    "start_time": "2023-08-07T13:54:58.337Z"
   },
   {
    "duration": 87,
    "start_time": "2023-08-07T13:55:11.997Z"
   },
   {
    "duration": 68,
    "start_time": "2023-08-07T13:56:01.080Z"
   },
   {
    "duration": 4,
    "start_time": "2023-08-07T15:07:22.237Z"
   },
   {
    "duration": 23,
    "start_time": "2023-08-07T15:08:17.897Z"
   },
   {
    "duration": 11,
    "start_time": "2023-08-07T15:09:30.569Z"
   },
   {
    "duration": 10,
    "start_time": "2023-08-07T15:11:29.501Z"
   },
   {
    "duration": 20,
    "start_time": "2023-08-07T15:11:43.941Z"
   },
   {
    "duration": 18,
    "start_time": "2023-08-07T15:14:29.753Z"
   },
   {
    "duration": 51,
    "start_time": "2023-08-07T15:15:43.353Z"
   },
   {
    "duration": 61,
    "start_time": "2023-08-07T15:16:01.525Z"
   },
   {
    "duration": 61,
    "start_time": "2023-08-07T15:16:11.713Z"
   },
   {
    "duration": 52,
    "start_time": "2023-08-07T15:16:36.569Z"
   },
   {
    "duration": 50,
    "start_time": "2023-08-07T15:17:38.677Z"
   },
   {
    "duration": 56,
    "start_time": "2023-08-07T15:19:00.793Z"
   },
   {
    "duration": 133,
    "start_time": "2023-08-07T15:19:45.177Z"
   },
   {
    "duration": 57,
    "start_time": "2023-08-07T15:19:52.384Z"
   },
   {
    "duration": 57,
    "start_time": "2023-08-07T15:20:13.524Z"
   },
   {
    "duration": 57,
    "start_time": "2023-08-07T15:21:15.043Z"
   },
   {
    "duration": 58,
    "start_time": "2023-08-07T15:23:37.596Z"
   },
   {
    "duration": 57,
    "start_time": "2023-08-07T15:24:17.763Z"
   },
   {
    "duration": 2596,
    "start_time": "2023-08-07T15:31:57.634Z"
   },
   {
    "duration": 2976,
    "start_time": "2023-08-07T15:33:15.174Z"
   },
   {
    "duration": 15,
    "start_time": "2023-08-07T15:57:32.340Z"
   },
   {
    "duration": 1607,
    "start_time": "2023-08-07T15:58:05.769Z"
   },
   {
    "duration": 1381,
    "start_time": "2023-08-07T15:58:30.832Z"
   },
   {
    "duration": 3,
    "start_time": "2023-08-07T15:59:32.532Z"
   },
   {
    "duration": 5,
    "start_time": "2023-08-07T15:59:38.292Z"
   },
   {
    "duration": 4,
    "start_time": "2023-08-07T15:59:59.316Z"
   },
   {
    "duration": 5,
    "start_time": "2023-08-07T16:00:06.133Z"
   },
   {
    "duration": 4,
    "start_time": "2023-08-07T16:00:12.165Z"
   },
   {
    "duration": 58,
    "start_time": "2023-08-07T16:00:21.989Z"
   },
   {
    "duration": 1499,
    "start_time": "2023-08-07T16:04:37.393Z"
   },
   {
    "duration": 3336,
    "start_time": "2023-08-07T16:04:52.753Z"
   },
   {
    "duration": 10,
    "start_time": "2023-08-07T16:05:09.973Z"
   },
   {
    "duration": 2938,
    "start_time": "2023-08-07T16:05:54.797Z"
   },
   {
    "duration": 13,
    "start_time": "2023-08-07T16:06:16.924Z"
   },
   {
    "duration": 17,
    "start_time": "2023-08-07T16:07:19.012Z"
   },
   {
    "duration": 54,
    "start_time": "2023-08-07T16:09:20.105Z"
   },
   {
    "duration": 70,
    "start_time": "2023-08-07T16:10:24.048Z"
   },
   {
    "duration": 80,
    "start_time": "2023-08-07T16:12:29.081Z"
   },
   {
    "duration": 45,
    "start_time": "2023-08-07T16:14:36.965Z"
   },
   {
    "duration": 20,
    "start_time": "2023-08-07T16:17:36.445Z"
   },
   {
    "duration": 238,
    "start_time": "2023-08-07T16:18:47.354Z"
   },
   {
    "duration": 186,
    "start_time": "2023-08-07T16:19:14.633Z"
   },
   {
    "duration": 221,
    "start_time": "2023-08-07T16:22:12.952Z"
   },
   {
    "duration": 213,
    "start_time": "2023-08-07T16:24:51.296Z"
   },
   {
    "duration": 250,
    "start_time": "2023-08-07T16:25:02.096Z"
   },
   {
    "duration": 216,
    "start_time": "2023-08-07T16:25:28.812Z"
   },
   {
    "duration": 252,
    "start_time": "2023-08-07T16:25:39.860Z"
   },
   {
    "duration": 241,
    "start_time": "2023-08-07T16:26:02.329Z"
   },
   {
    "duration": 4,
    "start_time": "2023-08-07T16:26:46.724Z"
   },
   {
    "duration": 157,
    "start_time": "2023-08-07T16:26:46.731Z"
   },
   {
    "duration": 28,
    "start_time": "2023-08-07T16:26:46.889Z"
   },
   {
    "duration": 8,
    "start_time": "2023-08-07T16:26:46.920Z"
   },
   {
    "duration": 6,
    "start_time": "2023-08-07T16:26:46.930Z"
   },
   {
    "duration": 13,
    "start_time": "2023-08-07T16:26:46.938Z"
   },
   {
    "duration": 11,
    "start_time": "2023-08-07T16:26:46.952Z"
   },
   {
    "duration": 97,
    "start_time": "2023-08-07T16:26:46.965Z"
   },
   {
    "duration": 6,
    "start_time": "2023-08-07T16:26:47.065Z"
   },
   {
    "duration": 96,
    "start_time": "2023-08-07T16:26:47.072Z"
   },
   {
    "duration": 86,
    "start_time": "2023-08-07T16:26:47.169Z"
   },
   {
    "duration": 27,
    "start_time": "2023-08-07T16:26:47.257Z"
   },
   {
    "duration": 23,
    "start_time": "2023-08-07T16:26:47.286Z"
   },
   {
    "duration": 11,
    "start_time": "2023-08-07T16:26:47.311Z"
   },
   {
    "duration": 44,
    "start_time": "2023-08-07T16:26:47.323Z"
   },
   {
    "duration": 7,
    "start_time": "2023-08-07T16:26:47.369Z"
   },
   {
    "duration": 19,
    "start_time": "2023-08-07T16:26:47.378Z"
   },
   {
    "duration": 28,
    "start_time": "2023-08-07T16:26:47.399Z"
   },
   {
    "duration": 30,
    "start_time": "2023-08-07T16:26:47.428Z"
   },
   {
    "duration": 130,
    "start_time": "2023-08-07T16:26:47.460Z"
   },
   {
    "duration": 17,
    "start_time": "2023-08-07T16:26:47.592Z"
   },
   {
    "duration": 8445,
    "start_time": "2023-08-07T16:26:47.610Z"
   },
   {
    "duration": 220,
    "start_time": "2023-08-07T16:26:56.057Z"
   },
   {
    "duration": 11,
    "start_time": "2023-08-07T16:26:56.280Z"
   },
   {
    "duration": 49,
    "start_time": "2023-08-07T16:26:56.293Z"
   },
   {
    "duration": 33,
    "start_time": "2023-08-07T16:26:56.343Z"
   },
   {
    "duration": 33,
    "start_time": "2023-08-07T16:26:56.378Z"
   },
   {
    "duration": 2961,
    "start_time": "2023-08-07T16:26:56.413Z"
   },
   {
    "duration": 65,
    "start_time": "2023-08-07T16:26:59.376Z"
   },
   {
    "duration": 97,
    "start_time": "2023-08-07T16:26:59.443Z"
   },
   {
    "duration": 53,
    "start_time": "2023-08-07T16:26:59.541Z"
   },
   {
    "duration": 54,
    "start_time": "2023-08-07T16:26:59.608Z"
   },
   {
    "duration": 65,
    "start_time": "2023-08-07T16:26:59.664Z"
   },
   {
    "duration": 43,
    "start_time": "2023-08-07T16:26:59.731Z"
   },
   {
    "duration": 11,
    "start_time": "2023-08-07T16:26:59.775Z"
   },
   {
    "duration": 52,
    "start_time": "2023-08-07T16:26:59.787Z"
   },
   {
    "duration": 230,
    "start_time": "2023-08-07T16:29:28.496Z"
   },
   {
    "duration": 4,
    "start_time": "2023-08-07T16:29:37.268Z"
   },
   {
    "duration": 155,
    "start_time": "2023-08-07T16:29:37.274Z"
   },
   {
    "duration": 17,
    "start_time": "2023-08-07T16:29:37.431Z"
   },
   {
    "duration": 7,
    "start_time": "2023-08-07T16:29:37.450Z"
   },
   {
    "duration": 16,
    "start_time": "2023-08-07T16:29:37.459Z"
   },
   {
    "duration": 14,
    "start_time": "2023-08-07T16:29:37.476Z"
   },
   {
    "duration": 20,
    "start_time": "2023-08-07T16:29:37.492Z"
   },
   {
    "duration": 72,
    "start_time": "2023-08-07T16:29:37.515Z"
   },
   {
    "duration": 20,
    "start_time": "2023-08-07T16:29:37.589Z"
   },
   {
    "duration": 69,
    "start_time": "2023-08-07T16:29:37.611Z"
   },
   {
    "duration": 90,
    "start_time": "2023-08-07T16:29:37.682Z"
   },
   {
    "duration": 41,
    "start_time": "2023-08-07T16:29:37.773Z"
   },
   {
    "duration": 8,
    "start_time": "2023-08-07T16:29:37.816Z"
   },
   {
    "duration": 16,
    "start_time": "2023-08-07T16:29:37.826Z"
   },
   {
    "duration": 29,
    "start_time": "2023-08-07T16:29:37.844Z"
   },
   {
    "duration": 18,
    "start_time": "2023-08-07T16:29:37.875Z"
   },
   {
    "duration": 35,
    "start_time": "2023-08-07T16:29:37.895Z"
   },
   {
    "duration": 16,
    "start_time": "2023-08-07T16:29:37.932Z"
   },
   {
    "duration": 16,
    "start_time": "2023-08-07T16:29:37.950Z"
   },
   {
    "duration": 152,
    "start_time": "2023-08-07T16:29:37.968Z"
   },
   {
    "duration": 9,
    "start_time": "2023-08-07T16:29:38.121Z"
   },
   {
    "duration": 9718,
    "start_time": "2023-08-07T16:29:38.131Z"
   },
   {
    "duration": 239,
    "start_time": "2023-08-07T16:29:47.850Z"
   },
   {
    "duration": 18,
    "start_time": "2023-08-07T16:29:48.092Z"
   },
   {
    "duration": 9,
    "start_time": "2023-08-07T16:29:48.111Z"
   },
   {
    "duration": 26,
    "start_time": "2023-08-07T16:29:48.122Z"
   },
   {
    "duration": 54,
    "start_time": "2023-08-07T16:29:48.150Z"
   },
   {
    "duration": 3035,
    "start_time": "2023-08-07T16:29:48.206Z"
   },
   {
    "duration": 53,
    "start_time": "2023-08-07T16:29:51.243Z"
   },
   {
    "duration": 220,
    "start_time": "2023-08-07T16:29:51.297Z"
   },
   {
    "duration": 57,
    "start_time": "2023-08-07T16:29:51.520Z"
   },
   {
    "duration": 75,
    "start_time": "2023-08-07T16:29:51.579Z"
   },
   {
    "duration": 130,
    "start_time": "2023-08-07T16:29:51.656Z"
   },
   {
    "duration": 46,
    "start_time": "2023-08-07T16:29:51.787Z"
   },
   {
    "duration": 44,
    "start_time": "2023-08-07T16:29:51.835Z"
   },
   {
    "duration": 45,
    "start_time": "2023-08-07T16:29:51.882Z"
   },
   {
    "duration": 4,
    "start_time": "2023-08-07T16:30:22.695Z"
   },
   {
    "duration": 153,
    "start_time": "2023-08-07T16:30:22.703Z"
   },
   {
    "duration": 19,
    "start_time": "2023-08-07T16:30:22.857Z"
   },
   {
    "duration": 8,
    "start_time": "2023-08-07T16:30:22.878Z"
   },
   {
    "duration": 21,
    "start_time": "2023-08-07T16:30:22.888Z"
   },
   {
    "duration": 19,
    "start_time": "2023-08-07T16:30:22.910Z"
   },
   {
    "duration": 87,
    "start_time": "2023-08-07T16:30:22.931Z"
   },
   {
    "duration": 79,
    "start_time": "2023-08-07T16:30:23.020Z"
   },
   {
    "duration": 9,
    "start_time": "2023-08-07T16:30:23.100Z"
   },
   {
    "duration": 76,
    "start_time": "2023-08-07T16:30:23.110Z"
   },
   {
    "duration": 92,
    "start_time": "2023-08-07T16:30:23.188Z"
   },
   {
    "duration": 37,
    "start_time": "2023-08-07T16:30:23.282Z"
   },
   {
    "duration": 27,
    "start_time": "2023-08-07T16:30:23.320Z"
   },
   {
    "duration": 28,
    "start_time": "2023-08-07T16:30:23.351Z"
   },
   {
    "duration": 34,
    "start_time": "2023-08-07T16:30:23.381Z"
   },
   {
    "duration": 10,
    "start_time": "2023-08-07T16:30:23.416Z"
   },
   {
    "duration": 22,
    "start_time": "2023-08-07T16:30:23.428Z"
   },
   {
    "duration": 25,
    "start_time": "2023-08-07T16:30:23.451Z"
   },
   {
    "duration": 15,
    "start_time": "2023-08-07T16:30:23.478Z"
   },
   {
    "duration": 134,
    "start_time": "2023-08-07T16:30:23.509Z"
   },
   {
    "duration": 9,
    "start_time": "2023-08-07T16:30:23.645Z"
   },
   {
    "duration": 8963,
    "start_time": "2023-08-07T16:30:23.656Z"
   },
   {
    "duration": 209,
    "start_time": "2023-08-07T16:30:32.621Z"
   },
   {
    "duration": 13,
    "start_time": "2023-08-07T16:30:32.831Z"
   },
   {
    "duration": 19,
    "start_time": "2023-08-07T16:30:32.846Z"
   },
   {
    "duration": 36,
    "start_time": "2023-08-07T16:30:32.867Z"
   },
   {
    "duration": 15,
    "start_time": "2023-08-07T16:30:32.905Z"
   },
   {
    "duration": 3102,
    "start_time": "2023-08-07T16:30:32.922Z"
   },
   {
    "duration": 63,
    "start_time": "2023-08-07T16:30:36.026Z"
   },
   {
    "duration": 107,
    "start_time": "2023-08-07T16:30:36.091Z"
   },
   {
    "duration": 66,
    "start_time": "2023-08-07T16:30:36.199Z"
   },
   {
    "duration": 83,
    "start_time": "2023-08-07T16:30:36.267Z"
   },
   {
    "duration": 70,
    "start_time": "2023-08-07T16:30:36.352Z"
   },
   {
    "duration": 47,
    "start_time": "2023-08-07T16:30:36.423Z"
   },
   {
    "duration": 12,
    "start_time": "2023-08-07T16:30:36.472Z"
   },
   {
    "duration": 33,
    "start_time": "2023-08-07T16:30:36.512Z"
   },
   {
    "duration": 226,
    "start_time": "2023-08-07T16:32:02.464Z"
   },
   {
    "duration": 4,
    "start_time": "2023-08-07T16:32:36.428Z"
   },
   {
    "duration": 151,
    "start_time": "2023-08-07T16:32:36.437Z"
   },
   {
    "duration": 23,
    "start_time": "2023-08-07T16:32:36.591Z"
   },
   {
    "duration": 9,
    "start_time": "2023-08-07T16:32:36.616Z"
   },
   {
    "duration": 17,
    "start_time": "2023-08-07T16:32:36.627Z"
   },
   {
    "duration": 13,
    "start_time": "2023-08-07T16:32:36.646Z"
   },
   {
    "duration": 18,
    "start_time": "2023-08-07T16:32:36.660Z"
   },
   {
    "duration": 80,
    "start_time": "2023-08-07T16:32:36.680Z"
   },
   {
    "duration": 6,
    "start_time": "2023-08-07T16:32:36.762Z"
   },
   {
    "duration": 89,
    "start_time": "2023-08-07T16:32:36.769Z"
   },
   {
    "duration": 90,
    "start_time": "2023-08-07T16:32:36.859Z"
   },
   {
    "duration": 27,
    "start_time": "2023-08-07T16:32:36.951Z"
   },
   {
    "duration": 12,
    "start_time": "2023-08-07T16:32:36.979Z"
   },
   {
    "duration": 43,
    "start_time": "2023-08-07T16:32:36.993Z"
   },
   {
    "duration": 28,
    "start_time": "2023-08-07T16:32:37.041Z"
   },
   {
    "duration": 7,
    "start_time": "2023-08-07T16:32:37.071Z"
   },
   {
    "duration": 29,
    "start_time": "2023-08-07T16:32:37.080Z"
   },
   {
    "duration": 18,
    "start_time": "2023-08-07T16:32:37.111Z"
   },
   {
    "duration": 15,
    "start_time": "2023-08-07T16:32:37.131Z"
   },
   {
    "duration": 145,
    "start_time": "2023-08-07T16:32:37.147Z"
   },
   {
    "duration": 15,
    "start_time": "2023-08-07T16:32:37.294Z"
   },
   {
    "duration": 2011,
    "start_time": "2023-08-07T16:32:37.311Z"
   },
   {
    "duration": 256,
    "start_time": "2023-08-07T16:32:39.323Z"
   },
   {
    "duration": 11,
    "start_time": "2023-08-07T16:32:39.581Z"
   },
   {
    "duration": 17,
    "start_time": "2023-08-07T16:32:39.594Z"
   },
   {
    "duration": 20,
    "start_time": "2023-08-07T16:32:39.613Z"
   },
   {
    "duration": 21,
    "start_time": "2023-08-07T16:32:39.635Z"
   },
   {
    "duration": 2777,
    "start_time": "2023-08-07T16:32:39.658Z"
   },
   {
    "duration": 48,
    "start_time": "2023-08-07T16:32:42.437Z"
   },
   {
    "duration": 103,
    "start_time": "2023-08-07T16:32:42.486Z"
   },
   {
    "duration": 60,
    "start_time": "2023-08-07T16:32:42.591Z"
   },
   {
    "duration": 73,
    "start_time": "2023-08-07T16:32:42.653Z"
   },
   {
    "duration": 54,
    "start_time": "2023-08-07T16:32:42.728Z"
   },
   {
    "duration": 54,
    "start_time": "2023-08-07T16:32:42.783Z"
   },
   {
    "duration": 10,
    "start_time": "2023-08-07T16:32:42.838Z"
   },
   {
    "duration": 33,
    "start_time": "2023-08-07T16:32:42.850Z"
   },
   {
    "duration": 1650,
    "start_time": "2023-08-07T16:33:13.713Z"
   },
   {
    "duration": 1766,
    "start_time": "2023-08-07T16:33:36.249Z"
   },
   {
    "duration": 6011,
    "start_time": "2023-08-07T16:34:23.116Z"
   },
   {
    "duration": 5726,
    "start_time": "2023-08-07T16:34:45.224Z"
   },
   {
    "duration": 4,
    "start_time": "2023-08-07T16:35:22.667Z"
   },
   {
    "duration": 148,
    "start_time": "2023-08-07T16:35:22.673Z"
   },
   {
    "duration": 18,
    "start_time": "2023-08-07T16:35:22.823Z"
   },
   {
    "duration": 7,
    "start_time": "2023-08-07T16:35:22.843Z"
   },
   {
    "duration": 6,
    "start_time": "2023-08-07T16:35:22.852Z"
   },
   {
    "duration": 12,
    "start_time": "2023-08-07T16:35:22.860Z"
   },
   {
    "duration": 10,
    "start_time": "2023-08-07T16:35:22.873Z"
   },
   {
    "duration": 89,
    "start_time": "2023-08-07T16:35:22.885Z"
   },
   {
    "duration": 5,
    "start_time": "2023-08-07T16:35:22.976Z"
   },
   {
    "duration": 82,
    "start_time": "2023-08-07T16:35:22.984Z"
   },
   {
    "duration": 88,
    "start_time": "2023-08-07T16:35:23.068Z"
   },
   {
    "duration": 27,
    "start_time": "2023-08-07T16:35:23.158Z"
   },
   {
    "duration": 23,
    "start_time": "2023-08-07T16:35:23.187Z"
   },
   {
    "duration": 14,
    "start_time": "2023-08-07T16:35:23.212Z"
   },
   {
    "duration": 39,
    "start_time": "2023-08-07T16:35:23.228Z"
   },
   {
    "duration": 9,
    "start_time": "2023-08-07T16:35:23.268Z"
   },
   {
    "duration": 35,
    "start_time": "2023-08-07T16:35:23.278Z"
   },
   {
    "duration": 18,
    "start_time": "2023-08-07T16:35:23.314Z"
   },
   {
    "duration": 15,
    "start_time": "2023-08-07T16:35:23.333Z"
   },
   {
    "duration": 147,
    "start_time": "2023-08-07T16:35:23.350Z"
   },
   {
    "duration": 14,
    "start_time": "2023-08-07T16:35:23.499Z"
   },
   {
    "duration": 8993,
    "start_time": "2023-08-07T16:35:23.516Z"
   },
   {
    "duration": 241,
    "start_time": "2023-08-07T16:35:32.511Z"
   },
   {
    "duration": 12,
    "start_time": "2023-08-07T16:35:32.754Z"
   },
   {
    "duration": 6,
    "start_time": "2023-08-07T16:35:32.768Z"
   },
   {
    "duration": 12,
    "start_time": "2023-08-07T16:35:32.776Z"
   },
   {
    "duration": 25,
    "start_time": "2023-08-07T16:35:32.790Z"
   },
   {
    "duration": 2838,
    "start_time": "2023-08-07T16:35:32.818Z"
   },
   {
    "duration": 65,
    "start_time": "2023-08-07T16:35:35.658Z"
   },
   {
    "duration": 98,
    "start_time": "2023-08-07T16:35:35.725Z"
   },
   {
    "duration": 65,
    "start_time": "2023-08-07T16:35:35.825Z"
   },
   {
    "duration": 76,
    "start_time": "2023-08-07T16:35:35.909Z"
   },
   {
    "duration": 81,
    "start_time": "2023-08-07T16:35:35.987Z"
   },
   {
    "duration": 62,
    "start_time": "2023-08-07T16:35:36.070Z"
   },
   {
    "duration": 11,
    "start_time": "2023-08-07T16:35:36.135Z"
   },
   {
    "duration": 48,
    "start_time": "2023-08-07T16:35:36.148Z"
   },
   {
    "duration": 3481,
    "start_time": "2023-08-07T16:36:29.152Z"
   },
   {
    "duration": 5,
    "start_time": "2023-08-07T16:37:12.008Z"
   },
   {
    "duration": 171,
    "start_time": "2023-08-07T16:37:12.015Z"
   },
   {
    "duration": 26,
    "start_time": "2023-08-07T16:37:12.188Z"
   },
   {
    "duration": 34,
    "start_time": "2023-08-07T16:37:12.217Z"
   },
   {
    "duration": 10,
    "start_time": "2023-08-07T16:37:12.253Z"
   },
   {
    "duration": 27,
    "start_time": "2023-08-07T16:37:12.265Z"
   },
   {
    "duration": 19,
    "start_time": "2023-08-07T16:37:12.294Z"
   },
   {
    "duration": 248,
    "start_time": "2023-08-07T16:37:12.315Z"
   },
   {
    "duration": 6,
    "start_time": "2023-08-07T16:37:12.566Z"
   },
   {
    "duration": 87,
    "start_time": "2023-08-07T16:37:12.574Z"
   },
   {
    "duration": 94,
    "start_time": "2023-08-07T16:37:12.663Z"
   },
   {
    "duration": 29,
    "start_time": "2023-08-07T16:37:12.759Z"
   },
   {
    "duration": 26,
    "start_time": "2023-08-07T16:37:12.790Z"
   },
   {
    "duration": 26,
    "start_time": "2023-08-07T16:37:12.818Z"
   },
   {
    "duration": 48,
    "start_time": "2023-08-07T16:37:12.846Z"
   },
   {
    "duration": 9,
    "start_time": "2023-08-07T16:37:12.896Z"
   },
   {
    "duration": 24,
    "start_time": "2023-08-07T16:37:12.907Z"
   },
   {
    "duration": 18,
    "start_time": "2023-08-07T16:37:12.933Z"
   },
   {
    "duration": 15,
    "start_time": "2023-08-07T16:37:12.953Z"
   },
   {
    "duration": 141,
    "start_time": "2023-08-07T16:37:12.970Z"
   },
   {
    "duration": 8,
    "start_time": "2023-08-07T16:37:13.112Z"
   },
   {
    "duration": 9188,
    "start_time": "2023-08-07T16:37:13.121Z"
   },
   {
    "duration": 5148,
    "start_time": "2023-08-07T16:37:22.310Z"
   },
   {
    "duration": 11,
    "start_time": "2023-08-07T16:37:27.462Z"
   },
   {
    "duration": 5,
    "start_time": "2023-08-07T16:37:27.475Z"
   },
   {
    "duration": 29,
    "start_time": "2023-08-07T16:37:27.482Z"
   },
   {
    "duration": 8,
    "start_time": "2023-08-07T16:37:27.512Z"
   },
   {
    "duration": 2912,
    "start_time": "2023-08-07T16:37:27.522Z"
   },
   {
    "duration": 51,
    "start_time": "2023-08-07T16:37:30.436Z"
   },
   {
    "duration": 97,
    "start_time": "2023-08-07T16:37:30.488Z"
   },
   {
    "duration": 65,
    "start_time": "2023-08-07T16:37:30.587Z"
   },
   {
    "duration": 71,
    "start_time": "2023-08-07T16:37:30.654Z"
   },
   {
    "duration": 56,
    "start_time": "2023-08-07T16:37:30.726Z"
   },
   {
    "duration": 63,
    "start_time": "2023-08-07T16:37:30.783Z"
   },
   {
    "duration": 14,
    "start_time": "2023-08-07T16:37:30.848Z"
   },
   {
    "duration": 87,
    "start_time": "2023-08-07T16:37:30.863Z"
   },
   {
    "duration": 17,
    "start_time": "2023-08-07T16:47:41.748Z"
   },
   {
    "duration": 31,
    "start_time": "2023-08-07T17:24:40.470Z"
   },
   {
    "duration": 33,
    "start_time": "2023-08-07T17:25:37.823Z"
   },
   {
    "duration": 45,
    "start_time": "2023-08-07T17:26:16.379Z"
   },
   {
    "duration": 45,
    "start_time": "2023-08-07T17:26:45.363Z"
   },
   {
    "duration": 43,
    "start_time": "2023-08-07T17:27:04.555Z"
   },
   {
    "duration": 54,
    "start_time": "2023-08-07T17:29:54.136Z"
   },
   {
    "duration": 68,
    "start_time": "2023-08-07T17:30:16.909Z"
   },
   {
    "duration": 986,
    "start_time": "2023-08-07T17:32:50.383Z"
   },
   {
    "duration": 50,
    "start_time": "2023-08-07T17:35:56.494Z"
   },
   {
    "duration": 47,
    "start_time": "2023-08-07T17:37:16.025Z"
   },
   {
    "duration": 51,
    "start_time": "2023-08-07T17:37:32.444Z"
   },
   {
    "duration": 75,
    "start_time": "2023-08-07T17:40:19.659Z"
   },
   {
    "duration": 47,
    "start_time": "2023-08-07T17:40:32.031Z"
   },
   {
    "duration": 97,
    "start_time": "2023-08-07T17:40:47.631Z"
   },
   {
    "duration": 57,
    "start_time": "2023-08-07T17:40:55.997Z"
   },
   {
    "duration": 1190,
    "start_time": "2023-08-07T17:41:17.683Z"
   },
   {
    "duration": 45,
    "start_time": "2023-08-07T17:41:37.155Z"
   },
   {
    "duration": 20,
    "start_time": "2023-08-07T17:44:33.910Z"
   },
   {
    "duration": 919,
    "start_time": "2023-08-07T17:46:58.997Z"
   },
   {
    "duration": 923,
    "start_time": "2023-08-07T17:48:36.904Z"
   },
   {
    "duration": 15,
    "start_time": "2023-08-07T17:52:14.704Z"
   },
   {
    "duration": 46,
    "start_time": "2023-08-07T17:53:08.136Z"
   },
   {
    "duration": 44,
    "start_time": "2023-08-07T17:53:24.916Z"
   },
   {
    "duration": 48,
    "start_time": "2023-08-07T17:53:55.980Z"
   },
   {
    "duration": 42,
    "start_time": "2023-08-07T17:54:44.624Z"
   },
   {
    "duration": 42,
    "start_time": "2023-08-07T17:54:54.303Z"
   },
   {
    "duration": 36,
    "start_time": "2023-08-07T18:00:45.258Z"
   },
   {
    "duration": 42,
    "start_time": "2023-08-07T18:02:54.426Z"
   },
   {
    "duration": 46,
    "start_time": "2023-08-07T18:04:59.346Z"
   },
   {
    "duration": 45,
    "start_time": "2023-08-07T18:05:13.326Z"
   },
   {
    "duration": 46,
    "start_time": "2023-08-07T18:05:24.866Z"
   },
   {
    "duration": 10,
    "start_time": "2023-08-07T18:12:36.048Z"
   },
   {
    "duration": 85,
    "start_time": "2023-08-07T18:13:11.084Z"
   },
   {
    "duration": 1023,
    "start_time": "2023-08-07T18:13:21.639Z"
   },
   {
    "duration": 939,
    "start_time": "2023-08-07T18:13:45.964Z"
   },
   {
    "duration": 14,
    "start_time": "2023-08-07T18:47:30.307Z"
   },
   {
    "duration": 126,
    "start_time": "2023-08-07T18:50:38.983Z"
   },
   {
    "duration": 38,
    "start_time": "2023-08-07T18:55:10.191Z"
   },
   {
    "duration": 63,
    "start_time": "2023-08-07T18:55:48.079Z"
   },
   {
    "duration": 60,
    "start_time": "2023-08-07T18:56:05.659Z"
   },
   {
    "duration": 8,
    "start_time": "2023-08-07T18:56:40.276Z"
   },
   {
    "duration": 280,
    "start_time": "2023-08-07T18:58:46.086Z"
   },
   {
    "duration": 53,
    "start_time": "2023-08-07T18:59:49.518Z"
   },
   {
    "duration": 47,
    "start_time": "2023-08-07T19:01:17.490Z"
   },
   {
    "duration": 41,
    "start_time": "2023-08-07T19:01:52.434Z"
   },
   {
    "duration": 45,
    "start_time": "2023-08-07T19:02:11.238Z"
   },
   {
    "duration": 46,
    "start_time": "2023-08-07T19:02:24.402Z"
   },
   {
    "duration": 43,
    "start_time": "2023-08-07T19:02:34.119Z"
   },
   {
    "duration": 10,
    "start_time": "2023-08-07T19:03:55.513Z"
   },
   {
    "duration": 13,
    "start_time": "2023-08-07T19:05:20.733Z"
   },
   {
    "duration": 10,
    "start_time": "2023-08-07T19:05:35.021Z"
   },
   {
    "duration": 44,
    "start_time": "2023-08-07T19:06:43.841Z"
   },
   {
    "duration": 10,
    "start_time": "2023-08-07T19:06:51.097Z"
   },
   {
    "duration": 5,
    "start_time": "2023-08-07T19:07:10.670Z"
   },
   {
    "duration": 171,
    "start_time": "2023-08-07T19:07:10.678Z"
   },
   {
    "duration": 19,
    "start_time": "2023-08-07T19:07:10.851Z"
   },
   {
    "duration": 8,
    "start_time": "2023-08-07T19:07:10.872Z"
   },
   {
    "duration": 26,
    "start_time": "2023-08-07T19:07:10.882Z"
   },
   {
    "duration": 8,
    "start_time": "2023-08-07T19:07:10.910Z"
   },
   {
    "duration": 10,
    "start_time": "2023-08-07T19:07:10.920Z"
   },
   {
    "duration": 85,
    "start_time": "2023-08-07T19:07:10.932Z"
   },
   {
    "duration": 6,
    "start_time": "2023-08-07T19:07:11.019Z"
   },
   {
    "duration": 90,
    "start_time": "2023-08-07T19:07:11.027Z"
   },
   {
    "duration": 89,
    "start_time": "2023-08-07T19:07:11.119Z"
   },
   {
    "duration": 28,
    "start_time": "2023-08-07T19:07:11.210Z"
   },
   {
    "duration": 8,
    "start_time": "2023-08-07T19:07:11.240Z"
   },
   {
    "duration": 15,
    "start_time": "2023-08-07T19:07:11.253Z"
   },
   {
    "duration": 46,
    "start_time": "2023-08-07T19:07:11.270Z"
   },
   {
    "duration": 8,
    "start_time": "2023-08-07T19:07:11.318Z"
   },
   {
    "duration": 19,
    "start_time": "2023-08-07T19:07:11.327Z"
   },
   {
    "duration": 19,
    "start_time": "2023-08-07T19:07:11.348Z"
   },
   {
    "duration": 42,
    "start_time": "2023-08-07T19:07:11.368Z"
   },
   {
    "duration": 124,
    "start_time": "2023-08-07T19:07:11.412Z"
   },
   {
    "duration": 7,
    "start_time": "2023-08-07T19:07:11.538Z"
   },
   {
    "duration": 8753,
    "start_time": "2023-08-07T19:07:11.547Z"
   },
   {
    "duration": 4858,
    "start_time": "2023-08-07T19:07:20.301Z"
   },
   {
    "duration": 11,
    "start_time": "2023-08-07T19:07:25.161Z"
   },
   {
    "duration": 5,
    "start_time": "2023-08-07T19:07:25.174Z"
   },
   {
    "duration": 30,
    "start_time": "2023-08-07T19:07:25.181Z"
   },
   {
    "duration": 8,
    "start_time": "2023-08-07T19:07:25.212Z"
   },
   {
    "duration": 2904,
    "start_time": "2023-08-07T19:07:25.221Z"
   },
   {
    "duration": 48,
    "start_time": "2023-08-07T19:07:28.127Z"
   },
   {
    "duration": 100,
    "start_time": "2023-08-07T19:07:28.177Z"
   },
   {
    "duration": 62,
    "start_time": "2023-08-07T19:07:28.279Z"
   },
   {
    "duration": 74,
    "start_time": "2023-08-07T19:07:28.342Z"
   },
   {
    "duration": 11,
    "start_time": "2023-08-07T19:07:28.417Z"
   },
   {
    "duration": 87,
    "start_time": "2023-08-07T19:07:28.430Z"
   },
   {
    "duration": 57,
    "start_time": "2023-08-07T19:07:28.519Z"
   },
   {
    "duration": 56,
    "start_time": "2023-08-07T19:07:28.578Z"
   },
   {
    "duration": 9,
    "start_time": "2023-08-07T19:07:28.636Z"
   },
   {
    "duration": 48,
    "start_time": "2023-08-07T19:07:28.646Z"
   },
   {
    "duration": 54,
    "start_time": "2023-08-07T19:07:28.695Z"
   },
   {
    "duration": 899,
    "start_time": "2023-08-07T19:07:28.751Z"
   },
   {
    "duration": 0,
    "start_time": "2023-08-07T19:07:29.652Z"
   },
   {
    "duration": 0,
    "start_time": "2023-08-07T19:07:29.653Z"
   },
   {
    "duration": 0,
    "start_time": "2023-08-07T19:07:29.654Z"
   },
   {
    "duration": 0,
    "start_time": "2023-08-07T19:07:29.655Z"
   },
   {
    "duration": 0,
    "start_time": "2023-08-07T19:07:29.656Z"
   },
   {
    "duration": 1098,
    "start_time": "2023-08-07T19:17:46.756Z"
   },
   {
    "duration": 42,
    "start_time": "2023-08-07T19:18:12.355Z"
   },
   {
    "duration": 13,
    "start_time": "2023-08-07T19:19:10.154Z"
   },
   {
    "duration": 11,
    "start_time": "2023-08-07T19:19:55.958Z"
   },
   {
    "duration": 10,
    "start_time": "2023-08-07T19:20:20.370Z"
   },
   {
    "duration": 48,
    "start_time": "2023-08-07T19:21:27.960Z"
   },
   {
    "duration": 1160,
    "start_time": "2023-08-07T19:21:46.816Z"
   },
   {
    "duration": 47,
    "start_time": "2023-08-07T19:22:14.684Z"
   },
   {
    "duration": 4,
    "start_time": "2023-08-07T19:33:53.475Z"
   },
   {
    "duration": 39,
    "start_time": "2023-08-07T19:44:41.724Z"
   },
   {
    "duration": 46,
    "start_time": "2023-08-07T19:44:54.656Z"
   },
   {
    "duration": 10,
    "start_time": "2023-08-07T19:45:25.356Z"
   },
   {
    "duration": 41,
    "start_time": "2023-08-07T19:46:17.596Z"
   },
   {
    "duration": 10,
    "start_time": "2023-08-07T19:46:53.839Z"
   },
   {
    "duration": 45,
    "start_time": "2023-08-07T19:50:18.010Z"
   },
   {
    "duration": 10,
    "start_time": "2023-08-07T19:50:23.615Z"
   },
   {
    "duration": 239,
    "start_time": "2023-08-07T19:55:45.209Z"
   },
   {
    "duration": 239,
    "start_time": "2023-08-07T19:56:07.690Z"
   },
   {
    "duration": 241,
    "start_time": "2023-08-07T19:56:41.118Z"
   },
   {
    "duration": 46,
    "start_time": "2023-08-07T19:57:04.902Z"
   },
   {
    "duration": 14,
    "start_time": "2023-08-07T20:00:51.442Z"
   },
   {
    "duration": 11,
    "start_time": "2023-08-07T20:01:18.129Z"
   },
   {
    "duration": 15,
    "start_time": "2023-08-07T20:02:05.764Z"
   },
   {
    "duration": 12,
    "start_time": "2023-08-07T20:02:31.894Z"
   },
   {
    "duration": 706,
    "start_time": "2023-08-07T20:36:43.179Z"
   },
   {
    "duration": 46,
    "start_time": "2023-08-07T20:37:04.226Z"
   },
   {
    "duration": 149,
    "start_time": "2023-08-07T20:38:22.991Z"
   },
   {
    "duration": 16,
    "start_time": "2023-08-07T20:39:43.492Z"
   },
   {
    "duration": 13,
    "start_time": "2023-08-07T20:40:14.175Z"
   },
   {
    "duration": 15,
    "start_time": "2023-08-07T20:41:37.428Z"
   },
   {
    "duration": 9,
    "start_time": "2023-08-07T20:42:11.335Z"
   },
   {
    "duration": 10,
    "start_time": "2023-08-07T20:43:34.980Z"
   },
   {
    "duration": 102,
    "start_time": "2023-08-07T21:13:52.281Z"
   },
   {
    "duration": 14,
    "start_time": "2023-08-07T21:13:55.386Z"
   },
   {
    "duration": 11,
    "start_time": "2023-08-07T21:14:00.355Z"
   },
   {
    "duration": 13,
    "start_time": "2023-08-07T21:14:03.643Z"
   },
   {
    "duration": 11,
    "start_time": "2023-08-07T21:14:06.536Z"
   },
   {
    "duration": 991,
    "start_time": "2023-08-07T21:15:59.138Z"
   },
   {
    "duration": 1123,
    "start_time": "2023-08-07T21:17:21.384Z"
   },
   {
    "duration": 4,
    "start_time": "2023-08-07T21:18:51.354Z"
   },
   {
    "duration": 4,
    "start_time": "2023-08-07T21:19:56.779Z"
   },
   {
    "duration": 4,
    "start_time": "2023-08-07T21:20:10.648Z"
   },
   {
    "duration": 1326,
    "start_time": "2023-08-07T21:21:13.079Z"
   },
   {
    "duration": 1572,
    "start_time": "2023-08-07T21:21:34.781Z"
   },
   {
    "duration": 14,
    "start_time": "2023-08-07T21:22:18.488Z"
   },
   {
    "duration": 16,
    "start_time": "2023-08-07T21:23:41.379Z"
   },
   {
    "duration": 17,
    "start_time": "2023-08-07T21:24:34.735Z"
   },
   {
    "duration": 11,
    "start_time": "2023-08-07T21:24:53.638Z"
   },
   {
    "duration": 20,
    "start_time": "2023-08-07T21:25:09.378Z"
   },
   {
    "duration": 41,
    "start_time": "2023-08-07T21:25:54.634Z"
   },
   {
    "duration": 19,
    "start_time": "2023-08-07T21:26:08.597Z"
   },
   {
    "duration": 3,
    "start_time": "2023-08-07T21:26:22.798Z"
   },
   {
    "duration": 1402,
    "start_time": "2023-08-07T21:26:44.536Z"
   },
   {
    "duration": 99,
    "start_time": "2023-08-07T21:27:13.650Z"
   },
   {
    "duration": 16,
    "start_time": "2023-08-07T21:28:02.430Z"
   },
   {
    "duration": 11,
    "start_time": "2023-08-07T21:28:07.845Z"
   },
   {
    "duration": 10,
    "start_time": "2023-08-07T21:28:09.081Z"
   },
   {
    "duration": 11,
    "start_time": "2023-08-07T21:28:13.189Z"
   },
   {
    "duration": 27,
    "start_time": "2023-08-07T21:28:17.210Z"
   },
   {
    "duration": 4,
    "start_time": "2023-08-07T21:28:19.793Z"
   },
   {
    "duration": 4,
    "start_time": "2023-08-07T21:46:37.907Z"
   },
   {
    "duration": 11,
    "start_time": "2023-08-07T21:47:23.048Z"
   },
   {
    "duration": 11,
    "start_time": "2023-08-07T21:48:06.743Z"
   },
   {
    "duration": 20,
    "start_time": "2023-08-07T21:48:51.203Z"
   },
   {
    "duration": 11,
    "start_time": "2023-08-07T21:49:53.883Z"
   },
   {
    "duration": 667,
    "start_time": "2023-08-07T21:53:07.106Z"
   },
   {
    "duration": 4,
    "start_time": "2023-08-07T21:53:40.781Z"
   },
   {
    "duration": 188,
    "start_time": "2023-08-07T21:53:40.787Z"
   },
   {
    "duration": 21,
    "start_time": "2023-08-07T21:53:40.977Z"
   },
   {
    "duration": 29,
    "start_time": "2023-08-07T21:53:40.999Z"
   },
   {
    "duration": 13,
    "start_time": "2023-08-07T21:53:41.030Z"
   },
   {
    "duration": 21,
    "start_time": "2023-08-07T21:53:41.045Z"
   },
   {
    "duration": 31,
    "start_time": "2023-08-07T21:53:41.068Z"
   },
   {
    "duration": 99,
    "start_time": "2023-08-07T21:53:41.101Z"
   },
   {
    "duration": 6,
    "start_time": "2023-08-07T21:53:41.201Z"
   },
   {
    "duration": 104,
    "start_time": "2023-08-07T21:53:41.208Z"
   },
   {
    "duration": 87,
    "start_time": "2023-08-07T21:53:41.315Z"
   },
   {
    "duration": 36,
    "start_time": "2023-08-07T21:53:41.404Z"
   },
   {
    "duration": 8,
    "start_time": "2023-08-07T21:53:41.443Z"
   },
   {
    "duration": 13,
    "start_time": "2023-08-07T21:53:41.453Z"
   },
   {
    "duration": 47,
    "start_time": "2023-08-07T21:53:41.467Z"
   },
   {
    "duration": 11,
    "start_time": "2023-08-07T21:53:41.522Z"
   },
   {
    "duration": 40,
    "start_time": "2023-08-07T21:53:41.536Z"
   },
   {
    "duration": 17,
    "start_time": "2023-08-07T21:53:41.578Z"
   },
   {
    "duration": 26,
    "start_time": "2023-08-07T21:53:41.597Z"
   },
   {
    "duration": 136,
    "start_time": "2023-08-07T21:53:41.630Z"
   },
   {
    "duration": 8,
    "start_time": "2023-08-07T21:53:41.768Z"
   },
   {
    "duration": 831,
    "start_time": "2023-08-07T21:53:41.777Z"
   },
   {
    "duration": 9541,
    "start_time": "2023-08-07T21:53:42.610Z"
   },
   {
    "duration": 5300,
    "start_time": "2023-08-07T21:53:52.153Z"
   },
   {
    "duration": 12,
    "start_time": "2023-08-07T21:53:57.455Z"
   },
   {
    "duration": 21,
    "start_time": "2023-08-07T21:53:57.469Z"
   },
   {
    "duration": 29,
    "start_time": "2023-08-07T21:53:57.491Z"
   },
   {
    "duration": 39,
    "start_time": "2023-08-07T21:53:57.521Z"
   },
   {
    "duration": 3194,
    "start_time": "2023-08-07T21:53:57.561Z"
   },
   {
    "duration": 60,
    "start_time": "2023-08-07T21:54:00.757Z"
   },
   {
    "duration": 121,
    "start_time": "2023-08-07T21:54:00.821Z"
   },
   {
    "duration": 67,
    "start_time": "2023-08-07T21:54:00.944Z"
   },
   {
    "duration": 74,
    "start_time": "2023-08-07T21:54:01.020Z"
   },
   {
    "duration": 53,
    "start_time": "2023-08-07T21:54:01.096Z"
   },
   {
    "duration": 114,
    "start_time": "2023-08-07T21:54:01.150Z"
   },
   {
    "duration": 65,
    "start_time": "2023-08-07T21:54:01.266Z"
   },
   {
    "duration": 47,
    "start_time": "2023-08-07T21:54:01.338Z"
   },
   {
    "duration": 15,
    "start_time": "2023-08-07T21:54:01.387Z"
   },
   {
    "duration": 85,
    "start_time": "2023-08-07T21:54:01.403Z"
   },
   {
    "duration": 78,
    "start_time": "2023-08-07T21:54:01.490Z"
   },
   {
    "duration": 94,
    "start_time": "2023-08-07T21:54:01.569Z"
   },
   {
    "duration": 56,
    "start_time": "2023-08-07T21:54:01.664Z"
   },
   {
    "duration": 77,
    "start_time": "2023-08-07T21:54:01.723Z"
   },
   {
    "duration": 105,
    "start_time": "2023-08-07T21:54:01.802Z"
   },
   {
    "duration": 28,
    "start_time": "2023-08-07T21:54:01.911Z"
   },
   {
    "duration": 68,
    "start_time": "2023-08-07T21:54:01.941Z"
   },
   {
    "duration": 42,
    "start_time": "2023-08-07T21:54:02.023Z"
   },
   {
    "duration": 48,
    "start_time": "2023-08-07T21:54:02.067Z"
   },
   {
    "duration": 48,
    "start_time": "2023-08-07T21:54:02.120Z"
   },
   {
    "duration": 14,
    "start_time": "2023-08-07T21:54:02.170Z"
   },
   {
    "duration": 20,
    "start_time": "2023-08-07T21:54:02.186Z"
   },
   {
    "duration": 61,
    "start_time": "2023-08-07T21:54:02.210Z"
   },
   {
    "duration": 32,
    "start_time": "2023-08-07T21:54:02.273Z"
   },
   {
    "duration": 46,
    "start_time": "2023-08-07T21:54:02.307Z"
   },
   {
    "duration": 80,
    "start_time": "2023-08-07T21:54:02.355Z"
   },
   {
    "duration": 0,
    "start_time": "2023-08-07T21:54:02.437Z"
   },
   {
    "duration": 0,
    "start_time": "2023-08-07T21:54:02.439Z"
   },
   {
    "duration": 53,
    "start_time": "2023-08-08T12:14:30.727Z"
   },
   {
    "duration": 1510,
    "start_time": "2023-08-08T12:15:31.005Z"
   },
   {
    "duration": 489,
    "start_time": "2023-08-08T12:15:32.518Z"
   },
   {
    "duration": 20,
    "start_time": "2023-08-08T12:15:33.009Z"
   },
   {
    "duration": 12,
    "start_time": "2023-08-08T12:15:33.030Z"
   },
   {
    "duration": 18,
    "start_time": "2023-08-08T12:15:33.044Z"
   },
   {
    "duration": 21,
    "start_time": "2023-08-08T12:15:33.063Z"
   },
   {
    "duration": 20,
    "start_time": "2023-08-08T12:15:33.085Z"
   },
   {
    "duration": 81,
    "start_time": "2023-08-08T12:15:33.107Z"
   },
   {
    "duration": 19,
    "start_time": "2023-08-08T12:15:33.190Z"
   },
   {
    "duration": 99,
    "start_time": "2023-08-08T12:15:33.211Z"
   },
   {
    "duration": 119,
    "start_time": "2023-08-08T12:15:33.312Z"
   },
   {
    "duration": 37,
    "start_time": "2023-08-08T12:15:33.433Z"
   },
   {
    "duration": 10,
    "start_time": "2023-08-08T12:15:33.472Z"
   },
   {
    "duration": 17,
    "start_time": "2023-08-08T12:15:33.485Z"
   },
   {
    "duration": 45,
    "start_time": "2023-08-08T12:15:33.504Z"
   },
   {
    "duration": 10,
    "start_time": "2023-08-08T12:15:33.552Z"
   },
   {
    "duration": 28,
    "start_time": "2023-08-08T12:15:33.563Z"
   },
   {
    "duration": 19,
    "start_time": "2023-08-08T12:15:33.593Z"
   },
   {
    "duration": 19,
    "start_time": "2023-08-08T12:15:33.613Z"
   },
   {
    "duration": 160,
    "start_time": "2023-08-08T12:15:33.634Z"
   },
   {
    "duration": 9,
    "start_time": "2023-08-08T12:15:33.796Z"
   },
   {
    "duration": 702,
    "start_time": "2023-08-08T12:15:33.807Z"
   },
   {
    "duration": 9083,
    "start_time": "2023-08-08T12:15:34.511Z"
   },
   {
    "duration": 5426,
    "start_time": "2023-08-08T12:15:43.596Z"
   },
   {
    "duration": 14,
    "start_time": "2023-08-08T12:15:49.023Z"
   },
   {
    "duration": 24,
    "start_time": "2023-08-08T12:15:49.039Z"
   },
   {
    "duration": 20,
    "start_time": "2023-08-08T12:15:49.065Z"
   },
   {
    "duration": 21,
    "start_time": "2023-08-08T12:15:49.086Z"
   },
   {
    "duration": 3080,
    "start_time": "2023-08-08T12:15:49.109Z"
   },
   {
    "duration": 55,
    "start_time": "2023-08-08T12:15:52.191Z"
   },
   {
    "duration": 119,
    "start_time": "2023-08-08T12:15:52.248Z"
   },
   {
    "duration": 58,
    "start_time": "2023-08-08T12:15:52.369Z"
   },
   {
    "duration": 85,
    "start_time": "2023-08-08T12:15:52.429Z"
   },
   {
    "duration": 128,
    "start_time": "2023-08-08T12:15:52.516Z"
   },
   {
    "duration": 114,
    "start_time": "2023-08-08T12:15:52.646Z"
   },
   {
    "duration": 47,
    "start_time": "2023-08-08T12:15:52.762Z"
   },
   {
    "duration": 76,
    "start_time": "2023-08-08T12:15:52.810Z"
   },
   {
    "duration": 8,
    "start_time": "2023-08-08T12:15:52.888Z"
   },
   {
    "duration": 68,
    "start_time": "2023-08-08T12:15:52.898Z"
   },
   {
    "duration": 9,
    "start_time": "2023-08-08T12:15:52.967Z"
   },
   {
    "duration": 67,
    "start_time": "2023-08-08T12:15:52.980Z"
   },
   {
    "duration": 20,
    "start_time": "2023-08-08T12:15:53.049Z"
   },
   {
    "duration": 54,
    "start_time": "2023-08-08T12:15:53.071Z"
   },
   {
    "duration": 45,
    "start_time": "2023-08-08T12:15:53.126Z"
   },
   {
    "duration": 113,
    "start_time": "2023-08-08T12:15:53.173Z"
   },
   {
    "duration": 13,
    "start_time": "2023-08-08T12:15:53.288Z"
   },
   {
    "duration": 31,
    "start_time": "2023-08-08T12:15:53.303Z"
   },
   {
    "duration": 20,
    "start_time": "2023-08-08T12:15:53.335Z"
   },
   {
    "duration": 13,
    "start_time": "2023-08-08T12:15:53.357Z"
   },
   {
    "duration": 33,
    "start_time": "2023-08-08T12:15:53.372Z"
   },
   {
    "duration": 4,
    "start_time": "2023-08-08T12:15:53.407Z"
   },
   {
    "duration": 21,
    "start_time": "2023-08-08T12:15:53.412Z"
   },
   {
    "duration": 14,
    "start_time": "2023-08-08T12:15:53.435Z"
   },
   {
    "duration": 35,
    "start_time": "2023-08-08T12:15:53.450Z"
   },
   {
    "duration": 16,
    "start_time": "2023-08-08T12:15:53.488Z"
   },
   {
    "duration": 224,
    "start_time": "2023-08-08T12:15:53.505Z"
   },
   {
    "duration": 0,
    "start_time": "2023-08-08T12:15:53.731Z"
   },
   {
    "duration": 0,
    "start_time": "2023-08-08T12:15:53.732Z"
   },
   {
    "duration": 7,
    "start_time": "2023-08-08T14:30:37.404Z"
   },
   {
    "duration": 517,
    "start_time": "2023-08-08T14:30:37.413Z"
   },
   {
    "duration": 19,
    "start_time": "2023-08-08T14:30:37.932Z"
   },
   {
    "duration": 43,
    "start_time": "2023-08-08T14:30:37.953Z"
   },
   {
    "duration": 8,
    "start_time": "2023-08-08T14:30:37.998Z"
   },
   {
    "duration": 19,
    "start_time": "2023-08-08T14:30:38.008Z"
   },
   {
    "duration": 12,
    "start_time": "2023-08-08T14:30:38.029Z"
   },
   {
    "duration": 148,
    "start_time": "2023-08-08T14:30:38.043Z"
   },
   {
    "duration": 7,
    "start_time": "2023-08-08T14:30:38.193Z"
   },
   {
    "duration": 136,
    "start_time": "2023-08-08T14:30:38.202Z"
   },
   {
    "duration": 123,
    "start_time": "2023-08-08T14:30:38.340Z"
   },
   {
    "duration": 59,
    "start_time": "2023-08-08T14:30:38.468Z"
   },
   {
    "duration": 52,
    "start_time": "2023-08-08T14:30:38.530Z"
   },
   {
    "duration": 48,
    "start_time": "2023-08-08T14:30:38.586Z"
   },
   {
    "duration": 57,
    "start_time": "2023-08-08T14:30:38.637Z"
   },
   {
    "duration": 38,
    "start_time": "2023-08-08T14:30:38.696Z"
   },
   {
    "duration": 88,
    "start_time": "2023-08-08T14:30:38.736Z"
   },
   {
    "duration": 46,
    "start_time": "2023-08-08T14:30:38.826Z"
   },
   {
    "duration": 35,
    "start_time": "2023-08-08T14:30:38.892Z"
   },
   {
    "duration": 221,
    "start_time": "2023-08-08T14:30:38.930Z"
   },
   {
    "duration": 24,
    "start_time": "2023-08-08T14:30:39.153Z"
   },
   {
    "duration": 749,
    "start_time": "2023-08-08T14:30:39.179Z"
   },
   {
    "duration": 11582,
    "start_time": "2023-08-08T14:30:39.930Z"
   },
   {
    "duration": 13,
    "start_time": "2023-08-08T14:30:51.514Z"
   },
   {
    "duration": 8,
    "start_time": "2023-08-08T14:30:51.529Z"
   },
   {
    "duration": 49,
    "start_time": "2023-08-08T14:30:51.565Z"
   },
   {
    "duration": 14,
    "start_time": "2023-08-08T14:30:51.617Z"
   },
   {
    "duration": 3724,
    "start_time": "2023-08-08T14:30:51.633Z"
   },
   {
    "duration": 80,
    "start_time": "2023-08-08T14:30:55.360Z"
   },
   {
    "duration": 157,
    "start_time": "2023-08-08T14:30:55.442Z"
   },
   {
    "duration": 74,
    "start_time": "2023-08-08T14:30:55.601Z"
   },
   {
    "duration": 71,
    "start_time": "2023-08-08T14:30:55.678Z"
   },
   {
    "duration": 47,
    "start_time": "2023-08-08T14:30:55.751Z"
   },
   {
    "duration": 119,
    "start_time": "2023-08-08T14:30:55.800Z"
   },
   {
    "duration": 72,
    "start_time": "2023-08-08T14:30:55.922Z"
   },
   {
    "duration": 49,
    "start_time": "2023-08-08T14:30:56.001Z"
   },
   {
    "duration": 44,
    "start_time": "2023-08-08T14:30:56.052Z"
   },
   {
    "duration": 58,
    "start_time": "2023-08-08T14:30:56.098Z"
   },
   {
    "duration": 29,
    "start_time": "2023-08-08T14:30:56.158Z"
   },
   {
    "duration": 62,
    "start_time": "2023-08-08T14:30:56.192Z"
   },
   {
    "duration": 12,
    "start_time": "2023-08-08T14:30:56.259Z"
   },
   {
    "duration": 39,
    "start_time": "2023-08-08T14:30:56.273Z"
   },
   {
    "duration": 76,
    "start_time": "2023-08-08T14:30:56.314Z"
   },
   {
    "duration": 114,
    "start_time": "2023-08-08T14:30:56.393Z"
   },
   {
    "duration": 13,
    "start_time": "2023-08-08T14:30:56.509Z"
   },
   {
    "duration": 44,
    "start_time": "2023-08-08T14:30:56.524Z"
   },
   {
    "duration": 45,
    "start_time": "2023-08-08T14:30:56.571Z"
   },
   {
    "duration": 14,
    "start_time": "2023-08-08T14:30:56.618Z"
   },
   {
    "duration": 22,
    "start_time": "2023-08-08T14:30:56.634Z"
   },
   {
    "duration": 14,
    "start_time": "2023-08-08T14:30:56.658Z"
   },
   {
    "duration": 40,
    "start_time": "2023-08-08T14:30:56.674Z"
   },
   {
    "duration": 23,
    "start_time": "2023-08-08T14:30:56.716Z"
   },
   {
    "duration": 31,
    "start_time": "2023-08-08T14:30:56.742Z"
   },
   {
    "duration": 40,
    "start_time": "2023-08-08T14:30:56.775Z"
   },
   {
    "duration": 139,
    "start_time": "2023-08-08T14:30:56.818Z"
   },
   {
    "duration": 0,
    "start_time": "2023-08-08T14:30:56.964Z"
   },
   {
    "duration": 0,
    "start_time": "2023-08-08T14:30:56.965Z"
   },
   {
    "duration": 99,
    "start_time": "2023-08-08T15:07:08.798Z"
   },
   {
    "duration": 5,
    "start_time": "2023-08-08T15:07:15.830Z"
   },
   {
    "duration": 188,
    "start_time": "2023-08-08T15:07:15.837Z"
   },
   {
    "duration": 52,
    "start_time": "2023-08-08T15:07:16.027Z"
   },
   {
    "duration": 10,
    "start_time": "2023-08-08T15:07:16.081Z"
   },
   {
    "duration": 73,
    "start_time": "2023-08-08T15:07:16.095Z"
   },
   {
    "duration": 8,
    "start_time": "2023-08-08T15:07:16.170Z"
   },
   {
    "duration": 44,
    "start_time": "2023-08-08T15:07:16.190Z"
   },
   {
    "duration": 14,
    "start_time": "2023-08-08T15:07:16.236Z"
   },
   {
    "duration": 99,
    "start_time": "2023-08-08T15:07:16.252Z"
   },
   {
    "duration": 15,
    "start_time": "2023-08-08T15:07:16.353Z"
   },
   {
    "duration": 121,
    "start_time": "2023-08-08T15:07:16.376Z"
   },
   {
    "duration": 107,
    "start_time": "2023-08-08T15:07:16.499Z"
   },
   {
    "duration": 28,
    "start_time": "2023-08-08T15:07:16.608Z"
   },
   {
    "duration": 18,
    "start_time": "2023-08-08T15:07:16.639Z"
   },
   {
    "duration": 43,
    "start_time": "2023-08-08T15:07:16.669Z"
   },
   {
    "duration": 43,
    "start_time": "2023-08-08T15:07:16.713Z"
   },
   {
    "duration": 12,
    "start_time": "2023-08-08T15:07:16.757Z"
   },
   {
    "duration": 52,
    "start_time": "2023-08-08T15:07:16.773Z"
   },
   {
    "duration": 18,
    "start_time": "2023-08-08T15:07:16.827Z"
   },
   {
    "duration": 25,
    "start_time": "2023-08-08T15:07:16.847Z"
   },
   {
    "duration": 165,
    "start_time": "2023-08-08T15:07:16.877Z"
   },
   {
    "duration": 9,
    "start_time": "2023-08-08T15:07:17.043Z"
   },
   {
    "duration": 975,
    "start_time": "2023-08-08T15:07:17.060Z"
   },
   {
    "duration": 11195,
    "start_time": "2023-08-08T15:07:18.038Z"
   },
   {
    "duration": 26,
    "start_time": "2023-08-08T15:07:29.235Z"
   },
   {
    "duration": 10,
    "start_time": "2023-08-08T15:07:29.267Z"
   },
   {
    "duration": 50,
    "start_time": "2023-08-08T15:07:29.281Z"
   },
   {
    "duration": 17,
    "start_time": "2023-08-08T15:07:29.333Z"
   },
   {
    "duration": 3643,
    "start_time": "2023-08-08T15:07:29.352Z"
   },
   {
    "duration": 63,
    "start_time": "2023-08-08T15:07:32.997Z"
   },
   {
    "duration": 134,
    "start_time": "2023-08-08T15:07:33.070Z"
   },
   {
    "duration": 88,
    "start_time": "2023-08-08T15:07:33.208Z"
   },
   {
    "duration": 98,
    "start_time": "2023-08-08T15:07:33.304Z"
   },
   {
    "duration": 23,
    "start_time": "2023-08-08T15:07:33.404Z"
   },
   {
    "duration": 94,
    "start_time": "2023-08-08T15:07:33.429Z"
   },
   {
    "duration": 69,
    "start_time": "2023-08-08T15:07:33.525Z"
   },
   {
    "duration": 52,
    "start_time": "2023-08-08T15:07:33.608Z"
   },
   {
    "duration": 17,
    "start_time": "2023-08-08T15:07:33.664Z"
   },
   {
    "duration": 79,
    "start_time": "2023-08-08T15:07:33.682Z"
   },
   {
    "duration": 15,
    "start_time": "2023-08-08T15:07:33.762Z"
   },
   {
    "duration": 91,
    "start_time": "2023-08-08T15:07:33.782Z"
   },
   {
    "duration": 27,
    "start_time": "2023-08-08T15:07:33.875Z"
   },
   {
    "duration": 34,
    "start_time": "2023-08-08T15:07:33.904Z"
   },
   {
    "duration": 100,
    "start_time": "2023-08-08T15:07:33.940Z"
   },
   {
    "duration": 193,
    "start_time": "2023-08-08T15:07:34.042Z"
   },
   {
    "duration": 14,
    "start_time": "2023-08-08T15:07:34.237Z"
   },
   {
    "duration": 97,
    "start_time": "2023-08-08T15:07:34.253Z"
   },
   {
    "duration": 60,
    "start_time": "2023-08-08T15:07:34.352Z"
   },
   {
    "duration": 26,
    "start_time": "2023-08-08T15:07:34.414Z"
   },
   {
    "duration": 60,
    "start_time": "2023-08-08T15:07:34.441Z"
   },
   {
    "duration": 27,
    "start_time": "2023-08-08T15:07:34.503Z"
   },
   {
    "duration": 53,
    "start_time": "2023-08-08T15:07:34.532Z"
   },
   {
    "duration": 31,
    "start_time": "2023-08-08T15:07:34.588Z"
   },
   {
    "duration": 16,
    "start_time": "2023-08-08T15:07:34.623Z"
   },
   {
    "duration": 28,
    "start_time": "2023-08-08T15:07:34.640Z"
   },
   {
    "duration": 229,
    "start_time": "2023-08-08T15:07:34.669Z"
   },
   {
    "duration": 0,
    "start_time": "2023-08-08T15:07:34.900Z"
   },
   {
    "duration": 0,
    "start_time": "2023-08-08T15:07:34.901Z"
   },
   {
    "duration": 7,
    "start_time": "2023-08-08T15:36:43.126Z"
   },
   {
    "duration": 11,
    "start_time": "2023-08-08T15:50:09.803Z"
   },
   {
    "duration": 5,
    "start_time": "2023-08-08T15:50:23.937Z"
   },
   {
    "duration": 168,
    "start_time": "2023-08-08T15:50:23.944Z"
   },
   {
    "duration": 19,
    "start_time": "2023-08-08T15:50:24.114Z"
   },
   {
    "duration": 10,
    "start_time": "2023-08-08T15:50:24.135Z"
   },
   {
    "duration": 28,
    "start_time": "2023-08-08T15:50:24.147Z"
   },
   {
    "duration": 17,
    "start_time": "2023-08-08T15:50:24.177Z"
   },
   {
    "duration": 240,
    "start_time": "2023-08-08T15:50:24.196Z"
   },
   {
    "duration": 78,
    "start_time": "2023-08-08T15:50:24.438Z"
   },
   {
    "duration": 107,
    "start_time": "2023-08-08T15:50:24.518Z"
   },
   {
    "duration": 40,
    "start_time": "2023-08-08T15:50:24.627Z"
   },
   {
    "duration": 36,
    "start_time": "2023-08-08T15:50:24.669Z"
   },
   {
    "duration": 11,
    "start_time": "2023-08-08T15:50:27.747Z"
   },
   {
    "duration": 34,
    "start_time": "2023-08-08T15:51:42.058Z"
   },
   {
    "duration": 37,
    "start_time": "2023-08-08T15:51:52.147Z"
   },
   {
    "duration": 549,
    "start_time": "2023-08-08T16:38:25.625Z"
   },
   {
    "duration": 229,
    "start_time": "2023-08-08T16:38:51.767Z"
   },
   {
    "duration": 188,
    "start_time": "2023-08-08T16:39:03.450Z"
   },
   {
    "duration": 197,
    "start_time": "2023-08-08T16:39:19.270Z"
   },
   {
    "duration": 29,
    "start_time": "2023-08-08T16:42:33.056Z"
   },
   {
    "duration": 8,
    "start_time": "2023-08-08T16:43:01.437Z"
   },
   {
    "duration": 5,
    "start_time": "2023-08-08T16:45:42.621Z"
   },
   {
    "duration": 164,
    "start_time": "2023-08-08T16:45:42.629Z"
   },
   {
    "duration": 19,
    "start_time": "2023-08-08T16:45:42.795Z"
   },
   {
    "duration": 14,
    "start_time": "2023-08-08T16:45:42.816Z"
   },
   {
    "duration": 28,
    "start_time": "2023-08-08T16:45:42.831Z"
   },
   {
    "duration": 9,
    "start_time": "2023-08-08T16:45:42.861Z"
   },
   {
    "duration": 90,
    "start_time": "2023-08-08T16:45:42.872Z"
   },
   {
    "duration": 76,
    "start_time": "2023-08-08T16:45:42.965Z"
   },
   {
    "duration": 84,
    "start_time": "2023-08-08T16:45:43.059Z"
   },
   {
    "duration": 32,
    "start_time": "2023-08-08T16:45:43.145Z"
   },
   {
    "duration": 16,
    "start_time": "2023-08-08T16:45:43.179Z"
   },
   {
    "duration": 32,
    "start_time": "2023-08-08T16:45:43.196Z"
   },
   {
    "duration": 42,
    "start_time": "2023-08-08T16:45:43.230Z"
   },
   {
    "duration": 9,
    "start_time": "2023-08-08T16:45:43.274Z"
   },
   {
    "duration": 30,
    "start_time": "2023-08-08T16:45:43.284Z"
   },
   {
    "duration": 389,
    "start_time": "2023-08-08T16:45:43.315Z"
   },
   {
    "duration": 9,
    "start_time": "2023-08-08T16:45:43.706Z"
   },
   {
    "duration": 16,
    "start_time": "2023-08-08T16:45:43.717Z"
   },
   {
    "duration": 641,
    "start_time": "2023-08-08T16:45:43.734Z"
   },
   {
    "duration": 9352,
    "start_time": "2023-08-08T16:45:44.377Z"
   },
   {
    "duration": 28,
    "start_time": "2023-08-08T16:45:53.731Z"
   },
   {
    "duration": 7,
    "start_time": "2023-08-08T16:45:53.761Z"
   },
   {
    "duration": 17,
    "start_time": "2023-08-08T16:45:53.770Z"
   },
   {
    "duration": 17,
    "start_time": "2023-08-08T16:45:53.791Z"
   },
   {
    "duration": 3224,
    "start_time": "2023-08-08T16:45:53.810Z"
   },
   {
    "duration": 58,
    "start_time": "2023-08-08T16:45:57.036Z"
   },
   {
    "duration": 105,
    "start_time": "2023-08-08T16:45:57.096Z"
   },
   {
    "duration": 68,
    "start_time": "2023-08-08T16:45:57.203Z"
   },
   {
    "duration": 63,
    "start_time": "2023-08-08T16:45:57.273Z"
   },
   {
    "duration": 26,
    "start_time": "2023-08-08T16:45:57.338Z"
   },
   {
    "duration": 65,
    "start_time": "2023-08-08T16:45:57.366Z"
   },
   {
    "duration": 56,
    "start_time": "2023-08-08T16:45:57.433Z"
   },
   {
    "duration": 44,
    "start_time": "2023-08-08T16:45:57.492Z"
   },
   {
    "duration": 30,
    "start_time": "2023-08-08T16:45:57.538Z"
   },
   {
    "duration": 48,
    "start_time": "2023-08-08T16:45:57.570Z"
   },
   {
    "duration": 11,
    "start_time": "2023-08-08T16:45:57.620Z"
   },
   {
    "duration": 71,
    "start_time": "2023-08-08T16:45:57.633Z"
   },
   {
    "duration": 11,
    "start_time": "2023-08-08T16:45:57.706Z"
   },
   {
    "duration": 15,
    "start_time": "2023-08-08T16:45:57.718Z"
   },
   {
    "duration": 65,
    "start_time": "2023-08-08T16:45:57.734Z"
   },
   {
    "duration": 105,
    "start_time": "2023-08-08T16:45:57.801Z"
   },
   {
    "duration": 13,
    "start_time": "2023-08-08T16:45:57.908Z"
   },
   {
    "duration": 25,
    "start_time": "2023-08-08T16:45:57.923Z"
   },
   {
    "duration": 15,
    "start_time": "2023-08-08T16:45:57.950Z"
   },
   {
    "duration": 16,
    "start_time": "2023-08-08T16:45:57.967Z"
   },
   {
    "duration": 20,
    "start_time": "2023-08-08T16:45:57.985Z"
   },
   {
    "duration": 4,
    "start_time": "2023-08-08T16:45:58.006Z"
   },
   {
    "duration": 20,
    "start_time": "2023-08-08T16:45:58.011Z"
   },
   {
    "duration": 30,
    "start_time": "2023-08-08T16:45:58.033Z"
   },
   {
    "duration": 22,
    "start_time": "2023-08-08T16:45:58.065Z"
   },
   {
    "duration": 18,
    "start_time": "2023-08-08T16:45:58.089Z"
   },
   {
    "duration": 99,
    "start_time": "2023-08-08T16:45:58.109Z"
   },
   {
    "duration": 1,
    "start_time": "2023-08-08T16:45:58.209Z"
   },
   {
    "duration": 0,
    "start_time": "2023-08-08T16:45:58.212Z"
   },
   {
    "duration": 5,
    "start_time": "2023-08-08T16:50:33.741Z"
   },
   {
    "duration": 9,
    "start_time": "2023-08-08T16:55:32.732Z"
   },
   {
    "duration": 7,
    "start_time": "2023-08-08T16:56:39.965Z"
   },
   {
    "duration": 5,
    "start_time": "2023-08-08T16:56:48.995Z"
   },
   {
    "duration": 162,
    "start_time": "2023-08-08T16:56:49.002Z"
   },
   {
    "duration": 18,
    "start_time": "2023-08-08T16:56:49.166Z"
   },
   {
    "duration": 7,
    "start_time": "2023-08-08T16:56:49.186Z"
   },
   {
    "duration": 12,
    "start_time": "2023-08-08T16:56:49.195Z"
   },
   {
    "duration": 16,
    "start_time": "2023-08-08T16:56:49.209Z"
   },
   {
    "duration": 86,
    "start_time": "2023-08-08T16:56:49.226Z"
   },
   {
    "duration": 90,
    "start_time": "2023-08-08T16:56:49.314Z"
   },
   {
    "duration": 95,
    "start_time": "2023-08-08T16:56:49.406Z"
   },
   {
    "duration": 29,
    "start_time": "2023-08-08T16:56:49.504Z"
   },
   {
    "duration": 26,
    "start_time": "2023-08-08T16:56:49.536Z"
   },
   {
    "duration": 14,
    "start_time": "2023-08-08T16:56:49.564Z"
   },
   {
    "duration": 42,
    "start_time": "2023-08-08T16:56:49.580Z"
   },
   {
    "duration": 7,
    "start_time": "2023-08-08T16:56:49.624Z"
   },
   {
    "duration": 28,
    "start_time": "2023-08-08T16:56:49.633Z"
   },
   {
    "duration": 185,
    "start_time": "2023-08-08T16:56:49.663Z"
   },
   {
    "duration": 7,
    "start_time": "2023-08-08T16:56:55.296Z"
   },
   {
    "duration": 219,
    "start_time": "2023-08-08T16:59:01.847Z"
   },
   {
    "duration": 210,
    "start_time": "2023-08-08T16:59:48.742Z"
   },
   {
    "duration": 618,
    "start_time": "2023-08-08T17:00:35.941Z"
   },
   {
    "duration": 618,
    "start_time": "2023-08-08T17:00:47.340Z"
   },
   {
    "duration": 896,
    "start_time": "2023-08-08T17:01:05.429Z"
   },
   {
    "duration": 208,
    "start_time": "2023-08-08T17:02:47.191Z"
   },
   {
    "duration": 6,
    "start_time": "2023-08-08T17:06:05.722Z"
   },
   {
    "duration": 12,
    "start_time": "2023-08-08T17:06:10.722Z"
   },
   {
    "duration": 6,
    "start_time": "2023-08-08T17:06:11.218Z"
   },
   {
    "duration": 5,
    "start_time": "2023-08-08T17:16:10.731Z"
   },
   {
    "duration": 4,
    "start_time": "2023-08-08T17:16:41.295Z"
   },
   {
    "duration": 13,
    "start_time": "2023-08-08T17:25:15.337Z"
   },
   {
    "duration": 7,
    "start_time": "2023-08-08T17:25:56.405Z"
   },
   {
    "duration": 3,
    "start_time": "2023-08-08T17:31:30.657Z"
   },
   {
    "duration": 7,
    "start_time": "2023-08-08T17:31:36.872Z"
   },
   {
    "duration": 11,
    "start_time": "2023-08-08T17:31:44.852Z"
   },
   {
    "duration": 8,
    "start_time": "2023-08-08T17:31:45.847Z"
   },
   {
    "duration": 5,
    "start_time": "2023-08-08T17:32:59.131Z"
   },
   {
    "duration": 162,
    "start_time": "2023-08-08T17:32:59.137Z"
   },
   {
    "duration": 19,
    "start_time": "2023-08-08T17:32:59.301Z"
   },
   {
    "duration": 8,
    "start_time": "2023-08-08T17:32:59.322Z"
   },
   {
    "duration": 4,
    "start_time": "2023-08-08T17:32:59.360Z"
   },
   {
    "duration": 11,
    "start_time": "2023-08-08T17:32:59.366Z"
   },
   {
    "duration": 87,
    "start_time": "2023-08-08T17:32:59.379Z"
   },
   {
    "duration": 3,
    "start_time": "2023-08-08T17:32:59.469Z"
   },
   {
    "duration": 90,
    "start_time": "2023-08-08T17:32:59.474Z"
   },
   {
    "duration": 78,
    "start_time": "2023-08-08T17:32:59.566Z"
   },
   {
    "duration": 35,
    "start_time": "2023-08-08T17:32:59.646Z"
   },
   {
    "duration": 9,
    "start_time": "2023-08-08T17:32:59.683Z"
   },
   {
    "duration": 15,
    "start_time": "2023-08-08T17:32:59.695Z"
   },
   {
    "duration": 48,
    "start_time": "2023-08-08T17:32:59.711Z"
   },
   {
    "duration": 7,
    "start_time": "2023-08-08T17:32:59.761Z"
   },
   {
    "duration": 22,
    "start_time": "2023-08-08T17:32:59.770Z"
   },
   {
    "duration": 225,
    "start_time": "2023-08-08T17:32:59.793Z"
   },
   {
    "duration": 10,
    "start_time": "2023-08-08T17:33:00.020Z"
   },
   {
    "duration": 35,
    "start_time": "2023-08-08T17:33:00.032Z"
   },
   {
    "duration": 35,
    "start_time": "2023-08-08T17:33:00.068Z"
   },
   {
    "duration": 868,
    "start_time": "2023-08-08T17:33:00.105Z"
   },
   {
    "duration": 9435,
    "start_time": "2023-08-08T17:33:00.975Z"
   },
   {
    "duration": 14,
    "start_time": "2023-08-08T17:33:10.412Z"
   },
   {
    "duration": 4,
    "start_time": "2023-08-08T17:33:10.428Z"
   },
   {
    "duration": 31,
    "start_time": "2023-08-08T17:33:10.434Z"
   },
   {
    "duration": 22,
    "start_time": "2023-08-08T17:33:10.467Z"
   },
   {
    "duration": 13,
    "start_time": "2023-08-08T17:33:10.491Z"
   },
   {
    "duration": 8,
    "start_time": "2023-08-08T17:33:10.506Z"
   },
   {
    "duration": 2972,
    "start_time": "2023-08-08T17:33:10.515Z"
   },
   {
    "duration": 60,
    "start_time": "2023-08-08T17:33:13.489Z"
   },
   {
    "duration": 104,
    "start_time": "2023-08-08T17:33:13.558Z"
   },
   {
    "duration": 58,
    "start_time": "2023-08-08T17:33:13.663Z"
   },
   {
    "duration": 78,
    "start_time": "2023-08-08T17:33:13.723Z"
   },
   {
    "duration": 11,
    "start_time": "2023-08-08T17:33:13.803Z"
   },
   {
    "duration": 76,
    "start_time": "2023-08-08T17:33:13.815Z"
   },
   {
    "duration": 47,
    "start_time": "2023-08-08T17:33:13.892Z"
   },
   {
    "duration": 48,
    "start_time": "2023-08-08T17:33:13.958Z"
   },
   {
    "duration": 10,
    "start_time": "2023-08-08T17:33:14.008Z"
   },
   {
    "duration": 68,
    "start_time": "2023-08-08T17:33:14.020Z"
   },
   {
    "duration": 9,
    "start_time": "2023-08-08T17:33:14.090Z"
   },
   {
    "duration": 66,
    "start_time": "2023-08-08T17:33:14.101Z"
   },
   {
    "duration": 12,
    "start_time": "2023-08-08T17:33:14.168Z"
   },
   {
    "duration": 15,
    "start_time": "2023-08-08T17:33:14.182Z"
   },
   {
    "duration": 66,
    "start_time": "2023-08-08T17:33:14.198Z"
   },
   {
    "duration": 110,
    "start_time": "2023-08-08T17:33:14.265Z"
   },
   {
    "duration": 13,
    "start_time": "2023-08-08T17:33:14.377Z"
   },
   {
    "duration": 56,
    "start_time": "2023-08-08T17:33:14.392Z"
   },
   {
    "duration": 16,
    "start_time": "2023-08-08T17:33:14.450Z"
   },
   {
    "duration": 10,
    "start_time": "2023-08-08T17:33:14.468Z"
   },
   {
    "duration": 20,
    "start_time": "2023-08-08T17:33:14.479Z"
   },
   {
    "duration": 5,
    "start_time": "2023-08-08T17:33:14.500Z"
   },
   {
    "duration": 17,
    "start_time": "2023-08-08T17:33:14.506Z"
   },
   {
    "duration": 41,
    "start_time": "2023-08-08T17:33:14.524Z"
   },
   {
    "duration": 11,
    "start_time": "2023-08-08T17:33:14.567Z"
   },
   {
    "duration": 12,
    "start_time": "2023-08-08T17:33:14.580Z"
   },
   {
    "duration": 56,
    "start_time": "2023-08-08T17:33:14.594Z"
   },
   {
    "duration": 0,
    "start_time": "2023-08-08T17:33:14.653Z"
   },
   {
    "duration": 0,
    "start_time": "2023-08-08T17:33:14.654Z"
   },
   {
    "duration": 4,
    "start_time": "2023-08-08T17:37:08.647Z"
   },
   {
    "duration": 3,
    "start_time": "2023-08-08T17:38:46.419Z"
   },
   {
    "duration": 78,
    "start_time": "2023-08-08T17:39:11.296Z"
   },
   {
    "duration": 123,
    "start_time": "2023-08-08T17:39:30.459Z"
   },
   {
    "duration": 60,
    "start_time": "2023-08-08T17:41:09.232Z"
   },
   {
    "duration": 4,
    "start_time": "2023-08-08T17:41:28.535Z"
   },
   {
    "duration": 17,
    "start_time": "2023-08-08T17:42:43.900Z"
   },
   {
    "duration": 22,
    "start_time": "2023-08-08T17:43:42.224Z"
   },
   {
    "duration": 56,
    "start_time": "2023-08-08T17:44:16.732Z"
   },
   {
    "duration": 15,
    "start_time": "2023-08-08T17:46:15.644Z"
   },
   {
    "duration": 16,
    "start_time": "2023-08-08T17:46:37.534Z"
   },
   {
    "duration": 16,
    "start_time": "2023-08-08T17:47:57.302Z"
   },
   {
    "duration": 22,
    "start_time": "2023-08-08T17:49:11.914Z"
   },
   {
    "duration": 23,
    "start_time": "2023-08-08T17:50:39.020Z"
   },
   {
    "duration": 23,
    "start_time": "2023-08-08T17:50:59.617Z"
   },
   {
    "duration": 25,
    "start_time": "2023-08-08T17:51:30.137Z"
   },
   {
    "duration": 24,
    "start_time": "2023-08-08T17:52:21.432Z"
   },
   {
    "duration": 83,
    "start_time": "2023-08-08T17:53:18.708Z"
   },
   {
    "duration": 85,
    "start_time": "2023-08-08T17:53:46.946Z"
   },
   {
    "duration": 11,
    "start_time": "2023-08-08T17:56:03.502Z"
   },
   {
    "duration": 4,
    "start_time": "2023-08-08T18:25:30.728Z"
   },
   {
    "duration": 207,
    "start_time": "2023-08-08T18:25:30.734Z"
   },
   {
    "duration": 22,
    "start_time": "2023-08-08T18:25:30.943Z"
   },
   {
    "duration": 63,
    "start_time": "2023-08-08T18:25:30.967Z"
   },
   {
    "duration": 63,
    "start_time": "2023-08-08T18:25:31.032Z"
   },
   {
    "duration": 114,
    "start_time": "2023-08-08T18:25:31.097Z"
   },
   {
    "duration": 263,
    "start_time": "2023-08-08T18:25:31.213Z"
   },
   {
    "duration": 5,
    "start_time": "2023-08-08T18:25:31.478Z"
   },
   {
    "duration": 142,
    "start_time": "2023-08-08T18:25:31.484Z"
   },
   {
    "duration": 87,
    "start_time": "2023-08-08T18:25:31.627Z"
   },
   {
    "duration": 28,
    "start_time": "2023-08-08T18:25:31.717Z"
   },
   {
    "duration": 18,
    "start_time": "2023-08-08T18:25:31.759Z"
   },
   {
    "duration": 38,
    "start_time": "2023-08-08T18:25:31.779Z"
   },
   {
    "duration": 70,
    "start_time": "2023-08-08T18:25:31.819Z"
   },
   {
    "duration": 8,
    "start_time": "2023-08-08T18:25:31.891Z"
   },
   {
    "duration": 49,
    "start_time": "2023-08-08T18:25:31.901Z"
   },
   {
    "duration": 216,
    "start_time": "2023-08-08T18:25:31.952Z"
   },
   {
    "duration": 10,
    "start_time": "2023-08-08T18:25:32.169Z"
   },
   {
    "duration": 27,
    "start_time": "2023-08-08T18:25:32.180Z"
   },
   {
    "duration": 14,
    "start_time": "2023-08-08T18:25:32.209Z"
   },
   {
    "duration": 652,
    "start_time": "2023-08-08T18:25:32.225Z"
   },
   {
    "duration": 9522,
    "start_time": "2023-08-08T18:25:32.879Z"
   },
   {
    "duration": 12,
    "start_time": "2023-08-08T18:25:42.403Z"
   },
   {
    "duration": 6,
    "start_time": "2023-08-08T18:25:42.417Z"
   },
   {
    "duration": 12,
    "start_time": "2023-08-08T18:25:42.425Z"
   },
   {
    "duration": 30,
    "start_time": "2023-08-08T18:25:42.438Z"
   },
   {
    "duration": 9,
    "start_time": "2023-08-08T18:25:42.470Z"
   },
   {
    "duration": 22,
    "start_time": "2023-08-08T18:25:42.481Z"
   },
   {
    "duration": 3329,
    "start_time": "2023-08-08T18:25:42.506Z"
   },
   {
    "duration": 70,
    "start_time": "2023-08-08T18:25:45.838Z"
   },
   {
    "duration": 131,
    "start_time": "2023-08-08T18:25:45.910Z"
   },
   {
    "duration": 14,
    "start_time": "2023-08-08T20:06:30.611Z"
   },
   {
    "duration": 12,
    "start_time": "2023-08-08T20:07:52.747Z"
   },
   {
    "duration": 69,
    "start_time": "2023-08-08T20:10:50.247Z"
   },
   {
    "duration": 94,
    "start_time": "2023-08-08T20:13:16.186Z"
   },
   {
    "duration": 63,
    "start_time": "2023-08-08T20:13:46.634Z"
   },
   {
    "duration": 93,
    "start_time": "2023-08-08T20:13:57.742Z"
   },
   {
    "duration": 286,
    "start_time": "2023-08-08T20:23:05.788Z"
   },
   {
    "duration": 11,
    "start_time": "2023-08-08T20:23:27.393Z"
   },
   {
    "duration": 43,
    "start_time": "2023-08-08T20:24:27.164Z"
   },
   {
    "duration": 64,
    "start_time": "2023-08-08T20:25:35.308Z"
   },
   {
    "duration": 68,
    "start_time": "2023-08-08T20:26:51.198Z"
   },
   {
    "duration": 47,
    "start_time": "2023-08-08T20:27:41.263Z"
   },
   {
    "duration": 47,
    "start_time": "2023-08-08T20:28:13.448Z"
   },
   {
    "duration": 16,
    "start_time": "2023-08-08T20:29:33.796Z"
   },
   {
    "duration": 52,
    "start_time": "2023-08-08T20:31:10.127Z"
   },
   {
    "duration": 80,
    "start_time": "2023-08-08T20:31:32.697Z"
   },
   {
    "duration": 68,
    "start_time": "2023-08-08T20:31:50.188Z"
   },
   {
    "duration": 62,
    "start_time": "2023-08-08T20:39:42.746Z"
   },
   {
    "duration": 45,
    "start_time": "2023-08-08T20:39:51.938Z"
   },
   {
    "duration": 24,
    "start_time": "2023-08-08T20:40:13.446Z"
   },
   {
    "duration": 53,
    "start_time": "2023-08-08T20:45:16.078Z"
   },
   {
    "duration": 43,
    "start_time": "2023-08-08T20:45:29.697Z"
   },
   {
    "duration": 11,
    "start_time": "2023-08-08T20:52:44.448Z"
   },
   {
    "duration": 6,
    "start_time": "2023-08-08T20:53:36.996Z"
   },
   {
    "duration": 14,
    "start_time": "2023-08-08T20:53:43.552Z"
   },
   {
    "duration": 6,
    "start_time": "2023-08-08T20:55:07.836Z"
   },
   {
    "duration": 257,
    "start_time": "2023-08-08T20:55:07.845Z"
   },
   {
    "duration": 22,
    "start_time": "2023-08-08T20:55:08.104Z"
   },
   {
    "duration": 8,
    "start_time": "2023-08-08T20:55:08.129Z"
   },
   {
    "duration": 11,
    "start_time": "2023-08-08T20:55:08.139Z"
   },
   {
    "duration": 25,
    "start_time": "2023-08-08T20:55:08.163Z"
   },
   {
    "duration": 108,
    "start_time": "2023-08-08T20:55:08.191Z"
   },
   {
    "duration": 5,
    "start_time": "2023-08-08T20:55:08.303Z"
   },
   {
    "duration": 114,
    "start_time": "2023-08-08T20:55:08.312Z"
   },
   {
    "duration": 110,
    "start_time": "2023-08-08T20:55:08.428Z"
   },
   {
    "duration": 56,
    "start_time": "2023-08-08T20:55:08.540Z"
   },
   {
    "duration": 14,
    "start_time": "2023-08-08T20:55:08.598Z"
   },
   {
    "duration": 28,
    "start_time": "2023-08-08T20:55:08.614Z"
   },
   {
    "duration": 43,
    "start_time": "2023-08-08T20:55:08.644Z"
   },
   {
    "duration": 9,
    "start_time": "2023-08-08T20:55:08.690Z"
   },
   {
    "duration": 21,
    "start_time": "2023-08-08T20:55:08.701Z"
   },
   {
    "duration": 271,
    "start_time": "2023-08-08T20:55:08.724Z"
   },
   {
    "duration": 9,
    "start_time": "2023-08-08T20:55:08.997Z"
   },
   {
    "duration": 6,
    "start_time": "2023-08-08T20:55:09.008Z"
   },
   {
    "duration": 38,
    "start_time": "2023-08-08T20:55:09.016Z"
   },
   {
    "duration": 727,
    "start_time": "2023-08-08T20:55:09.056Z"
   },
   {
    "duration": 10348,
    "start_time": "2023-08-08T20:55:09.785Z"
   },
   {
    "duration": 29,
    "start_time": "2023-08-08T20:55:20.135Z"
   },
   {
    "duration": 6,
    "start_time": "2023-08-08T20:55:20.175Z"
   },
   {
    "duration": 13,
    "start_time": "2023-08-08T20:55:20.182Z"
   },
   {
    "duration": 22,
    "start_time": "2023-08-08T20:55:20.197Z"
   },
   {
    "duration": 18,
    "start_time": "2023-08-08T20:55:20.221Z"
   },
   {
    "duration": 47,
    "start_time": "2023-08-08T20:55:20.241Z"
   },
   {
    "duration": 3654,
    "start_time": "2023-08-08T20:55:20.290Z"
   },
   {
    "duration": 61,
    "start_time": "2023-08-08T20:55:23.946Z"
   },
   {
    "duration": 145,
    "start_time": "2023-08-08T20:55:24.009Z"
   },
   {
    "duration": 60,
    "start_time": "2023-08-08T20:55:24.162Z"
   },
   {
    "duration": 0,
    "start_time": "2023-08-08T20:55:24.224Z"
   },
   {
    "duration": 0,
    "start_time": "2023-08-08T20:55:24.225Z"
   },
   {
    "duration": 0,
    "start_time": "2023-08-08T20:55:24.227Z"
   },
   {
    "duration": 0,
    "start_time": "2023-08-08T20:55:24.228Z"
   },
   {
    "duration": 0,
    "start_time": "2023-08-08T20:55:24.229Z"
   },
   {
    "duration": 0,
    "start_time": "2023-08-08T20:55:24.231Z"
   },
   {
    "duration": 0,
    "start_time": "2023-08-08T20:55:24.232Z"
   },
   {
    "duration": 0,
    "start_time": "2023-08-08T20:55:24.234Z"
   },
   {
    "duration": 0,
    "start_time": "2023-08-08T20:55:24.235Z"
   },
   {
    "duration": 0,
    "start_time": "2023-08-08T20:55:24.237Z"
   },
   {
    "duration": 0,
    "start_time": "2023-08-08T20:55:24.238Z"
   },
   {
    "duration": 0,
    "start_time": "2023-08-08T20:55:24.240Z"
   },
   {
    "duration": 0,
    "start_time": "2023-08-08T20:55:24.241Z"
   },
   {
    "duration": 0,
    "start_time": "2023-08-08T20:55:24.243Z"
   },
   {
    "duration": 0,
    "start_time": "2023-08-08T20:55:24.246Z"
   },
   {
    "duration": 0,
    "start_time": "2023-08-08T20:55:24.248Z"
   },
   {
    "duration": 0,
    "start_time": "2023-08-08T20:55:24.249Z"
   },
   {
    "duration": 0,
    "start_time": "2023-08-08T20:55:24.250Z"
   },
   {
    "duration": 0,
    "start_time": "2023-08-08T20:55:24.251Z"
   },
   {
    "duration": 0,
    "start_time": "2023-08-08T20:55:24.252Z"
   },
   {
    "duration": 0,
    "start_time": "2023-08-08T20:55:24.254Z"
   },
   {
    "duration": 0,
    "start_time": "2023-08-08T20:55:24.255Z"
   },
   {
    "duration": 0,
    "start_time": "2023-08-08T20:55:24.256Z"
   },
   {
    "duration": 0,
    "start_time": "2023-08-08T20:55:24.257Z"
   },
   {
    "duration": 62,
    "start_time": "2023-08-08T21:00:07.877Z"
   },
   {
    "duration": 69,
    "start_time": "2023-08-08T21:00:20.681Z"
   },
   {
    "duration": 71,
    "start_time": "2023-08-08T21:00:20.752Z"
   },
   {
    "duration": 25,
    "start_time": "2023-08-08T21:00:20.825Z"
   },
   {
    "duration": 134,
    "start_time": "2023-08-08T21:00:20.852Z"
   },
   {
    "duration": 49,
    "start_time": "2023-08-08T21:00:20.988Z"
   },
   {
    "duration": 89,
    "start_time": "2023-08-08T21:00:21.038Z"
   },
   {
    "duration": 66,
    "start_time": "2023-08-08T21:00:21.129Z"
   },
   {
    "duration": 53,
    "start_time": "2023-08-08T21:00:21.198Z"
   },
   {
    "duration": 23,
    "start_time": "2023-08-08T21:00:21.260Z"
   },
   {
    "duration": 68,
    "start_time": "2023-08-08T21:00:21.285Z"
   },
   {
    "duration": 123,
    "start_time": "2023-08-08T21:00:21.354Z"
   },
   {
    "duration": 15,
    "start_time": "2023-08-08T21:00:21.479Z"
   },
   {
    "duration": 29,
    "start_time": "2023-08-08T21:00:21.496Z"
   },
   {
    "duration": 10,
    "start_time": "2023-08-08T21:00:21.530Z"
   },
   {
    "duration": 34,
    "start_time": "2023-08-08T21:00:21.542Z"
   },
   {
    "duration": 61,
    "start_time": "2023-08-08T21:00:21.578Z"
   },
   {
    "duration": 28,
    "start_time": "2023-08-08T21:00:21.640Z"
   },
   {
    "duration": 29,
    "start_time": "2023-08-08T21:00:21.679Z"
   },
   {
    "duration": 20,
    "start_time": "2023-08-08T21:00:21.710Z"
   },
   {
    "duration": 21,
    "start_time": "2023-08-08T21:00:21.732Z"
   },
   {
    "duration": 46,
    "start_time": "2023-08-08T21:00:21.755Z"
   },
   {
    "duration": 21,
    "start_time": "2023-08-08T21:00:21.803Z"
   },
   {
    "duration": 87,
    "start_time": "2023-08-08T21:00:21.826Z"
   },
   {
    "duration": 0,
    "start_time": "2023-08-08T21:00:21.915Z"
   },
   {
    "duration": 0,
    "start_time": "2023-08-08T21:00:21.915Z"
   },
   {
    "duration": 11,
    "start_time": "2023-08-08T21:44:41.414Z"
   },
   {
    "duration": 4,
    "start_time": "2023-08-08T21:44:47.642Z"
   },
   {
    "duration": 6,
    "start_time": "2023-08-08T23:10:22.193Z"
   },
   {
    "duration": 168,
    "start_time": "2023-08-08T23:10:22.201Z"
   },
   {
    "duration": 18,
    "start_time": "2023-08-08T23:10:22.371Z"
   },
   {
    "duration": 9,
    "start_time": "2023-08-08T23:10:22.391Z"
   },
   {
    "duration": 8,
    "start_time": "2023-08-08T23:10:22.403Z"
   },
   {
    "duration": 16,
    "start_time": "2023-08-08T23:10:22.413Z"
   },
   {
    "duration": 91,
    "start_time": "2023-08-08T23:10:22.431Z"
   },
   {
    "duration": 4,
    "start_time": "2023-08-08T23:10:22.524Z"
   },
   {
    "duration": 83,
    "start_time": "2023-08-08T23:10:22.530Z"
   },
   {
    "duration": 95,
    "start_time": "2023-08-08T23:10:22.615Z"
   },
   {
    "duration": 26,
    "start_time": "2023-08-08T23:10:22.712Z"
   },
   {
    "duration": 21,
    "start_time": "2023-08-08T23:10:22.740Z"
   },
   {
    "duration": 25,
    "start_time": "2023-08-08T23:10:22.763Z"
   },
   {
    "duration": 27,
    "start_time": "2023-08-08T23:10:22.792Z"
   },
   {
    "duration": 7,
    "start_time": "2023-08-08T23:10:22.821Z"
   },
   {
    "duration": 36,
    "start_time": "2023-08-08T23:10:22.830Z"
   },
   {
    "duration": 215,
    "start_time": "2023-08-08T23:10:22.868Z"
   },
   {
    "duration": 9,
    "start_time": "2023-08-08T23:10:23.085Z"
   },
   {
    "duration": 6,
    "start_time": "2023-08-08T23:10:23.095Z"
   },
   {
    "duration": 24,
    "start_time": "2023-08-08T23:10:23.102Z"
   },
   {
    "duration": 634,
    "start_time": "2023-08-08T23:10:23.127Z"
   },
   {
    "duration": 9297,
    "start_time": "2023-08-08T23:10:23.762Z"
   },
   {
    "duration": 13,
    "start_time": "2023-08-08T23:10:33.060Z"
   },
   {
    "duration": 10,
    "start_time": "2023-08-08T23:10:33.075Z"
   },
   {
    "duration": 14,
    "start_time": "2023-08-08T23:10:33.086Z"
   },
   {
    "duration": 16,
    "start_time": "2023-08-08T23:10:33.102Z"
   },
   {
    "duration": 18,
    "start_time": "2023-08-08T23:10:33.120Z"
   },
   {
    "duration": 45,
    "start_time": "2023-08-08T23:10:33.140Z"
   },
   {
    "duration": 3341,
    "start_time": "2023-08-08T23:10:33.187Z"
   },
   {
    "duration": 62,
    "start_time": "2023-08-08T23:10:36.529Z"
   },
   {
    "duration": 100,
    "start_time": "2023-08-08T23:10:36.593Z"
   },
   {
    "duration": 67,
    "start_time": "2023-08-08T23:10:36.694Z"
   },
   {
    "duration": 63,
    "start_time": "2023-08-08T23:10:36.763Z"
   },
   {
    "duration": 11,
    "start_time": "2023-08-08T23:10:36.828Z"
   },
   {
    "duration": 102,
    "start_time": "2023-08-08T23:10:36.858Z"
   },
   {
    "duration": 46,
    "start_time": "2023-08-08T23:10:36.961Z"
   },
   {
    "duration": 85,
    "start_time": "2023-08-08T23:10:37.009Z"
   },
   {
    "duration": 46,
    "start_time": "2023-08-08T23:10:37.096Z"
   },
   {
    "duration": 47,
    "start_time": "2023-08-08T23:10:37.158Z"
   },
   {
    "duration": 13,
    "start_time": "2023-08-08T23:10:37.207Z"
   },
   {
    "duration": 66,
    "start_time": "2023-08-08T23:10:37.224Z"
   },
   {
    "duration": 107,
    "start_time": "2023-08-08T23:10:37.292Z"
   },
   {
    "duration": 6,
    "start_time": "2023-08-08T23:10:37.401Z"
   },
   {
    "duration": 35,
    "start_time": "2023-08-08T23:10:37.409Z"
   },
   {
    "duration": 25,
    "start_time": "2023-08-08T23:10:37.446Z"
   },
   {
    "duration": 22,
    "start_time": "2023-08-08T23:10:37.473Z"
   },
   {
    "duration": 29,
    "start_time": "2023-08-08T23:10:37.497Z"
   },
   {
    "duration": 19,
    "start_time": "2023-08-08T23:10:37.528Z"
   },
   {
    "duration": 3,
    "start_time": "2023-08-08T23:10:37.549Z"
   },
   {
    "duration": 14,
    "start_time": "2023-08-08T23:10:37.554Z"
   },
   {
    "duration": 14,
    "start_time": "2023-08-08T23:10:37.570Z"
   },
   {
    "duration": 17,
    "start_time": "2023-08-08T23:10:37.585Z"
   },
   {
    "duration": 9,
    "start_time": "2023-08-08T23:10:37.603Z"
   },
   {
    "duration": 1172,
    "start_time": "2023-08-09T23:10:48.166Z"
   },
   {
    "duration": 506,
    "start_time": "2023-08-09T23:10:49.340Z"
   },
   {
    "duration": 22,
    "start_time": "2023-08-09T23:10:49.848Z"
   },
   {
    "duration": 12,
    "start_time": "2023-08-09T23:10:49.873Z"
   },
   {
    "duration": 4,
    "start_time": "2023-08-09T23:10:49.886Z"
   },
   {
    "duration": 36,
    "start_time": "2023-08-09T23:10:49.891Z"
   },
   {
    "duration": 85,
    "start_time": "2023-08-09T23:10:49.929Z"
   },
   {
    "duration": 2,
    "start_time": "2023-08-09T23:10:50.016Z"
   },
   {
    "duration": 103,
    "start_time": "2023-08-09T23:10:50.020Z"
   },
   {
    "duration": 111,
    "start_time": "2023-08-09T23:10:50.126Z"
   },
   {
    "duration": 25,
    "start_time": "2023-08-09T23:10:50.239Z"
   },
   {
    "duration": 10,
    "start_time": "2023-08-09T23:10:50.266Z"
   },
   {
    "duration": 55,
    "start_time": "2023-08-09T23:10:50.278Z"
   },
   {
    "duration": 56,
    "start_time": "2023-08-09T23:10:50.335Z"
   },
   {
    "duration": 8,
    "start_time": "2023-08-09T23:10:50.393Z"
   },
   {
    "duration": 16,
    "start_time": "2023-08-09T23:10:50.403Z"
   },
   {
    "duration": 214,
    "start_time": "2023-08-09T23:10:50.421Z"
   },
   {
    "duration": 9,
    "start_time": "2023-08-09T23:10:50.636Z"
   },
   {
    "duration": 10,
    "start_time": "2023-08-09T23:10:50.647Z"
   },
   {
    "duration": 19,
    "start_time": "2023-08-09T23:10:50.658Z"
   },
   {
    "duration": 1458,
    "start_time": "2023-08-09T23:11:18.704Z"
   },
   {
    "duration": 494,
    "start_time": "2023-08-09T23:11:20.164Z"
   },
   {
    "duration": 20,
    "start_time": "2023-08-09T23:11:20.660Z"
   },
   {
    "duration": 20,
    "start_time": "2023-08-09T23:11:20.682Z"
   },
   {
    "duration": 4,
    "start_time": "2023-08-09T23:11:20.703Z"
   },
   {
    "duration": 18,
    "start_time": "2023-08-09T23:11:20.708Z"
   },
   {
    "duration": 73,
    "start_time": "2023-08-09T23:11:20.727Z"
   },
   {
    "duration": 3,
    "start_time": "2023-08-09T23:11:20.808Z"
   },
   {
    "duration": 132,
    "start_time": "2023-08-09T23:11:20.812Z"
   },
   {
    "duration": 110,
    "start_time": "2023-08-09T23:11:20.947Z"
   },
   {
    "duration": 24,
    "start_time": "2023-08-09T23:11:21.059Z"
   },
   {
    "duration": 24,
    "start_time": "2023-08-09T23:11:21.084Z"
   },
   {
    "duration": 9,
    "start_time": "2023-08-09T23:11:21.110Z"
   },
   {
    "duration": 36,
    "start_time": "2023-08-09T23:11:21.121Z"
   },
   {
    "duration": 8,
    "start_time": "2023-08-09T23:11:21.159Z"
   },
   {
    "duration": 14,
    "start_time": "2023-08-09T23:11:21.168Z"
   },
   {
    "duration": 215,
    "start_time": "2023-08-09T23:11:21.184Z"
   },
   {
    "duration": 13,
    "start_time": "2023-08-09T23:11:21.401Z"
   },
   {
    "duration": 41,
    "start_time": "2023-08-09T23:11:21.415Z"
   },
   {
    "duration": 12,
    "start_time": "2023-08-09T23:11:21.458Z"
   },
   {
    "duration": 683,
    "start_time": "2023-08-09T23:11:21.471Z"
   },
   {
    "duration": 8835,
    "start_time": "2023-08-09T23:11:22.156Z"
   },
   {
    "duration": 16,
    "start_time": "2023-08-09T23:11:30.993Z"
   },
   {
    "duration": 31,
    "start_time": "2023-08-09T23:11:31.011Z"
   },
   {
    "duration": 50,
    "start_time": "2023-08-09T23:11:31.044Z"
   },
   {
    "duration": 61,
    "start_time": "2023-08-09T23:11:31.095Z"
   },
   {
    "duration": 50,
    "start_time": "2023-08-09T23:11:31.158Z"
   },
   {
    "duration": 54,
    "start_time": "2023-08-09T23:11:31.213Z"
   },
   {
    "duration": 2807,
    "start_time": "2023-08-09T23:11:31.269Z"
   },
   {
    "duration": 60,
    "start_time": "2023-08-09T23:11:34.078Z"
   },
   {
    "duration": 102,
    "start_time": "2023-08-09T23:11:34.139Z"
   },
   {
    "duration": 68,
    "start_time": "2023-08-09T23:11:34.242Z"
   },
   {
    "duration": 61,
    "start_time": "2023-08-09T23:11:34.311Z"
   },
   {
    "duration": 435,
    "start_time": "2023-08-09T23:11:34.374Z"
   },
   {
    "duration": 144,
    "start_time": "2023-08-09T23:11:34.811Z"
   },
   {
    "duration": 81,
    "start_time": "2023-08-09T23:11:34.957Z"
   },
   {
    "duration": 72,
    "start_time": "2023-08-09T23:11:35.040Z"
   },
   {
    "duration": 43,
    "start_time": "2023-08-09T23:11:35.114Z"
   },
   {
    "duration": 67,
    "start_time": "2023-08-09T23:11:35.159Z"
   },
   {
    "duration": 12,
    "start_time": "2023-08-09T23:11:35.228Z"
   },
   {
    "duration": 53,
    "start_time": "2023-08-09T23:11:35.242Z"
   },
   {
    "duration": 102,
    "start_time": "2023-08-09T23:11:35.296Z"
   },
   {
    "duration": 12,
    "start_time": "2023-08-09T23:11:35.400Z"
   },
   {
    "duration": 125,
    "start_time": "2023-08-09T23:11:35.414Z"
   },
   {
    "duration": 0,
    "start_time": "2023-08-09T23:11:35.541Z"
   },
   {
    "duration": 0,
    "start_time": "2023-08-09T23:11:35.542Z"
   },
   {
    "duration": 0,
    "start_time": "2023-08-09T23:11:35.543Z"
   },
   {
    "duration": 0,
    "start_time": "2023-08-09T23:11:35.544Z"
   },
   {
    "duration": 0,
    "start_time": "2023-08-09T23:11:35.545Z"
   },
   {
    "duration": 0,
    "start_time": "2023-08-09T23:11:35.546Z"
   },
   {
    "duration": 0,
    "start_time": "2023-08-09T23:11:35.547Z"
   },
   {
    "duration": 0,
    "start_time": "2023-08-09T23:11:35.548Z"
   },
   {
    "duration": 0,
    "start_time": "2023-08-09T23:11:35.549Z"
   },
   {
    "duration": 109,
    "start_time": "2023-08-10T18:01:33.144Z"
   },
   {
    "duration": 11,
    "start_time": "2023-08-10T18:03:19.569Z"
   },
   {
    "duration": 1872,
    "start_time": "2023-08-10T18:04:40.813Z"
   },
   {
    "duration": 1281,
    "start_time": "2023-08-10T18:04:42.691Z"
   },
   {
    "duration": 27,
    "start_time": "2023-08-10T18:04:43.977Z"
   },
   {
    "duration": 25,
    "start_time": "2023-08-10T18:04:44.007Z"
   },
   {
    "duration": 64,
    "start_time": "2023-08-10T18:04:44.034Z"
   },
   {
    "duration": 25,
    "start_time": "2023-08-10T18:04:44.100Z"
   },
   {
    "duration": 134,
    "start_time": "2023-08-10T18:04:44.127Z"
   },
   {
    "duration": 38,
    "start_time": "2023-08-10T18:04:44.267Z"
   },
   {
    "duration": 160,
    "start_time": "2023-08-10T18:04:44.307Z"
   },
   {
    "duration": 44,
    "start_time": "2023-08-10T18:04:44.478Z"
   },
   {
    "duration": 207,
    "start_time": "2023-08-10T18:04:44.530Z"
   },
   {
    "duration": 52,
    "start_time": "2023-08-10T18:04:44.749Z"
   },
   {
    "duration": 31,
    "start_time": "2023-08-10T18:04:44.804Z"
   },
   {
    "duration": 86,
    "start_time": "2023-08-10T18:04:44.837Z"
   },
   {
    "duration": 160,
    "start_time": "2023-08-10T18:04:44.924Z"
   },
   {
    "duration": 51,
    "start_time": "2023-08-10T18:04:45.093Z"
   },
   {
    "duration": 103,
    "start_time": "2023-08-10T18:04:45.153Z"
   },
   {
    "duration": 287,
    "start_time": "2023-08-10T18:04:45.257Z"
   },
   {
    "duration": 21,
    "start_time": "2023-08-10T18:04:45.553Z"
   },
   {
    "duration": 48,
    "start_time": "2023-08-10T18:04:45.576Z"
   },
   {
    "duration": 5,
    "start_time": "2023-08-10T18:04:45.626Z"
   },
   {
    "duration": 928,
    "start_time": "2023-08-10T18:04:45.632Z"
   },
   {
    "duration": 10164,
    "start_time": "2023-08-10T18:04:46.569Z"
   },
   {
    "duration": 29,
    "start_time": "2023-08-10T18:04:56.735Z"
   },
   {
    "duration": 52,
    "start_time": "2023-08-10T18:04:56.765Z"
   },
   {
    "duration": 8,
    "start_time": "2023-08-10T18:04:56.819Z"
   },
   {
    "duration": 36,
    "start_time": "2023-08-10T18:04:56.828Z"
   },
   {
    "duration": 35,
    "start_time": "2023-08-10T18:04:56.867Z"
   },
   {
    "duration": 27,
    "start_time": "2023-08-10T18:04:56.904Z"
   },
   {
    "duration": 4383,
    "start_time": "2023-08-10T18:04:56.933Z"
   },
   {
    "duration": 90,
    "start_time": "2023-08-10T18:05:01.318Z"
   },
   {
    "duration": 123,
    "start_time": "2023-08-10T18:05:01.412Z"
   },
   {
    "duration": 95,
    "start_time": "2023-08-10T18:05:01.537Z"
   },
   {
    "duration": 149,
    "start_time": "2023-08-10T18:05:01.635Z"
   },
   {
    "duration": 234,
    "start_time": "2023-08-10T18:05:01.793Z"
   },
   {
    "duration": 219,
    "start_time": "2023-08-10T18:05:02.029Z"
   },
   {
    "duration": 147,
    "start_time": "2023-08-10T18:05:02.249Z"
   },
   {
    "duration": 165,
    "start_time": "2023-08-10T18:05:02.403Z"
   },
   {
    "duration": 78,
    "start_time": "2023-08-10T18:05:02.570Z"
   },
   {
    "duration": 236,
    "start_time": "2023-08-10T18:05:02.649Z"
   },
   {
    "duration": 70,
    "start_time": "2023-08-10T18:05:02.888Z"
   },
   {
    "duration": 185,
    "start_time": "2023-08-10T18:05:02.964Z"
   },
   {
    "duration": 242,
    "start_time": "2023-08-10T18:05:03.158Z"
   },
   {
    "duration": 67,
    "start_time": "2023-08-10T18:05:03.405Z"
   },
   {
    "duration": 266,
    "start_time": "2023-08-10T18:05:03.478Z"
   },
   {
    "duration": 0,
    "start_time": "2023-08-10T18:05:03.748Z"
   },
   {
    "duration": 0,
    "start_time": "2023-08-10T18:05:03.760Z"
   },
   {
    "duration": 0,
    "start_time": "2023-08-10T18:05:03.772Z"
   },
   {
    "duration": 0,
    "start_time": "2023-08-10T18:05:03.783Z"
   },
   {
    "duration": 0,
    "start_time": "2023-08-10T18:05:03.788Z"
   },
   {
    "duration": 0,
    "start_time": "2023-08-10T18:05:03.789Z"
   },
   {
    "duration": 0,
    "start_time": "2023-08-10T18:05:03.790Z"
   },
   {
    "duration": 0,
    "start_time": "2023-08-10T18:05:03.800Z"
   },
   {
    "duration": 0,
    "start_time": "2023-08-10T18:05:03.801Z"
   },
   {
    "duration": 16,
    "start_time": "2023-08-10T18:05:53.965Z"
   },
   {
    "duration": 16,
    "start_time": "2023-08-10T18:05:58.518Z"
   },
   {
    "duration": 7,
    "start_time": "2023-08-10T18:06:37.108Z"
   },
   {
    "duration": 17,
    "start_time": "2023-08-10T18:06:42.702Z"
   },
   {
    "duration": 22,
    "start_time": "2023-08-10T18:06:53.233Z"
   },
   {
    "duration": 89,
    "start_time": "2023-08-10T18:06:53.258Z"
   },
   {
    "duration": 78,
    "start_time": "2023-08-10T18:06:53.350Z"
   },
   {
    "duration": 54,
    "start_time": "2023-08-10T18:06:53.429Z"
   },
   {
    "duration": 46,
    "start_time": "2023-08-10T18:06:53.485Z"
   },
   {
    "duration": 82,
    "start_time": "2023-08-10T18:06:53.533Z"
   },
   {
    "duration": 18,
    "start_time": "2023-08-10T18:06:53.618Z"
   },
   {
    "duration": 24,
    "start_time": "2023-08-10T18:06:53.648Z"
   },
   {
    "duration": 65,
    "start_time": "2023-08-10T18:06:53.683Z"
   },
   {
    "duration": 28,
    "start_time": "2023-08-10T19:30:11.965Z"
   },
   {
    "duration": 33,
    "start_time": "2023-08-10T19:34:04.712Z"
   },
   {
    "duration": 17,
    "start_time": "2023-08-10T19:57:01.461Z"
   },
   {
    "duration": 12,
    "start_time": "2023-08-10T19:58:32.257Z"
   },
   {
    "duration": 19,
    "start_time": "2023-08-10T19:59:04.529Z"
   },
   {
    "duration": 18,
    "start_time": "2023-08-10T20:03:12.339Z"
   },
   {
    "duration": 16,
    "start_time": "2023-08-10T20:05:03.658Z"
   },
   {
    "duration": 13,
    "start_time": "2023-08-10T20:05:17.983Z"
   },
   {
    "duration": 13,
    "start_time": "2023-08-10T20:09:12.297Z"
   },
   {
    "duration": 12,
    "start_time": "2023-08-10T20:09:29.025Z"
   },
   {
    "duration": 14,
    "start_time": "2023-08-10T20:09:47.389Z"
   },
   {
    "duration": 15,
    "start_time": "2023-08-10T20:10:04.810Z"
   },
   {
    "duration": 15,
    "start_time": "2023-08-10T20:11:46.629Z"
   },
   {
    "duration": 14,
    "start_time": "2023-08-10T20:12:19.653Z"
   },
   {
    "duration": 16,
    "start_time": "2023-08-10T20:12:52.254Z"
   },
   {
    "duration": 1237,
    "start_time": "2023-08-10T21:27:53.433Z"
   },
   {
    "duration": 192,
    "start_time": "2023-08-10T21:27:54.672Z"
   },
   {
    "duration": 29,
    "start_time": "2023-08-10T21:27:54.866Z"
   },
   {
    "duration": 12,
    "start_time": "2023-08-10T21:27:54.898Z"
   },
   {
    "duration": 3,
    "start_time": "2023-08-10T21:27:54.912Z"
   },
   {
    "duration": 26,
    "start_time": "2023-08-10T21:27:54.938Z"
   },
   {
    "duration": 80,
    "start_time": "2023-08-10T21:27:54.966Z"
   },
   {
    "duration": 13,
    "start_time": "2023-08-10T21:27:55.052Z"
   },
   {
    "duration": 124,
    "start_time": "2023-08-10T21:27:55.067Z"
   },
   {
    "duration": 115,
    "start_time": "2023-08-10T21:27:55.194Z"
   },
   {
    "duration": 29,
    "start_time": "2023-08-10T21:27:55.310Z"
   },
   {
    "duration": 36,
    "start_time": "2023-08-10T21:27:55.341Z"
   },
   {
    "duration": 11,
    "start_time": "2023-08-10T21:27:55.379Z"
   },
   {
    "duration": 16,
    "start_time": "2023-08-10T21:27:55.391Z"
   },
   {
    "duration": 54,
    "start_time": "2023-08-10T21:27:55.409Z"
   },
   {
    "duration": 7,
    "start_time": "2023-08-10T21:27:55.464Z"
   },
   {
    "duration": 17,
    "start_time": "2023-08-10T21:27:55.472Z"
   },
   {
    "duration": 242,
    "start_time": "2023-08-10T21:27:55.491Z"
   },
   {
    "duration": 30,
    "start_time": "2023-08-10T21:27:55.734Z"
   },
   {
    "duration": 6,
    "start_time": "2023-08-10T21:27:55.765Z"
   },
   {
    "duration": 13,
    "start_time": "2023-08-10T21:27:55.773Z"
   },
   {
    "duration": 679,
    "start_time": "2023-08-10T21:27:55.788Z"
   },
   {
    "duration": 8381,
    "start_time": "2023-08-10T21:27:56.469Z"
   },
   {
    "duration": 18,
    "start_time": "2023-08-10T21:28:04.852Z"
   },
   {
    "duration": 11,
    "start_time": "2023-08-10T21:28:04.872Z"
   },
   {
    "duration": 14,
    "start_time": "2023-08-10T21:28:04.884Z"
   },
   {
    "duration": 17,
    "start_time": "2023-08-10T21:28:04.900Z"
   },
   {
    "duration": 28,
    "start_time": "2023-08-10T21:28:04.920Z"
   },
   {
    "duration": 37,
    "start_time": "2023-08-10T21:28:04.957Z"
   },
   {
    "duration": 2985,
    "start_time": "2023-08-10T21:28:04.995Z"
   },
   {
    "duration": 61,
    "start_time": "2023-08-10T21:28:07.981Z"
   },
   {
    "duration": 107,
    "start_time": "2023-08-10T21:28:08.043Z"
   },
   {
    "duration": 57,
    "start_time": "2023-08-10T21:28:08.152Z"
   },
   {
    "duration": 77,
    "start_time": "2023-08-10T21:28:08.211Z"
   },
   {
    "duration": 131,
    "start_time": "2023-08-10T21:28:08.290Z"
   },
   {
    "duration": 155,
    "start_time": "2023-08-10T21:28:08.422Z"
   },
   {
    "duration": 73,
    "start_time": "2023-08-10T21:28:08.579Z"
   },
   {
    "duration": 61,
    "start_time": "2023-08-10T21:28:08.654Z"
   },
   {
    "duration": 63,
    "start_time": "2023-08-10T21:28:08.717Z"
   },
   {
    "duration": 42,
    "start_time": "2023-08-10T21:28:08.781Z"
   },
   {
    "duration": 18,
    "start_time": "2023-08-10T21:28:08.837Z"
   },
   {
    "duration": 48,
    "start_time": "2023-08-10T21:28:08.857Z"
   },
   {
    "duration": 105,
    "start_time": "2023-08-10T21:28:08.907Z"
   },
   {
    "duration": 6,
    "start_time": "2023-08-10T21:28:09.013Z"
   },
   {
    "duration": 35,
    "start_time": "2023-08-10T21:28:09.020Z"
   },
   {
    "duration": 13,
    "start_time": "2023-08-10T21:28:09.058Z"
   },
   {
    "duration": 11,
    "start_time": "2023-08-10T21:28:09.074Z"
   },
   {
    "duration": 31,
    "start_time": "2023-08-10T21:28:09.087Z"
   },
   {
    "duration": 42,
    "start_time": "2023-08-10T21:28:09.120Z"
   },
   {
    "duration": 10,
    "start_time": "2023-08-10T21:28:09.164Z"
   },
   {
    "duration": 25,
    "start_time": "2023-08-10T21:28:09.176Z"
   },
   {
    "duration": 15,
    "start_time": "2023-08-10T21:28:09.202Z"
   },
   {
    "duration": 14,
    "start_time": "2023-08-10T21:28:09.218Z"
   },
   {
    "duration": 41,
    "start_time": "2023-08-10T21:28:09.233Z"
   },
   {
    "duration": 1267,
    "start_time": "2023-08-10T21:41:04.431Z"
   },
   {
    "duration": 168,
    "start_time": "2023-08-10T21:41:05.700Z"
   },
   {
    "duration": 19,
    "start_time": "2023-08-10T21:41:05.870Z"
   },
   {
    "duration": 42,
    "start_time": "2023-08-10T21:41:05.891Z"
   },
   {
    "duration": 30,
    "start_time": "2023-08-10T21:41:05.936Z"
   },
   {
    "duration": 59,
    "start_time": "2023-08-10T21:41:05.967Z"
   },
   {
    "duration": 118,
    "start_time": "2023-08-10T21:41:06.028Z"
   },
   {
    "duration": 16,
    "start_time": "2023-08-10T21:41:06.148Z"
   },
   {
    "duration": 101,
    "start_time": "2023-08-10T21:41:06.165Z"
   },
   {
    "duration": 113,
    "start_time": "2023-08-10T21:41:06.268Z"
   },
   {
    "duration": 21,
    "start_time": "2023-08-10T21:41:06.383Z"
   },
   {
    "duration": 60,
    "start_time": "2023-08-10T21:41:06.406Z"
   },
   {
    "duration": 11,
    "start_time": "2023-08-10T21:41:06.467Z"
   },
   {
    "duration": 27,
    "start_time": "2023-08-10T21:41:06.482Z"
   },
   {
    "duration": 47,
    "start_time": "2023-08-10T21:41:06.510Z"
   },
   {
    "duration": 11,
    "start_time": "2023-08-10T21:41:06.560Z"
   },
   {
    "duration": 38,
    "start_time": "2023-08-10T21:41:06.572Z"
   },
   {
    "duration": 201,
    "start_time": "2023-08-10T21:41:06.611Z"
   },
   {
    "duration": 9,
    "start_time": "2023-08-10T21:41:06.814Z"
   },
   {
    "duration": 32,
    "start_time": "2023-08-10T21:41:06.824Z"
   },
   {
    "duration": 20,
    "start_time": "2023-08-10T21:41:06.857Z"
   },
   {
    "duration": 604,
    "start_time": "2023-08-10T21:41:06.879Z"
   },
   {
    "duration": 8572,
    "start_time": "2023-08-10T21:41:07.485Z"
   },
   {
    "duration": 14,
    "start_time": "2023-08-10T21:41:16.059Z"
   },
   {
    "duration": 13,
    "start_time": "2023-08-10T21:41:16.074Z"
   },
   {
    "duration": 6,
    "start_time": "2023-08-10T21:41:16.088Z"
   },
   {
    "duration": 13,
    "start_time": "2023-08-10T21:41:16.095Z"
   },
   {
    "duration": 14,
    "start_time": "2023-08-10T21:41:16.109Z"
   },
   {
    "duration": 38,
    "start_time": "2023-08-10T21:41:16.125Z"
   },
   {
    "duration": 3013,
    "start_time": "2023-08-10T21:41:16.165Z"
   },
   {
    "duration": 66,
    "start_time": "2023-08-10T21:41:19.179Z"
   },
   {
    "duration": 111,
    "start_time": "2023-08-10T21:41:19.247Z"
   },
   {
    "duration": 54,
    "start_time": "2023-08-10T21:41:19.360Z"
   },
   {
    "duration": 89,
    "start_time": "2023-08-10T21:41:19.416Z"
   },
   {
    "duration": 128,
    "start_time": "2023-08-10T21:41:19.507Z"
   },
   {
    "duration": 167,
    "start_time": "2023-08-10T21:41:19.638Z"
   },
   {
    "duration": 49,
    "start_time": "2023-08-10T21:41:19.837Z"
   },
   {
    "duration": 78,
    "start_time": "2023-08-10T21:41:19.887Z"
   },
   {
    "duration": 48,
    "start_time": "2023-08-10T21:41:19.967Z"
   },
   {
    "duration": 58,
    "start_time": "2023-08-10T21:41:20.017Z"
   },
   {
    "duration": 13,
    "start_time": "2023-08-10T21:41:20.080Z"
   },
   {
    "duration": 67,
    "start_time": "2023-08-10T21:41:20.094Z"
   },
   {
    "duration": 99,
    "start_time": "2023-08-10T21:41:20.163Z"
   },
   {
    "duration": 5,
    "start_time": "2023-08-10T21:41:20.263Z"
   },
   {
    "duration": 14,
    "start_time": "2023-08-10T21:41:20.270Z"
   },
   {
    "duration": 10,
    "start_time": "2023-08-10T21:41:20.285Z"
   },
   {
    "duration": 10,
    "start_time": "2023-08-10T21:41:20.296Z"
   },
   {
    "duration": 35,
    "start_time": "2023-08-10T21:41:20.307Z"
   },
   {
    "duration": 24,
    "start_time": "2023-08-10T21:41:20.344Z"
   },
   {
    "duration": 4,
    "start_time": "2023-08-10T21:41:20.369Z"
   },
   {
    "duration": 17,
    "start_time": "2023-08-10T21:41:20.374Z"
   },
   {
    "duration": 9,
    "start_time": "2023-08-10T21:41:20.393Z"
   },
   {
    "duration": 11,
    "start_time": "2023-08-10T21:41:20.403Z"
   },
   {
    "duration": 9,
    "start_time": "2023-08-10T21:41:20.437Z"
   },
   {
    "duration": 116,
    "start_time": "2023-08-10T22:00:47.899Z"
   },
   {
    "duration": 4,
    "start_time": "2023-08-10T22:01:06.242Z"
   },
   {
    "duration": 1158,
    "start_time": "2023-08-10T22:01:21.371Z"
   },
   {
    "duration": 159,
    "start_time": "2023-08-10T22:01:22.530Z"
   },
   {
    "duration": 17,
    "start_time": "2023-08-10T22:01:22.691Z"
   },
   {
    "duration": 19,
    "start_time": "2023-08-10T22:01:22.710Z"
   },
   {
    "duration": 19,
    "start_time": "2023-08-10T22:01:22.730Z"
   },
   {
    "duration": 21,
    "start_time": "2023-08-10T22:01:22.751Z"
   },
   {
    "duration": 61,
    "start_time": "2023-08-10T22:01:22.773Z"
   },
   {
    "duration": 24,
    "start_time": "2023-08-10T22:01:22.836Z"
   },
   {
    "duration": 104,
    "start_time": "2023-08-10T22:01:22.862Z"
   },
   {
    "duration": 130,
    "start_time": "2023-08-10T22:01:22.969Z"
   },
   {
    "duration": 20,
    "start_time": "2023-08-10T22:01:23.101Z"
   },
   {
    "duration": 41,
    "start_time": "2023-08-10T22:01:23.123Z"
   },
   {
    "duration": 7,
    "start_time": "2023-08-10T22:01:23.166Z"
   },
   {
    "duration": 44,
    "start_time": "2023-08-10T22:01:23.175Z"
   },
   {
    "duration": 55,
    "start_time": "2023-08-10T22:01:23.221Z"
   },
   {
    "duration": 9,
    "start_time": "2023-08-10T22:01:23.277Z"
   },
   {
    "duration": 48,
    "start_time": "2023-08-10T22:01:23.287Z"
   },
   {
    "duration": 223,
    "start_time": "2023-08-10T22:01:23.337Z"
   },
   {
    "duration": 10,
    "start_time": "2023-08-10T22:01:23.562Z"
   },
   {
    "duration": 18,
    "start_time": "2023-08-10T22:01:23.573Z"
   },
   {
    "duration": 10,
    "start_time": "2023-08-10T22:01:23.593Z"
   },
   {
    "duration": 598,
    "start_time": "2023-08-10T22:01:23.605Z"
   },
   {
    "duration": 8125,
    "start_time": "2023-08-10T22:01:24.204Z"
   },
   {
    "duration": 22,
    "start_time": "2023-08-10T22:01:32.331Z"
   },
   {
    "duration": 20,
    "start_time": "2023-08-10T22:01:32.361Z"
   },
   {
    "duration": 17,
    "start_time": "2023-08-10T22:01:32.383Z"
   },
   {
    "duration": 46,
    "start_time": "2023-08-10T22:01:32.401Z"
   },
   {
    "duration": 29,
    "start_time": "2023-08-10T22:01:32.452Z"
   },
   {
    "duration": 70,
    "start_time": "2023-08-10T22:01:32.483Z"
   },
   {
    "duration": 3001,
    "start_time": "2023-08-10T22:01:32.555Z"
   },
   {
    "duration": 53,
    "start_time": "2023-08-10T22:01:35.558Z"
   },
   {
    "duration": 101,
    "start_time": "2023-08-10T22:01:35.613Z"
   },
   {
    "duration": 68,
    "start_time": "2023-08-10T22:01:35.716Z"
   },
   {
    "duration": 89,
    "start_time": "2023-08-10T22:01:35.786Z"
   },
   {
    "duration": 146,
    "start_time": "2023-08-10T22:01:35.876Z"
   },
   {
    "duration": 170,
    "start_time": "2023-08-10T22:01:36.023Z"
   },
   {
    "duration": 83,
    "start_time": "2023-08-10T22:01:36.194Z"
   },
   {
    "duration": 79,
    "start_time": "2023-08-10T22:01:36.279Z"
   },
   {
    "duration": 44,
    "start_time": "2023-08-10T22:01:36.360Z"
   },
   {
    "duration": 58,
    "start_time": "2023-08-10T22:01:36.406Z"
   },
   {
    "duration": 50,
    "start_time": "2023-08-10T22:01:36.466Z"
   },
   {
    "duration": 71,
    "start_time": "2023-08-10T22:01:36.518Z"
   },
   {
    "duration": 99,
    "start_time": "2023-08-10T22:01:36.590Z"
   },
   {
    "duration": 5,
    "start_time": "2023-08-10T22:01:36.690Z"
   },
   {
    "duration": 25,
    "start_time": "2023-08-10T22:01:36.697Z"
   },
   {
    "duration": 28,
    "start_time": "2023-08-10T22:01:36.723Z"
   },
   {
    "duration": 25,
    "start_time": "2023-08-10T22:01:36.753Z"
   },
   {
    "duration": 11,
    "start_time": "2023-08-10T22:01:36.779Z"
   },
   {
    "duration": 25,
    "start_time": "2023-08-10T22:01:36.791Z"
   },
   {
    "duration": 3,
    "start_time": "2023-08-10T22:01:36.817Z"
   },
   {
    "duration": 26,
    "start_time": "2023-08-10T22:01:36.822Z"
   },
   {
    "duration": 17,
    "start_time": "2023-08-10T22:01:36.854Z"
   },
   {
    "duration": 8,
    "start_time": "2023-08-10T22:01:36.873Z"
   },
   {
    "duration": 10,
    "start_time": "2023-08-10T22:01:36.883Z"
   },
   {
    "duration": 1245,
    "start_time": "2024-04-12T18:08:34.454Z"
   },
   {
    "duration": 298,
    "start_time": "2024-04-12T18:08:35.701Z"
   },
   {
    "duration": 21,
    "start_time": "2024-04-12T18:08:36.000Z"
   },
   {
    "duration": 17,
    "start_time": "2024-04-12T18:08:36.023Z"
   },
   {
    "duration": 6,
    "start_time": "2024-04-12T18:08:36.042Z"
   },
   {
    "duration": 25,
    "start_time": "2024-04-12T18:08:36.050Z"
   },
   {
    "duration": 88,
    "start_time": "2024-04-12T18:08:36.077Z"
   },
   {
    "duration": 10,
    "start_time": "2024-04-12T18:08:36.167Z"
   },
   {
    "duration": 103,
    "start_time": "2024-04-12T18:08:36.178Z"
   },
   {
    "duration": 124,
    "start_time": "2024-04-12T18:08:36.282Z"
   },
   {
    "duration": 30,
    "start_time": "2024-04-12T18:08:36.408Z"
   },
   {
    "duration": 34,
    "start_time": "2024-04-12T18:08:36.439Z"
   },
   {
    "duration": 12,
    "start_time": "2024-04-12T18:08:36.475Z"
   },
   {
    "duration": 20,
    "start_time": "2024-04-12T18:08:36.490Z"
   },
   {
    "duration": 45,
    "start_time": "2024-04-12T18:08:36.512Z"
   },
   {
    "duration": 19,
    "start_time": "2024-04-12T18:08:36.558Z"
   },
   {
    "duration": 27,
    "start_time": "2024-04-12T18:08:36.579Z"
   },
   {
    "duration": 219,
    "start_time": "2024-04-12T18:08:36.608Z"
   },
   {
    "duration": 44,
    "start_time": "2024-04-12T18:08:36.828Z"
   },
   {
    "duration": 5,
    "start_time": "2024-04-12T18:08:36.873Z"
   },
   {
    "duration": 9,
    "start_time": "2024-04-12T18:08:36.880Z"
   },
   {
    "duration": 756,
    "start_time": "2024-04-12T18:08:36.890Z"
   },
   {
    "duration": 8580,
    "start_time": "2024-04-12T18:08:37.647Z"
   },
   {
    "duration": 13,
    "start_time": "2024-04-12T18:08:46.229Z"
   },
   {
    "duration": 34,
    "start_time": "2024-04-12T18:08:46.244Z"
   },
   {
    "duration": 6,
    "start_time": "2024-04-12T18:08:46.280Z"
   },
   {
    "duration": 36,
    "start_time": "2024-04-12T18:08:46.287Z"
   },
   {
    "duration": 16,
    "start_time": "2024-04-12T18:08:46.325Z"
   },
   {
    "duration": 22,
    "start_time": "2024-04-12T18:08:46.343Z"
   },
   {
    "duration": 2715,
    "start_time": "2024-04-12T18:08:46.367Z"
   },
   {
    "duration": 57,
    "start_time": "2024-04-12T18:08:49.084Z"
   },
   {
    "duration": 114,
    "start_time": "2024-04-12T18:08:49.143Z"
   },
   {
    "duration": 52,
    "start_time": "2024-04-12T18:08:49.266Z"
   },
   {
    "duration": 80,
    "start_time": "2024-04-12T18:08:49.319Z"
   },
   {
    "duration": 128,
    "start_time": "2024-04-12T18:08:49.401Z"
   },
   {
    "duration": 159,
    "start_time": "2024-04-12T18:08:49.531Z"
   },
   {
    "duration": 43,
    "start_time": "2024-04-12T18:08:49.692Z"
   },
   {
    "duration": 78,
    "start_time": "2024-04-12T18:08:49.737Z"
   },
   {
    "duration": 56,
    "start_time": "2024-04-12T18:08:49.817Z"
   },
   {
    "duration": 42,
    "start_time": "2024-04-12T18:08:49.875Z"
   },
   {
    "duration": 13,
    "start_time": "2024-04-12T18:08:49.921Z"
   },
   {
    "duration": 63,
    "start_time": "2024-04-12T18:08:49.935Z"
   },
   {
    "duration": 101,
    "start_time": "2024-04-12T18:08:49.999Z"
   },
   {
    "duration": 5,
    "start_time": "2024-04-12T18:08:50.102Z"
   },
   {
    "duration": 17,
    "start_time": "2024-04-12T18:08:50.108Z"
   },
   {
    "duration": 13,
    "start_time": "2024-04-12T18:08:50.127Z"
   },
   {
    "duration": 10,
    "start_time": "2024-04-12T18:08:50.141Z"
   },
   {
    "duration": 12,
    "start_time": "2024-04-12T18:08:50.166Z"
   },
   {
    "duration": 33,
    "start_time": "2024-04-12T18:08:50.179Z"
   },
   {
    "duration": 5,
    "start_time": "2024-04-12T18:08:50.214Z"
   },
   {
    "duration": 19,
    "start_time": "2024-04-12T18:08:50.220Z"
   },
   {
    "duration": 25,
    "start_time": "2024-04-12T18:08:50.241Z"
   },
   {
    "duration": 10,
    "start_time": "2024-04-12T18:08:50.268Z"
   },
   {
    "duration": 17,
    "start_time": "2024-04-12T18:08:50.279Z"
   },
   {
    "duration": 1394,
    "start_time": "2024-04-13T17:39:12.561Z"
   },
   {
    "duration": 818,
    "start_time": "2024-04-13T17:39:13.957Z"
   },
   {
    "duration": 25,
    "start_time": "2024-04-13T17:39:14.777Z"
   },
   {
    "duration": 11,
    "start_time": "2024-04-13T17:39:14.804Z"
   },
   {
    "duration": 14,
    "start_time": "2024-04-13T17:39:14.817Z"
   },
   {
    "duration": 15,
    "start_time": "2024-04-13T17:39:14.833Z"
   },
   {
    "duration": 91,
    "start_time": "2024-04-13T17:39:14.850Z"
   },
   {
    "duration": 12,
    "start_time": "2024-04-13T17:39:14.943Z"
   },
   {
    "duration": 109,
    "start_time": "2024-04-13T17:39:14.957Z"
   },
   {
    "duration": 129,
    "start_time": "2024-04-13T17:39:15.068Z"
   },
   {
    "duration": 41,
    "start_time": "2024-04-13T17:39:15.199Z"
   },
   {
    "duration": 60,
    "start_time": "2024-04-13T17:39:15.242Z"
   },
   {
    "duration": 32,
    "start_time": "2024-04-13T17:39:15.304Z"
   },
   {
    "duration": 67,
    "start_time": "2024-04-13T17:39:15.338Z"
   },
   {
    "duration": 138,
    "start_time": "2024-04-13T17:39:15.407Z"
   },
   {
    "duration": 6,
    "start_time": "2024-04-13T17:39:15.546Z"
   },
   {
    "duration": 56,
    "start_time": "2024-04-13T17:39:15.553Z"
   },
   {
    "duration": 188,
    "start_time": "2024-04-13T17:39:15.611Z"
   },
   {
    "duration": 8,
    "start_time": "2024-04-13T17:39:15.801Z"
   },
   {
    "duration": 10,
    "start_time": "2024-04-13T17:39:15.811Z"
   },
   {
    "duration": 15,
    "start_time": "2024-04-13T17:39:15.823Z"
   },
   {
    "duration": 628,
    "start_time": "2024-04-13T17:39:15.839Z"
   },
   {
    "duration": 8254,
    "start_time": "2024-04-13T17:39:16.469Z"
   },
   {
    "duration": 16,
    "start_time": "2024-04-13T17:39:24.724Z"
   },
   {
    "duration": 24,
    "start_time": "2024-04-13T17:39:24.742Z"
   },
   {
    "duration": 22,
    "start_time": "2024-04-13T17:39:24.768Z"
   },
   {
    "duration": 33,
    "start_time": "2024-04-13T17:39:24.792Z"
   },
   {
    "duration": 37,
    "start_time": "2024-04-13T17:39:24.829Z"
   },
   {
    "duration": 20,
    "start_time": "2024-04-13T17:39:24.868Z"
   },
   {
    "duration": 2645,
    "start_time": "2024-04-13T17:39:24.890Z"
   },
   {
    "duration": 62,
    "start_time": "2024-04-13T17:39:27.537Z"
   },
   {
    "duration": 101,
    "start_time": "2024-04-13T17:39:27.601Z"
   },
   {
    "duration": 52,
    "start_time": "2024-04-13T17:39:27.704Z"
   },
   {
    "duration": 71,
    "start_time": "2024-04-13T17:39:27.758Z"
   },
   {
    "duration": 195,
    "start_time": "2024-04-13T17:39:27.830Z"
   },
   {
    "duration": 0,
    "start_time": "2024-04-13T17:39:28.028Z"
   },
   {
    "duration": 0,
    "start_time": "2024-04-13T17:39:28.029Z"
   },
   {
    "duration": 0,
    "start_time": "2024-04-13T17:39:28.031Z"
   },
   {
    "duration": 0,
    "start_time": "2024-04-13T17:39:28.033Z"
   },
   {
    "duration": 0,
    "start_time": "2024-04-13T17:39:28.034Z"
   },
   {
    "duration": 0,
    "start_time": "2024-04-13T17:39:28.035Z"
   },
   {
    "duration": 0,
    "start_time": "2024-04-13T17:39:28.037Z"
   },
   {
    "duration": 0,
    "start_time": "2024-04-13T17:39:28.038Z"
   },
   {
    "duration": 0,
    "start_time": "2024-04-13T17:39:28.039Z"
   },
   {
    "duration": 1,
    "start_time": "2024-04-13T17:39:28.040Z"
   },
   {
    "duration": 0,
    "start_time": "2024-04-13T17:39:28.042Z"
   },
   {
    "duration": 0,
    "start_time": "2024-04-13T17:39:28.043Z"
   },
   {
    "duration": 0,
    "start_time": "2024-04-13T17:39:28.045Z"
   },
   {
    "duration": 0,
    "start_time": "2024-04-13T17:39:28.046Z"
   },
   {
    "duration": 0,
    "start_time": "2024-04-13T17:39:28.047Z"
   },
   {
    "duration": 0,
    "start_time": "2024-04-13T17:39:28.049Z"
   },
   {
    "duration": 0,
    "start_time": "2024-04-13T17:39:28.075Z"
   },
   {
    "duration": 0,
    "start_time": "2024-04-13T17:39:28.076Z"
   },
   {
    "duration": 0,
    "start_time": "2024-04-13T17:39:28.078Z"
   },
   {
    "duration": 17,
    "start_time": "2024-04-13T17:41:28.368Z"
   },
   {
    "duration": 93,
    "start_time": "2024-04-13T17:42:32.278Z"
   },
   {
    "duration": 0,
    "start_time": "2024-04-13T17:42:32.373Z"
   },
   {
    "duration": 0,
    "start_time": "2024-04-13T17:42:32.374Z"
   },
   {
    "duration": 0,
    "start_time": "2024-04-13T17:42:32.375Z"
   },
   {
    "duration": 0,
    "start_time": "2024-04-13T17:42:32.377Z"
   },
   {
    "duration": 0,
    "start_time": "2024-04-13T17:42:32.378Z"
   },
   {
    "duration": 0,
    "start_time": "2024-04-13T17:42:32.379Z"
   },
   {
    "duration": 0,
    "start_time": "2024-04-13T17:42:32.380Z"
   },
   {
    "duration": 0,
    "start_time": "2024-04-13T17:42:32.381Z"
   },
   {
    "duration": 0,
    "start_time": "2024-04-13T17:42:32.383Z"
   },
   {
    "duration": 0,
    "start_time": "2024-04-13T17:42:32.384Z"
   },
   {
    "duration": 0,
    "start_time": "2024-04-13T17:42:32.385Z"
   },
   {
    "duration": 0,
    "start_time": "2024-04-13T17:42:32.386Z"
   },
   {
    "duration": 0,
    "start_time": "2024-04-13T17:42:32.387Z"
   },
   {
    "duration": 0,
    "start_time": "2024-04-13T17:42:32.389Z"
   },
   {
    "duration": 0,
    "start_time": "2024-04-13T17:42:32.390Z"
   },
   {
    "duration": 0,
    "start_time": "2024-04-13T17:42:32.391Z"
   },
   {
    "duration": 0,
    "start_time": "2024-04-13T17:42:32.392Z"
   },
   {
    "duration": 94,
    "start_time": "2024-04-13T17:42:32.395Z"
   },
   {
    "duration": 0,
    "start_time": "2024-04-13T17:42:32.491Z"
   },
   {
    "duration": 0,
    "start_time": "2024-04-13T17:42:32.492Z"
   },
   {
    "duration": 0,
    "start_time": "2024-04-13T17:42:32.493Z"
   },
   {
    "duration": 0,
    "start_time": "2024-04-13T17:42:32.494Z"
   },
   {
    "duration": 0,
    "start_time": "2024-04-13T17:42:32.495Z"
   },
   {
    "duration": 0,
    "start_time": "2024-04-13T17:42:32.496Z"
   },
   {
    "duration": 0,
    "start_time": "2024-04-13T17:42:32.496Z"
   },
   {
    "duration": 0,
    "start_time": "2024-04-13T17:42:32.497Z"
   },
   {
    "duration": 0,
    "start_time": "2024-04-13T17:42:32.498Z"
   },
   {
    "duration": 0,
    "start_time": "2024-04-13T17:42:32.499Z"
   },
   {
    "duration": 0,
    "start_time": "2024-04-13T17:42:32.500Z"
   },
   {
    "duration": 0,
    "start_time": "2024-04-13T17:42:32.501Z"
   },
   {
    "duration": 0,
    "start_time": "2024-04-13T17:42:32.502Z"
   },
   {
    "duration": 0,
    "start_time": "2024-04-13T17:42:32.503Z"
   },
   {
    "duration": 0,
    "start_time": "2024-04-13T17:42:32.504Z"
   },
   {
    "duration": 0,
    "start_time": "2024-04-13T17:42:32.506Z"
   },
   {
    "duration": 1,
    "start_time": "2024-04-13T17:42:32.506Z"
   },
   {
    "duration": 0,
    "start_time": "2024-04-13T17:42:32.507Z"
   },
   {
    "duration": 0,
    "start_time": "2024-04-13T17:42:32.508Z"
   },
   {
    "duration": 0,
    "start_time": "2024-04-13T17:42:32.509Z"
   },
   {
    "duration": 0,
    "start_time": "2024-04-13T17:42:32.511Z"
   },
   {
    "duration": 0,
    "start_time": "2024-04-13T17:42:32.512Z"
   },
   {
    "duration": 0,
    "start_time": "2024-04-13T17:42:32.513Z"
   },
   {
    "duration": 64,
    "start_time": "2024-04-13T17:42:32.515Z"
   },
   {
    "duration": 0,
    "start_time": "2024-04-13T17:42:32.581Z"
   },
   {
    "duration": 0,
    "start_time": "2024-04-13T17:42:32.582Z"
   },
   {
    "duration": 0,
    "start_time": "2024-04-13T17:42:32.583Z"
   },
   {
    "duration": 0,
    "start_time": "2024-04-13T17:42:32.584Z"
   },
   {
    "duration": 0,
    "start_time": "2024-04-13T17:42:32.585Z"
   },
   {
    "duration": 0,
    "start_time": "2024-04-13T17:42:32.586Z"
   },
   {
    "duration": 0,
    "start_time": "2024-04-13T17:42:32.587Z"
   },
   {
    "duration": 0,
    "start_time": "2024-04-13T17:42:32.588Z"
   },
   {
    "duration": 0,
    "start_time": "2024-04-13T17:42:32.588Z"
   },
   {
    "duration": 0,
    "start_time": "2024-04-13T17:42:32.589Z"
   },
   {
    "duration": 0,
    "start_time": "2024-04-13T17:42:32.590Z"
   },
   {
    "duration": 7925,
    "start_time": "2024-04-13T17:42:52.443Z"
   },
   {
    "duration": 2535,
    "start_time": "2024-04-13T17:43:15.476Z"
   },
   {
    "duration": 179,
    "start_time": "2024-04-13T17:43:18.013Z"
   },
   {
    "duration": 21,
    "start_time": "2024-04-13T17:43:18.193Z"
   },
   {
    "duration": 10,
    "start_time": "2024-04-13T17:43:18.217Z"
   },
   {
    "duration": 25,
    "start_time": "2024-04-13T17:43:18.229Z"
   },
   {
    "duration": 30,
    "start_time": "2024-04-13T17:43:18.255Z"
   },
   {
    "duration": 83,
    "start_time": "2024-04-13T17:43:18.287Z"
   },
   {
    "duration": 11,
    "start_time": "2024-04-13T17:43:18.372Z"
   },
   {
    "duration": 114,
    "start_time": "2024-04-13T17:43:18.384Z"
   },
   {
    "duration": 97,
    "start_time": "2024-04-13T17:43:18.500Z"
   },
   {
    "duration": 25,
    "start_time": "2024-04-13T17:43:18.599Z"
   },
   {
    "duration": 29,
    "start_time": "2024-04-13T17:43:18.625Z"
   },
   {
    "duration": 25,
    "start_time": "2024-04-13T17:43:18.655Z"
   },
   {
    "duration": 21,
    "start_time": "2024-04-13T17:43:18.682Z"
   },
   {
    "duration": 36,
    "start_time": "2024-04-13T17:43:18.704Z"
   },
   {
    "duration": 6,
    "start_time": "2024-04-13T17:43:18.742Z"
   },
   {
    "duration": 29,
    "start_time": "2024-04-13T17:43:18.749Z"
   },
   {
    "duration": 202,
    "start_time": "2024-04-13T17:43:18.780Z"
   },
   {
    "duration": 8,
    "start_time": "2024-04-13T17:43:18.983Z"
   },
   {
    "duration": 45,
    "start_time": "2024-04-13T17:43:18.993Z"
   },
   {
    "duration": 25,
    "start_time": "2024-04-13T17:43:19.039Z"
   },
   {
    "duration": 669,
    "start_time": "2024-04-13T17:43:19.066Z"
   },
   {
    "duration": 8272,
    "start_time": "2024-04-13T17:43:19.736Z"
   },
   {
    "duration": 16,
    "start_time": "2024-04-13T17:43:28.009Z"
   },
   {
    "duration": 12,
    "start_time": "2024-04-13T17:43:28.026Z"
   },
   {
    "duration": 6,
    "start_time": "2024-04-13T17:43:28.040Z"
   },
   {
    "duration": 38,
    "start_time": "2024-04-13T17:43:28.047Z"
   },
   {
    "duration": 10,
    "start_time": "2024-04-13T17:43:28.089Z"
   },
   {
    "duration": 19,
    "start_time": "2024-04-13T17:43:28.100Z"
   },
   {
    "duration": 2741,
    "start_time": "2024-04-13T17:43:28.120Z"
   },
   {
    "duration": 60,
    "start_time": "2024-04-13T17:43:30.863Z"
   },
   {
    "duration": 98,
    "start_time": "2024-04-13T17:43:30.925Z"
   },
   {
    "duration": 67,
    "start_time": "2024-04-13T17:43:31.025Z"
   },
   {
    "duration": 99,
    "start_time": "2024-04-13T17:43:31.093Z"
   },
   {
    "duration": 1408,
    "start_time": "2024-04-13T17:43:31.194Z"
   },
   {
    "duration": 140,
    "start_time": "2024-04-13T17:43:32.605Z"
   },
   {
    "duration": 1864,
    "start_time": "2024-04-13T17:43:32.747Z"
   },
   {
    "duration": 66,
    "start_time": "2024-04-13T17:43:34.612Z"
   },
   {
    "duration": 42,
    "start_time": "2024-04-13T17:43:34.680Z"
   },
   {
    "duration": 60,
    "start_time": "2024-04-13T17:43:34.723Z"
   },
   {
    "duration": 130,
    "start_time": "2024-04-13T17:43:34.785Z"
   },
   {
    "duration": 82,
    "start_time": "2024-04-13T17:43:34.917Z"
   },
   {
    "duration": 109,
    "start_time": "2024-04-13T17:43:35.001Z"
   },
   {
    "duration": 5,
    "start_time": "2024-04-13T17:43:35.112Z"
   },
   {
    "duration": 35,
    "start_time": "2024-04-13T17:43:35.118Z"
   },
   {
    "duration": 35,
    "start_time": "2024-04-13T17:43:35.155Z"
   },
   {
    "duration": 14,
    "start_time": "2024-04-13T17:43:35.192Z"
   },
   {
    "duration": 29,
    "start_time": "2024-04-13T17:43:35.207Z"
   },
   {
    "duration": 28,
    "start_time": "2024-04-13T17:43:35.237Z"
   },
   {
    "duration": 21,
    "start_time": "2024-04-13T17:43:35.267Z"
   },
   {
    "duration": 46,
    "start_time": "2024-04-13T17:43:35.290Z"
   },
   {
    "duration": 12,
    "start_time": "2024-04-13T17:43:35.338Z"
   },
   {
    "duration": 23,
    "start_time": "2024-04-13T17:43:35.351Z"
   },
   {
    "duration": 11,
    "start_time": "2024-04-13T17:43:35.376Z"
   }
  ],
  "kernelspec": {
   "display_name": "Python 3 (ipykernel)",
   "language": "python",
   "name": "python3"
  },
  "language_info": {
   "codemirror_mode": {
    "name": "ipython",
    "version": 3
   },
   "file_extension": ".py",
   "mimetype": "text/x-python",
   "name": "python",
   "nbconvert_exporter": "python",
   "pygments_lexer": "ipython3",
   "version": "3.10.9"
  },
  "toc": {
   "base_numbering": 1,
   "nav_menu": {},
   "number_sections": true,
   "sideBar": true,
   "skip_h1_title": true,
   "title_cell": "Table of Contents",
   "title_sidebar": "Contents",
   "toc_cell": false,
   "toc_position": {
    "height": "calc(100% - 180px)",
    "left": "10px",
    "top": "150px",
    "width": "330.667px"
   },
   "toc_section_display": true,
   "toc_window_display": true
  }
 },
 "nbformat": 4,
 "nbformat_minor": 2
}
